{
 "nbformat": 4,
 "nbformat_minor": 0,
 "metadata": {
  "colab": {
   "provenance": [],
   "toc_visible": true,
   "authorship_tag": "ABX9TyN24m9xH22dr+6z4n5w+0Nx"
  },
  "kernelspec": {
   "name": "python3",
   "display_name": "Python 3 (ipykernel)",
   "language": "python"
  },
  "language_info": {
   "name": "python"
  }
 },
 "cells": [
  {
   "cell_type": "markdown",
   "source": [
    "# Named Entity Recognition (NER)"
   ],
   "metadata": {
    "id": "_XxTOWUlGmT0"
   }
  },
  {
   "cell_type": "markdown",
   "source": [
    "## What is it?\n"
   ],
   "metadata": {
    "id": "tC4k5e_XGzYz"
   }
  },
  {
   "cell_type": "markdown",
   "source": [
    "Named Entity Recognition (NER) is a subtask of information extraction that seeks to locate and classify named entities mentioned in unstructured text into predefined categories such as:\n",
    "\n",
    "* Person: Names of individuals (e.g., “Barack Obama”)\n",
    "* Organization: Names of companies, institutions, agencies, etc. (e.g., “OpenAI”, “Google”)\n",
    "* Location: Names of geographical locations (e.g., “Paris”, “Mount Everest”)\n",
    "* Date and Time: Expressions of dates and times (e.g., “January 1, 2020”, “3:00 PM”)\n",
    "* Monetary Values: Amounts of money (e.g., “$100”, “€20”)\n",
    "* Percentages: Percentage values (e.g., “50%”)\n",
    "* Miscellaneous: Other categories of named entities (e.g., product names, event names)"
   ],
   "metadata": {
    "id": "y63i6rfJHC52"
   }
  },
  {
   "cell_type": "code",
   "source": [],
   "metadata": {
    "id": "gTn41hepGuE0"
   },
   "execution_count": null,
   "outputs": []
  },
  {
   "cell_type": "markdown",
   "source": [
    "## What for?"
   ],
   "metadata": {
    "id": "Jngpu_PmG3Mt"
   }
  },
  {
   "cell_type": "markdown",
   "source": [
    "Uses of NER\n",
    "\n",
    "\n",
    "\t1.Information Extraction Automatically extracting structured information from unstructured text, such as identifying key entities in news articles or medical reports.\n",
    "\t\n",
    "\t2.Search and Information Retrieval Enhancing search engines to understand and retrieve information about specific entities, improving the relevance of search results.\n",
    "\t\n",
    "\t3.Question Answering Systems Building systems that can answer questions posed in natural language by identifying entities within the question and retrieving relevant information.\n",
    "\t\n",
    "\t4.Document Summarization Improving the quality of text summarization by identifying and highlighting important entities within the text.\n",
    "\t\n",
    "\t5.Content Recommendation Providing personalized content recommendations based on entities mentioned in a user’s reading history or search queries.\n",
    "\t\n",
    "\t6.Customer Support Automation Enhancing chatbots and virtual assistants to understand and respond to user queries by recognizing entities within the conversation.\n",
    "\t\n",
    "\t7.Machine Translation Improving the accuracy of translating names and other entities by recognizing and properly handling them.\n",
    "\t\n",
    "\t8.Social Media Analysis Monitoring and analyzing trends and sentiments about specific entities on social media platforms.\n",
    "\t\n",
    "\t9.Fraud Detection Identifying suspicious entities in financial transactions and communications.\n",
    "\t\n",
    "\t10.Legal Document Processing Extracting relevant entities from legal documents to assist in legal research and case management.\n",
    "\t"
   ],
   "metadata": {
    "id": "1w0opbT3HS6h"
   }
  },
  {
   "cell_type": "code",
   "source": [],
   "metadata": {
    "id": "-4RIWFqtG52a"
   },
   "execution_count": null,
   "outputs": []
  },
  {
   "cell_type": "markdown",
   "source": [
    "## Example"
   ],
   "metadata": {
    "id": "imkdKR9cHiYt"
   }
  },
  {
   "cell_type": "markdown",
   "source": [
    "Consider the sentence: “Apple Inc. was founded by Steve Jobs in Cupertino, California, on April 1, 1976.”\n",
    "\n",
    "NER would identify:\n",
    "* Organization: “Apple Inc.”\n",
    "* Person: “Steve Jobs”\n",
    "* Location: “Cupertino, California”\n",
    "* Date: “April 1, 1976”\n",
    "\n",
    "By identifying these entities, NER helps in understanding the key components of the text, making it easier to organize, search, and analyze large amounts of unstructured data."
   ],
   "metadata": {
    "id": "aDgWBRZ5HkGV"
   }
  },
  {
   "cell_type": "markdown",
   "source": [
    "## How to do it?"
   ],
   "metadata": {
    "id": "KJ6WjSc6G6V7"
   }
  },
  {
   "cell_type": "markdown",
   "source": [
    "### Packages\n",
    "\n",
    "* spaCy"
   ],
   "metadata": {
    "id": "k0QsX9fRKrDT"
   }
  },
  {
   "cell_type": "code",
   "source": "",
   "metadata": {
    "id": "gfX6GnC_KuwN"
   },
   "execution_count": null,
   "outputs": []
  },
  {
   "cell_type": "markdown",
   "source": [
    "### Examples"
   ],
   "metadata": {
    "id": "thjtP54CKwek"
   }
  },
  {
   "cell_type": "code",
   "source": [
    "import spacy\n",
    "from spacy.training import Example"
   ],
   "metadata": {
    "id": "1I81XRrBKyHC",
    "ExecuteTime": {
     "end_time": "2024-07-14T17:43:20.731186Z",
     "start_time": "2024-07-14T17:43:19.142593Z"
    }
   },
   "outputs": [],
   "execution_count": 1
  },
  {
   "metadata": {
    "ExecuteTime": {
     "end_time": "2024-07-14T17:43:20.734207Z",
     "start_time": "2024-07-14T17:43:20.732092Z"
    }
   },
   "cell_type": "code",
   "source": [
    "# print the meaning of the labels\n",
    "print(spacy.explain(\"ORG\"))\n",
    "print(spacy.explain(\"PERSON\"))\n",
    "print(spacy.explain(\"GPE\"))\n",
    "print(spacy.explain(\"DATE\"))\n",
    "print(spacy.explain(\"CARDINAL\"))\n",
    "print(spacy.explain(\"WORK_OF_ART\"))"
   ],
   "outputs": [
    {
     "name": "stdout",
     "output_type": "stream",
     "text": [
      "Companies, agencies, institutions, etc.\n",
      "People, including fictional\n",
      "Countries, cities, states\n",
      "Absolute or relative dates or periods\n",
      "Numerals that do not fall under another type\n",
      "Titles of books, songs, etc.\n"
     ]
    }
   ],
   "execution_count": 2
  },
  {
   "cell_type": "code",
   "source": [
    "# download the model\n",
    "!python -m spacy download en_core_web_sm"
   ],
   "metadata": {
    "id": "v1ALkKkOG80T",
    "ExecuteTime": {
     "end_time": "2024-07-14T17:43:25.707088Z",
     "start_time": "2024-07-14T17:43:20.734903Z"
    }
   },
   "outputs": [
    {
     "name": "stdout",
     "output_type": "stream",
     "text": [
      "Collecting en-core-web-sm==3.7.1\r\n",
      "  Downloading https://github.com/explosion/spacy-models/releases/download/en_core_web_sm-3.7.1/en_core_web_sm-3.7.1-py3-none-any.whl (12.8 MB)\r\n",
      "\u001B[2K     \u001B[90m━━━━━━━━━━━━━━━━━━━━━━━━━━━━━━━━━━━━━━━━\u001B[0m \u001B[32m12.8/12.8 MB\u001B[0m \u001B[31m16.4 MB/s\u001B[0m eta \u001B[36m0:00:00\u001B[0m00:01\u001B[0m00:01\u001B[0m\r\n",
      "\u001B[?25hRequirement already satisfied: spacy<3.8.0,>=3.7.2 in /Users/aymanelsayeed/PycharmProjects/nlplecture/venv/lib/python3.12/site-packages (from en-core-web-sm==3.7.1) (3.7.5)\r\n",
      "Requirement already satisfied: spacy-legacy<3.1.0,>=3.0.11 in /Users/aymanelsayeed/PycharmProjects/nlplecture/venv/lib/python3.12/site-packages (from spacy<3.8.0,>=3.7.2->en-core-web-sm==3.7.1) (3.0.12)\r\n",
      "Requirement already satisfied: spacy-loggers<2.0.0,>=1.0.0 in /Users/aymanelsayeed/PycharmProjects/nlplecture/venv/lib/python3.12/site-packages (from spacy<3.8.0,>=3.7.2->en-core-web-sm==3.7.1) (1.0.5)\r\n",
      "Requirement already satisfied: murmurhash<1.1.0,>=0.28.0 in /Users/aymanelsayeed/PycharmProjects/nlplecture/venv/lib/python3.12/site-packages (from spacy<3.8.0,>=3.7.2->en-core-web-sm==3.7.1) (1.0.10)\r\n",
      "Requirement already satisfied: cymem<2.1.0,>=2.0.2 in /Users/aymanelsayeed/PycharmProjects/nlplecture/venv/lib/python3.12/site-packages (from spacy<3.8.0,>=3.7.2->en-core-web-sm==3.7.1) (2.0.8)\r\n",
      "Requirement already satisfied: preshed<3.1.0,>=3.0.2 in /Users/aymanelsayeed/PycharmProjects/nlplecture/venv/lib/python3.12/site-packages (from spacy<3.8.0,>=3.7.2->en-core-web-sm==3.7.1) (3.0.9)\r\n",
      "Requirement already satisfied: thinc<8.3.0,>=8.2.2 in /Users/aymanelsayeed/PycharmProjects/nlplecture/venv/lib/python3.12/site-packages (from spacy<3.8.0,>=3.7.2->en-core-web-sm==3.7.1) (8.2.5)\r\n",
      "Requirement already satisfied: wasabi<1.2.0,>=0.9.1 in /Users/aymanelsayeed/PycharmProjects/nlplecture/venv/lib/python3.12/site-packages (from spacy<3.8.0,>=3.7.2->en-core-web-sm==3.7.1) (1.1.3)\r\n",
      "Requirement already satisfied: srsly<3.0.0,>=2.4.3 in /Users/aymanelsayeed/PycharmProjects/nlplecture/venv/lib/python3.12/site-packages (from spacy<3.8.0,>=3.7.2->en-core-web-sm==3.7.1) (2.4.8)\r\n",
      "Requirement already satisfied: catalogue<2.1.0,>=2.0.6 in /Users/aymanelsayeed/PycharmProjects/nlplecture/venv/lib/python3.12/site-packages (from spacy<3.8.0,>=3.7.2->en-core-web-sm==3.7.1) (2.0.10)\r\n",
      "Requirement already satisfied: weasel<0.5.0,>=0.1.0 in /Users/aymanelsayeed/PycharmProjects/nlplecture/venv/lib/python3.12/site-packages (from spacy<3.8.0,>=3.7.2->en-core-web-sm==3.7.1) (0.4.1)\r\n",
      "Requirement already satisfied: typer<1.0.0,>=0.3.0 in /Users/aymanelsayeed/PycharmProjects/nlplecture/venv/lib/python3.12/site-packages (from spacy<3.8.0,>=3.7.2->en-core-web-sm==3.7.1) (0.12.3)\r\n",
      "Requirement already satisfied: tqdm<5.0.0,>=4.38.0 in /Users/aymanelsayeed/PycharmProjects/nlplecture/venv/lib/python3.12/site-packages (from spacy<3.8.0,>=3.7.2->en-core-web-sm==3.7.1) (4.66.4)\r\n",
      "Requirement already satisfied: requests<3.0.0,>=2.13.0 in /Users/aymanelsayeed/PycharmProjects/nlplecture/venv/lib/python3.12/site-packages (from spacy<3.8.0,>=3.7.2->en-core-web-sm==3.7.1) (2.32.3)\r\n",
      "Requirement already satisfied: pydantic!=1.8,!=1.8.1,<3.0.0,>=1.7.4 in /Users/aymanelsayeed/PycharmProjects/nlplecture/venv/lib/python3.12/site-packages (from spacy<3.8.0,>=3.7.2->en-core-web-sm==3.7.1) (2.8.2)\r\n",
      "Requirement already satisfied: jinja2 in /Users/aymanelsayeed/PycharmProjects/nlplecture/venv/lib/python3.12/site-packages (from spacy<3.8.0,>=3.7.2->en-core-web-sm==3.7.1) (3.1.4)\r\n",
      "Requirement already satisfied: setuptools in /Users/aymanelsayeed/PycharmProjects/nlplecture/venv/lib/python3.12/site-packages (from spacy<3.8.0,>=3.7.2->en-core-web-sm==3.7.1) (70.2.0)\r\n",
      "Requirement already satisfied: packaging>=20.0 in /Users/aymanelsayeed/PycharmProjects/nlplecture/venv/lib/python3.12/site-packages (from spacy<3.8.0,>=3.7.2->en-core-web-sm==3.7.1) (24.1)\r\n",
      "Requirement already satisfied: langcodes<4.0.0,>=3.2.0 in /Users/aymanelsayeed/PycharmProjects/nlplecture/venv/lib/python3.12/site-packages (from spacy<3.8.0,>=3.7.2->en-core-web-sm==3.7.1) (3.4.0)\r\n",
      "Requirement already satisfied: numpy>=1.19.0 in /Users/aymanelsayeed/PycharmProjects/nlplecture/venv/lib/python3.12/site-packages (from spacy<3.8.0,>=3.7.2->en-core-web-sm==3.7.1) (1.26.4)\r\n",
      "Requirement already satisfied: language-data>=1.2 in /Users/aymanelsayeed/PycharmProjects/nlplecture/venv/lib/python3.12/site-packages (from langcodes<4.0.0,>=3.2.0->spacy<3.8.0,>=3.7.2->en-core-web-sm==3.7.1) (1.2.0)\r\n",
      "Requirement already satisfied: annotated-types>=0.4.0 in /Users/aymanelsayeed/PycharmProjects/nlplecture/venv/lib/python3.12/site-packages (from pydantic!=1.8,!=1.8.1,<3.0.0,>=1.7.4->spacy<3.8.0,>=3.7.2->en-core-web-sm==3.7.1) (0.7.0)\r\n",
      "Requirement already satisfied: pydantic-core==2.20.1 in /Users/aymanelsayeed/PycharmProjects/nlplecture/venv/lib/python3.12/site-packages (from pydantic!=1.8,!=1.8.1,<3.0.0,>=1.7.4->spacy<3.8.0,>=3.7.2->en-core-web-sm==3.7.1) (2.20.1)\r\n",
      "Requirement already satisfied: typing-extensions>=4.6.1 in /Users/aymanelsayeed/PycharmProjects/nlplecture/venv/lib/python3.12/site-packages (from pydantic!=1.8,!=1.8.1,<3.0.0,>=1.7.4->spacy<3.8.0,>=3.7.2->en-core-web-sm==3.7.1) (4.12.2)\r\n",
      "Requirement already satisfied: charset-normalizer<4,>=2 in /Users/aymanelsayeed/PycharmProjects/nlplecture/venv/lib/python3.12/site-packages (from requests<3.0.0,>=2.13.0->spacy<3.8.0,>=3.7.2->en-core-web-sm==3.7.1) (3.3.2)\r\n",
      "Requirement already satisfied: idna<4,>=2.5 in /Users/aymanelsayeed/PycharmProjects/nlplecture/venv/lib/python3.12/site-packages (from requests<3.0.0,>=2.13.0->spacy<3.8.0,>=3.7.2->en-core-web-sm==3.7.1) (3.7)\r\n",
      "Requirement already satisfied: urllib3<3,>=1.21.1 in /Users/aymanelsayeed/PycharmProjects/nlplecture/venv/lib/python3.12/site-packages (from requests<3.0.0,>=2.13.0->spacy<3.8.0,>=3.7.2->en-core-web-sm==3.7.1) (2.2.2)\r\n",
      "Requirement already satisfied: certifi>=2017.4.17 in /Users/aymanelsayeed/PycharmProjects/nlplecture/venv/lib/python3.12/site-packages (from requests<3.0.0,>=2.13.0->spacy<3.8.0,>=3.7.2->en-core-web-sm==3.7.1) (2024.7.4)\r\n",
      "Requirement already satisfied: blis<0.8.0,>=0.7.8 in /Users/aymanelsayeed/PycharmProjects/nlplecture/venv/lib/python3.12/site-packages (from thinc<8.3.0,>=8.2.2->spacy<3.8.0,>=3.7.2->en-core-web-sm==3.7.1) (0.7.11)\r\n",
      "Requirement already satisfied: confection<1.0.0,>=0.0.1 in /Users/aymanelsayeed/PycharmProjects/nlplecture/venv/lib/python3.12/site-packages (from thinc<8.3.0,>=8.2.2->spacy<3.8.0,>=3.7.2->en-core-web-sm==3.7.1) (0.1.5)\r\n",
      "Requirement already satisfied: click>=8.0.0 in /Users/aymanelsayeed/PycharmProjects/nlplecture/venv/lib/python3.12/site-packages (from typer<1.0.0,>=0.3.0->spacy<3.8.0,>=3.7.2->en-core-web-sm==3.7.1) (8.1.7)\r\n",
      "Requirement already satisfied: shellingham>=1.3.0 in /Users/aymanelsayeed/PycharmProjects/nlplecture/venv/lib/python3.12/site-packages (from typer<1.0.0,>=0.3.0->spacy<3.8.0,>=3.7.2->en-core-web-sm==3.7.1) (1.5.4)\r\n",
      "Requirement already satisfied: rich>=10.11.0 in /Users/aymanelsayeed/PycharmProjects/nlplecture/venv/lib/python3.12/site-packages (from typer<1.0.0,>=0.3.0->spacy<3.8.0,>=3.7.2->en-core-web-sm==3.7.1) (13.7.1)\r\n",
      "Requirement already satisfied: cloudpathlib<1.0.0,>=0.7.0 in /Users/aymanelsayeed/PycharmProjects/nlplecture/venv/lib/python3.12/site-packages (from weasel<0.5.0,>=0.1.0->spacy<3.8.0,>=3.7.2->en-core-web-sm==3.7.1) (0.18.1)\r\n",
      "Requirement already satisfied: smart-open<8.0.0,>=5.2.1 in /Users/aymanelsayeed/PycharmProjects/nlplecture/venv/lib/python3.12/site-packages (from weasel<0.5.0,>=0.1.0->spacy<3.8.0,>=3.7.2->en-core-web-sm==3.7.1) (7.0.4)\r\n",
      "Requirement already satisfied: MarkupSafe>=2.0 in /Users/aymanelsayeed/PycharmProjects/nlplecture/venv/lib/python3.12/site-packages (from jinja2->spacy<3.8.0,>=3.7.2->en-core-web-sm==3.7.1) (2.1.5)\r\n",
      "Requirement already satisfied: marisa-trie>=0.7.7 in /Users/aymanelsayeed/PycharmProjects/nlplecture/venv/lib/python3.12/site-packages (from language-data>=1.2->langcodes<4.0.0,>=3.2.0->spacy<3.8.0,>=3.7.2->en-core-web-sm==3.7.1) (1.2.0)\r\n",
      "Requirement already satisfied: markdown-it-py>=2.2.0 in /Users/aymanelsayeed/PycharmProjects/nlplecture/venv/lib/python3.12/site-packages (from rich>=10.11.0->typer<1.0.0,>=0.3.0->spacy<3.8.0,>=3.7.2->en-core-web-sm==3.7.1) (3.0.0)\r\n",
      "Requirement already satisfied: pygments<3.0.0,>=2.13.0 in /Users/aymanelsayeed/PycharmProjects/nlplecture/venv/lib/python3.12/site-packages (from rich>=10.11.0->typer<1.0.0,>=0.3.0->spacy<3.8.0,>=3.7.2->en-core-web-sm==3.7.1) (2.18.0)\r\n",
      "Requirement already satisfied: wrapt in /Users/aymanelsayeed/PycharmProjects/nlplecture/venv/lib/python3.12/site-packages (from smart-open<8.0.0,>=5.2.1->weasel<0.5.0,>=0.1.0->spacy<3.8.0,>=3.7.2->en-core-web-sm==3.7.1) (1.16.0)\r\n",
      "Requirement already satisfied: mdurl~=0.1 in /Users/aymanelsayeed/PycharmProjects/nlplecture/venv/lib/python3.12/site-packages (from markdown-it-py>=2.2.0->rich>=10.11.0->typer<1.0.0,>=0.3.0->spacy<3.8.0,>=3.7.2->en-core-web-sm==3.7.1) (0.1.2)\r\n",
      "\r\n",
      "\u001B[1m[\u001B[0m\u001B[34;49mnotice\u001B[0m\u001B[1;39;49m]\u001B[0m\u001B[39;49m A new release of pip is available: \u001B[0m\u001B[31;49m24.0\u001B[0m\u001B[39;49m -> \u001B[0m\u001B[32;49m24.1.2\u001B[0m\r\n",
      "\u001B[1m[\u001B[0m\u001B[34;49mnotice\u001B[0m\u001B[1;39;49m]\u001B[0m\u001B[39;49m To update, run: \u001B[0m\u001B[32;49mpip install --upgrade pip\u001B[0m\r\n",
      "\u001B[38;5;2m✔ Download and installation successful\u001B[0m\r\n",
      "You can now load the package via spacy.load('en_core_web_sm')\r\n"
     ]
    }
   ],
   "execution_count": 3
  },
  {
   "cell_type": "code",
   "source": [
    "# load the model\n",
    "nlp = spacy.load(\"en_core_web_sm\")"
   ],
   "metadata": {
    "id": "Z5zwVhP1II0s",
    "ExecuteTime": {
     "end_time": "2024-07-14T17:43:26.069662Z",
     "start_time": "2024-07-14T17:43:25.708872Z"
    }
   },
   "outputs": [],
   "execution_count": 4
  },
  {
   "cell_type": "code",
   "source": "example = \"Apple Inc. was founded by Steve Jobs in Cupertino, California, on April 1, 1976.\"",
   "metadata": {
    "id": "pM5tiJSiII9_",
    "ExecuteTime": {
     "end_time": "2024-07-14T17:43:26.071873Z",
     "start_time": "2024-07-14T17:43:26.070271Z"
    }
   },
   "outputs": [],
   "execution_count": 5
  },
  {
   "metadata": {
    "ExecuteTime": {
     "end_time": "2024-07-14T17:43:26.087873Z",
     "start_time": "2024-07-14T17:43:26.072707Z"
    }
   },
   "cell_type": "code",
   "source": [
    "nlp_example = nlp(example)\n",
    "\n",
    "for ent in nlp_example.ents:\n",
    "    print(ent.text, ent.label_)"
   ],
   "outputs": [
    {
     "name": "stdout",
     "output_type": "stream",
     "text": [
      "Apple Inc. ORG\n",
      "Steve Jobs PERSON\n",
      "Cupertino GPE\n",
      "California GPE\n",
      "April 1, 1976 DATE\n"
     ]
    }
   ],
   "execution_count": 6
  },
  {
   "metadata": {},
   "cell_type": "markdown",
   "source": "### Custom Entities"
  },
  {
   "metadata": {
    "ExecuteTime": {
     "end_time": "2024-07-14T17:43:26.090023Z",
     "start_time": "2024-07-14T17:43:26.088505Z"
    }
   },
   "cell_type": "code",
   "source": "#! pip install spacy-lookups-data",
   "outputs": [],
   "execution_count": 7
  },
  {
   "metadata": {
    "ExecuteTime": {
     "end_time": "2024-07-14T17:43:26.193926Z",
     "start_time": "2024-07-14T17:43:26.090727Z"
    }
   },
   "cell_type": "code",
   "source": [
    "\n",
    "# nlp = spacy.blank(\"en\")\n",
    "# ner = nlp.add_pipe(\"ner\")\n",
    "\n",
    "other_pipes = [pipe for pipe in nlp.pipe_names if pipe != \"ner\"]\n",
    "\n",
    "train_data = [\n",
    "    (\"Tokyo Tower is 333m tall.\", [(0, 11, \"BUILDING\")]),\n",
    "]\n",
    "\n",
    "with nlp.disable_pipes(*other_pipes):  # Only train NER\n",
    "    optimizer = nlp.begin_training()\n",
    "    for itn in range(10):  # Number of training iterations\n",
    "        # random.shuffle(train_data)\n",
    "        losses = {}\n",
    "        for text, annotations in train_data:\n",
    "            doc = nlp.make_doc(text)\n",
    "            example = Example.from_dict(doc, annotations)\n",
    "            nlp.update([example], drop=0.5, losses=losses)\n",
    "        # print(losses)\n",
    "\n",
    "\n",
    "# Add new label for NER if it doesn't exist\n",
    "if \"NEW_ENT\" not in nlp.get_pipe(\"ner\").labels:\n",
    "    nlp.get_pipe(\"ner\").add_label(\"NEW_ENT\")\n",
    "    print(\"Label added\")"
   ],
   "outputs": [
    {
     "ename": "TypeError",
     "evalue": "Argument 'example_dict' has incorrect type (expected dict, got list)",
     "output_type": "error",
     "traceback": [
      "\u001B[0;31m---------------------------------------------------------------------------\u001B[0m",
      "\u001B[0;31mTypeError\u001B[0m                                 Traceback (most recent call last)",
      "Cell \u001B[0;32mIn[8], line 19\u001B[0m\n\u001B[1;32m     17\u001B[0m         \u001B[38;5;28;01mfor\u001B[39;00m text, annotations \u001B[38;5;129;01min\u001B[39;00m train_data:\n\u001B[1;32m     18\u001B[0m             doc \u001B[38;5;241m=\u001B[39m nlp\u001B[38;5;241m.\u001B[39mmake_doc(text)\n\u001B[0;32m---> 19\u001B[0m             example \u001B[38;5;241m=\u001B[39m \u001B[43mExample\u001B[49m\u001B[38;5;241;43m.\u001B[39;49m\u001B[43mfrom_dict\u001B[49m\u001B[43m(\u001B[49m\u001B[43mdoc\u001B[49m\u001B[43m,\u001B[49m\u001B[43m \u001B[49m\u001B[43mannotations\u001B[49m\u001B[43m)\u001B[49m\n\u001B[1;32m     20\u001B[0m             nlp\u001B[38;5;241m.\u001B[39mupdate([example], drop\u001B[38;5;241m=\u001B[39m\u001B[38;5;241m0.5\u001B[39m, losses\u001B[38;5;241m=\u001B[39mlosses)\n\u001B[1;32m     21\u001B[0m         \u001B[38;5;66;03m# print(losses)\u001B[39;00m\n\u001B[1;32m     22\u001B[0m \n\u001B[1;32m     23\u001B[0m \n\u001B[1;32m     24\u001B[0m \u001B[38;5;66;03m# Add new label for NER if it doesn't exist\u001B[39;00m\n",
      "\u001B[0;31mTypeError\u001B[0m: Argument 'example_dict' has incorrect type (expected dict, got list)"
     ]
    }
   ],
   "execution_count": 8
  },
  {
   "metadata": {
    "ExecuteTime": {
     "end_time": "2024-07-14T17:43:26.194552Z",
     "start_time": "2024-07-14T17:43:26.194504Z"
    }
   },
   "cell_type": "code",
   "source": "",
   "outputs": [],
   "execution_count": null
  },
  {
   "cell_type": "markdown",
   "source": [
    "## Practise"
   ],
   "metadata": {
    "id": "jic_NEDxIJQO"
   }
  },
  {
   "cell_type": "markdown",
   "source": [
    "### Quiz 1\n",
    "\n",
    "* Read the file `twitter.csv`\n",
    "* create a new column `NER` that contains the named entities recognized in the `tweet` column."
   ],
   "metadata": {
    "id": "e48k1ynvIQQa"
   }
  },
  {
   "cell_type": "code",
   "source": [
    "# write answer here\n",
    "\n"
   ],
   "metadata": {
    "id": "IcGKfrBZIYDT",
    "ExecuteTime": {
     "end_time": "2024-07-14T17:43:27.224787Z",
     "start_time": "2024-07-14T17:43:26.996382Z"
    }
   },
   "outputs": [],
   "execution_count": 9
  },
  {
   "metadata": {
    "ExecuteTime": {
     "end_time": "2024-07-17T10:19:54.788088Z",
     "start_time": "2024-07-17T10:19:54.786849Z"
    }
   },
   "cell_type": "code",
   "source": "",
   "outputs": [],
   "execution_count": null
  },
  {
   "metadata": {
    "ExecuteTime": {
     "end_time": "2024-07-14T17:46:06.649468Z",
     "start_time": "2024-07-14T17:43:31.089520Z"
    }
   },
   "cell_type": "code",
   "source": "",
   "outputs": [],
   "execution_count": 11
  },
  {
   "metadata": {
    "ExecuteTime": {
     "end_time": "2024-07-14T17:46:06.655073Z",
     "start_time": "2024-07-14T17:46:06.650392Z"
    }
   },
   "cell_type": "code",
   "source": "",
   "outputs": [
    {
     "data": {
      "text/plain": [
       "          id  label                                              tweet  \\\n",
       "0          1      0   @user when a father is dysfunctional and is s...   \n",
       "1          2      0  @user @user thanks for #lyft credit i can't us...   \n",
       "2          3      0                                bihday your majesty   \n",
       "3          4      0  #model   i love u take with u all the time in ...   \n",
       "4          5      0             factsguide: society now    #motivation   \n",
       "...      ...    ...                                                ...   \n",
       "31957  31958      0  ate @user isz that youuu?ðððððð...   \n",
       "31958  31959      0    to see nina turner on the airwaves trying to...   \n",
       "31959  31960      0  listening to sad songs on a monday morning otw...   \n",
       "31960  31961      1  @user #sikh #temple vandalised in in #calgary,...   \n",
       "31961  31962      0                   thank you @user for you follow     \n",
       "\n",
       "                                                     NER  \n",
       "0      {'@user when a father is dysfunctional and is ...  \n",
       "1      {'@user @user thanks for #lyft credit i can't ...  \n",
       "2                         {'bihday your majesty': 'ORG'}  \n",
       "3      {'#model   i love u take with u all the time i...  \n",
       "4      {'factsguide: society now    #motivation': 'ORG'}  \n",
       "...                                                  ...  \n",
       "31957  {'ate @user isz that youuu?ððððð...  \n",
       "31958  {'to see nina turner on the airwaves trying to...  \n",
       "31959  {'listening to sad songs on a monday morning o...  \n",
       "31960  {'@user #sikh #temple vandalised in in #calgar...  \n",
       "31961        {'thank you @user for you follow  ': 'ORG'}  \n",
       "\n",
       "[31962 rows x 4 columns]"
      ],
      "text/html": [
       "<div>\n",
       "<style scoped>\n",
       "    .dataframe tbody tr th:only-of-type {\n",
       "        vertical-align: middle;\n",
       "    }\n",
       "\n",
       "    .dataframe tbody tr th {\n",
       "        vertical-align: top;\n",
       "    }\n",
       "\n",
       "    .dataframe thead th {\n",
       "        text-align: right;\n",
       "    }\n",
       "</style>\n",
       "<table border=\"1\" class=\"dataframe\">\n",
       "  <thead>\n",
       "    <tr style=\"text-align: right;\">\n",
       "      <th></th>\n",
       "      <th>id</th>\n",
       "      <th>label</th>\n",
       "      <th>tweet</th>\n",
       "      <th>NER</th>\n",
       "    </tr>\n",
       "  </thead>\n",
       "  <tbody>\n",
       "    <tr>\n",
       "      <th>0</th>\n",
       "      <td>1</td>\n",
       "      <td>0</td>\n",
       "      <td>@user when a father is dysfunctional and is s...</td>\n",
       "      <td>{'@user when a father is dysfunctional and is ...</td>\n",
       "    </tr>\n",
       "    <tr>\n",
       "      <th>1</th>\n",
       "      <td>2</td>\n",
       "      <td>0</td>\n",
       "      <td>@user @user thanks for #lyft credit i can't us...</td>\n",
       "      <td>{'@user @user thanks for #lyft credit i can't ...</td>\n",
       "    </tr>\n",
       "    <tr>\n",
       "      <th>2</th>\n",
       "      <td>3</td>\n",
       "      <td>0</td>\n",
       "      <td>bihday your majesty</td>\n",
       "      <td>{'bihday your majesty': 'ORG'}</td>\n",
       "    </tr>\n",
       "    <tr>\n",
       "      <th>3</th>\n",
       "      <td>4</td>\n",
       "      <td>0</td>\n",
       "      <td>#model   i love u take with u all the time in ...</td>\n",
       "      <td>{'#model   i love u take with u all the time i...</td>\n",
       "    </tr>\n",
       "    <tr>\n",
       "      <th>4</th>\n",
       "      <td>5</td>\n",
       "      <td>0</td>\n",
       "      <td>factsguide: society now    #motivation</td>\n",
       "      <td>{'factsguide: society now    #motivation': 'ORG'}</td>\n",
       "    </tr>\n",
       "    <tr>\n",
       "      <th>...</th>\n",
       "      <td>...</td>\n",
       "      <td>...</td>\n",
       "      <td>...</td>\n",
       "      <td>...</td>\n",
       "    </tr>\n",
       "    <tr>\n",
       "      <th>31957</th>\n",
       "      <td>31958</td>\n",
       "      <td>0</td>\n",
       "      <td>ate @user isz that youuu?ðððððð...</td>\n",
       "      <td>{'ate @user isz that youuu?ððððð...</td>\n",
       "    </tr>\n",
       "    <tr>\n",
       "      <th>31958</th>\n",
       "      <td>31959</td>\n",
       "      <td>0</td>\n",
       "      <td>to see nina turner on the airwaves trying to...</td>\n",
       "      <td>{'to see nina turner on the airwaves trying to...</td>\n",
       "    </tr>\n",
       "    <tr>\n",
       "      <th>31959</th>\n",
       "      <td>31960</td>\n",
       "      <td>0</td>\n",
       "      <td>listening to sad songs on a monday morning otw...</td>\n",
       "      <td>{'listening to sad songs on a monday morning o...</td>\n",
       "    </tr>\n",
       "    <tr>\n",
       "      <th>31960</th>\n",
       "      <td>31961</td>\n",
       "      <td>1</td>\n",
       "      <td>@user #sikh #temple vandalised in in #calgary,...</td>\n",
       "      <td>{'@user #sikh #temple vandalised in in #calgar...</td>\n",
       "    </tr>\n",
       "    <tr>\n",
       "      <th>31961</th>\n",
       "      <td>31962</td>\n",
       "      <td>0</td>\n",
       "      <td>thank you @user for you follow</td>\n",
       "      <td>{'thank you @user for you follow  ': 'ORG'}</td>\n",
       "    </tr>\n",
       "  </tbody>\n",
       "</table>\n",
       "<p>31962 rows × 4 columns</p>\n",
       "</div>"
      ]
     },
     "execution_count": 12,
     "metadata": {},
     "output_type": "execute_result"
    }
   ],
   "execution_count": 12
  },
  {
   "metadata": {
    "ExecuteTime": {
     "end_time": "2024-07-11T09:12:12.239300Z",
     "start_time": "2024-07-11T09:12:12.237748Z"
    }
   },
   "cell_type": "code",
   "source": "",
   "outputs": [],
   "execution_count": 14
  },
  {
   "metadata": {},
   "cell_type": "code",
   "outputs": [],
   "execution_count": null,
   "source": ""
  },
  {
   "cell_type": "markdown",
   "source": [
    "### Quiz 2\n",
    "\n",
    "Fore each tweet, count the number of entities:\n",
    "\n",
    "* ORG\n",
    "* PERSON\n",
    "* GPE\n",
    "* DATE\n",
    "* CARDINAL\n",
    "* WORK_OF_ART\n",
    "* LOC\n",
    "* PRODUCT\n",
    "* EVENT"
   ],
   "metadata": {
    "id": "Kir3QVXVJM0O"
   }
  },
  {
   "cell_type": "code",
   "source": "# write answer here\n",
   "metadata": {
    "id": "rei6FlitJQSE",
    "ExecuteTime": {
     "end_time": "2024-07-11T08:00:22.850389Z",
     "start_time": "2024-07-11T08:00:22.790510Z"
    }
   },
   "outputs": [],
   "execution_count": 22
  },
  {
   "metadata": {
    "ExecuteTime": {
     "end_time": "2024-07-11T08:02:23.262442Z",
     "start_time": "2024-07-11T08:00:23.452244Z"
    }
   },
   "cell_type": "code",
   "source": "",
   "outputs": [],
   "execution_count": 23
  },
  {
   "metadata": {
    "ExecuteTime": {
     "end_time": "2024-07-11T08:50:14.265153Z",
     "start_time": "2024-07-11T08:50:14.263554Z"
    }
   },
   "cell_type": "code",
   "source": "",
   "outputs": [],
   "execution_count": 26
  },
  {
   "cell_type": "markdown",
   "source": [
    "### Quiz 3\n",
    "\n",
    "Write a function take an input text and return training set.\n",
    "\n",
    "For each mention `@` in the text, add a new entity `MENTION`.\n",
    "\n",
    "Example:\n",
    "\n",
    "```python\n",
    "text = \"@elonmusk is the CEO of @Tesla\"\n",
    "```\n",
    "\n",
    "the function returns:\n",
    "\n",
    "```python\n",
    "(\"@elonmusk is the CEO of @Tesla\", {\"entities\": [(0, 8, \"MENTION\"), (24, 29, \"MENTION\")]})\n",
    "```\n"
   ],
   "metadata": {
    "id": "zzaBOITJJew2"
   }
  },
  {
   "cell_type": "code",
   "source": "# write answer here",
   "metadata": {
    "id": "q6rbX7ueJijt",
    "ExecuteTime": {
     "end_time": "2024-07-14T17:46:06.657866Z",
     "start_time": "2024-07-14T17:46:06.655819Z"
    }
   },
   "outputs": [],
   "execution_count": 13
  },
  {
   "metadata": {
    "ExecuteTime": {
     "end_time": "2024-07-11T08:55:56.358777Z",
     "start_time": "2024-07-11T08:55:56.347154Z"
    }
   },
   "cell_type": "code",
   "source": "",
   "outputs": [],
   "execution_count": 4
  },
  {
   "metadata": {
    "ExecuteTime": {
     "end_time": "2024-07-11T09:12:44.463230Z",
     "start_time": "2024-07-11T09:12:44.461862Z"
    }
   },
   "cell_type": "code",
   "source": "",
   "outputs": [],
   "execution_count": 15
  },
  {
   "cell_type": "markdown",
   "source": [
    "### Quiz 4\n",
    "\n",
    "Find all tweets that contains a mention `@`.\n",
    "\n",
    "Save the results in a new Data Frame `df_mentions` or boolean mask.\n",
    "\n",
    "Choose the first 100 rows for training.\n",
    "\n",
    "Apply the function `find_mentions` to crate training data.\n"
   ],
   "metadata": {
    "id": "gsrTmSHSJlCK"
   }
  },
  {
   "cell_type": "code",
   "source": "# write answer here",
   "metadata": {
    "id": "Gn-TeJl9Jnbh"
   },
   "execution_count": null,
   "outputs": []
  },
  {
   "metadata": {},
   "cell_type": "code",
   "outputs": [],
   "execution_count": null,
   "source": ""
  },
  {
   "cell_type": "markdown",
   "source": [
    "### Quiz 5\n",
    "\n",
    "Add a new label `HASHTAG` to the NER pipeline if it doesn't exist."
   ],
   "metadata": {
    "id": "CioCnpCiJovH"
   }
  },
  {
   "cell_type": "code",
   "source": [
    "# Add new label for NER if it doesn't exist\n",
    "# nlp = spacy.blank(\"en\")\n",
    "# ner = nlp.add_pipe(\"ner\")\n",
    "if \"HASHTAG\" not in nlp.get_pipe(\"ner\").labels:\n",
    "    nlp.get_pipe(\"ner\").add_label(\"HASHTAG\")\n",
    "    print(\"Label added\")"
   ],
   "metadata": {
    "id": "8b_9k23RJrQN"
   },
   "execution_count": null,
   "outputs": []
  },
  {
   "cell_type": "markdown",
   "source": [
    "### Quiz 6\n",
    "\n",
    "Train the NER pipeline with the training data."
   ],
   "metadata": {
    "id": "h2GkPrjeJss_"
   }
  },
  {
   "cell_type": "code",
   "source": "# write answer here",
   "metadata": {
    "id": "4yaaGeDlJuEx"
   },
   "execution_count": null,
   "outputs": []
  },
  {
   "cell_type": "markdown",
   "source": [
    "### Quiz 7\n",
    "\n",
    "Create a new column `MenNER` that contains the named entities recognized in the `tweet` column."
   ],
   "metadata": {
    "id": "7aI456TnKCy5"
   }
  },
  {
   "cell_type": "code",
   "source": "# write answer here",
   "metadata": {
    "id": "W_vIYinBKFyY"
   },
   "execution_count": null,
   "outputs": []
  },
  {
   "metadata": {
    "ExecuteTime": {
     "end_time": "2024-07-11T09:23:41.158436Z",
     "start_time": "2024-07-11T09:23:41.154021Z"
    }
   },
   "cell_type": "code",
   "source": "",
   "outputs": [
    {
     "data": {
      "text/plain": [
       "          id  label                                              tweet  \\\n",
       "0          1      0   @user when a father is dysfunctional and is s...   \n",
       "1          2      0  @user @user thanks for #lyft credit i can't us...   \n",
       "2          3      0                                bihday your majesty   \n",
       "3          4      0  #model   i love u take with u all the time in ...   \n",
       "4          5      0             factsguide: society now    #motivation   \n",
       "...      ...    ...                                                ...   \n",
       "31957  31958      0  ate @user isz that youuu?ðððððð...   \n",
       "31958  31959      0    to see nina turner on the airwaves trying to...   \n",
       "31959  31960      0  listening to sad songs on a monday morning otw...   \n",
       "31960  31961      1  @user #sikh #temple vandalised in in #calgary,...   \n",
       "31961  31962      0                   thank you @user for you follow     \n",
       "\n",
       "                       NER3  \n",
       "0      {'@user': 'HASHTAG'}  \n",
       "1      {'@user': 'HASHTAG'}  \n",
       "2                        {}  \n",
       "3                        {}  \n",
       "4                        {}  \n",
       "...                     ...  \n",
       "31957  {'@user': 'HASHTAG'}  \n",
       "31958                    {}  \n",
       "31959                    {}  \n",
       "31960  {'@user': 'HASHTAG'}  \n",
       "31961  {'@user': 'HASHTAG'}  \n",
       "\n",
       "[31962 rows x 4 columns]"
      ],
      "text/html": [
       "<div>\n",
       "<style scoped>\n",
       "    .dataframe tbody tr th:only-of-type {\n",
       "        vertical-align: middle;\n",
       "    }\n",
       "\n",
       "    .dataframe tbody tr th {\n",
       "        vertical-align: top;\n",
       "    }\n",
       "\n",
       "    .dataframe thead th {\n",
       "        text-align: right;\n",
       "    }\n",
       "</style>\n",
       "<table border=\"1\" class=\"dataframe\">\n",
       "  <thead>\n",
       "    <tr style=\"text-align: right;\">\n",
       "      <th></th>\n",
       "      <th>id</th>\n",
       "      <th>label</th>\n",
       "      <th>tweet</th>\n",
       "      <th>NER3</th>\n",
       "    </tr>\n",
       "  </thead>\n",
       "  <tbody>\n",
       "    <tr>\n",
       "      <th>0</th>\n",
       "      <td>1</td>\n",
       "      <td>0</td>\n",
       "      <td>@user when a father is dysfunctional and is s...</td>\n",
       "      <td>{'@user': 'HASHTAG'}</td>\n",
       "    </tr>\n",
       "    <tr>\n",
       "      <th>1</th>\n",
       "      <td>2</td>\n",
       "      <td>0</td>\n",
       "      <td>@user @user thanks for #lyft credit i can't us...</td>\n",
       "      <td>{'@user': 'HASHTAG'}</td>\n",
       "    </tr>\n",
       "    <tr>\n",
       "      <th>2</th>\n",
       "      <td>3</td>\n",
       "      <td>0</td>\n",
       "      <td>bihday your majesty</td>\n",
       "      <td>{}</td>\n",
       "    </tr>\n",
       "    <tr>\n",
       "      <th>3</th>\n",
       "      <td>4</td>\n",
       "      <td>0</td>\n",
       "      <td>#model   i love u take with u all the time in ...</td>\n",
       "      <td>{}</td>\n",
       "    </tr>\n",
       "    <tr>\n",
       "      <th>4</th>\n",
       "      <td>5</td>\n",
       "      <td>0</td>\n",
       "      <td>factsguide: society now    #motivation</td>\n",
       "      <td>{}</td>\n",
       "    </tr>\n",
       "    <tr>\n",
       "      <th>...</th>\n",
       "      <td>...</td>\n",
       "      <td>...</td>\n",
       "      <td>...</td>\n",
       "      <td>...</td>\n",
       "    </tr>\n",
       "    <tr>\n",
       "      <th>31957</th>\n",
       "      <td>31958</td>\n",
       "      <td>0</td>\n",
       "      <td>ate @user isz that youuu?ðððððð...</td>\n",
       "      <td>{'@user': 'HASHTAG'}</td>\n",
       "    </tr>\n",
       "    <tr>\n",
       "      <th>31958</th>\n",
       "      <td>31959</td>\n",
       "      <td>0</td>\n",
       "      <td>to see nina turner on the airwaves trying to...</td>\n",
       "      <td>{}</td>\n",
       "    </tr>\n",
       "    <tr>\n",
       "      <th>31959</th>\n",
       "      <td>31960</td>\n",
       "      <td>0</td>\n",
       "      <td>listening to sad songs on a monday morning otw...</td>\n",
       "      <td>{}</td>\n",
       "    </tr>\n",
       "    <tr>\n",
       "      <th>31960</th>\n",
       "      <td>31961</td>\n",
       "      <td>1</td>\n",
       "      <td>@user #sikh #temple vandalised in in #calgary,...</td>\n",
       "      <td>{'@user': 'HASHTAG'}</td>\n",
       "    </tr>\n",
       "    <tr>\n",
       "      <th>31961</th>\n",
       "      <td>31962</td>\n",
       "      <td>0</td>\n",
       "      <td>thank you @user for you follow</td>\n",
       "      <td>{'@user': 'HASHTAG'}</td>\n",
       "    </tr>\n",
       "  </tbody>\n",
       "</table>\n",
       "<p>31962 rows × 4 columns</p>\n",
       "</div>"
      ]
     },
     "execution_count": 16,
     "metadata": {},
     "output_type": "execute_result"
    }
   ],
   "execution_count": 16
  },
  {
   "cell_type": "markdown",
   "source": [
    "### Quiz 8\n",
    "\n",
    "save the model to disk.\n"
   ],
   "metadata": {
    "id": "oi1cczxKKIFO"
   }
  },
  {
   "cell_type": "code",
   "source": [],
   "metadata": {
    "id": "JA5MZMlcKKhC"
   },
   "execution_count": null,
   "outputs": []
  },
  {
   "cell_type": "markdown",
   "source": [
    "### Quiz 9\n",
    "\n",
    "Solve the questions 3-7 for `Hashtags` instead of `Mentions`.\n",
    "\n",
    "* The new label is `HASHTAG`.\n",
    "* The function is `find_hashtags`.\n",
    "* The new column is `Hashtags`.\n",
    "* Save the model to disk as `HashtagsNER`."
   ],
   "metadata": {
    "id": "MNjWYA12KLwH"
   }
  },
  {
   "cell_type": "code",
   "source": "",
   "metadata": {
    "id": "BMe2_eXeKOXm",
    "ExecuteTime": {
     "end_time": "2024-07-11T09:26:08.196901Z",
     "start_time": "2024-07-11T09:26:08.195431Z"
    }
   },
   "outputs": [],
   "execution_count": 18
  },
  {
   "cell_type": "code",
   "source": [],
   "metadata": {
    "id": "78ZBqiLkKUG2"
   },
   "execution_count": null,
   "outputs": []
  }
 ]
}
