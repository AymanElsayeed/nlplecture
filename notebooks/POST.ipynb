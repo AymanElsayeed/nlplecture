{
 "nbformat": 4,
 "nbformat_minor": 0,
 "metadata": {
  "colab": {
   "provenance": [],
   "toc_visible": true,
   "authorship_tag": "ABX9TyOySQpefIn9imAqGRuNWl2V"
  },
  "kernelspec": {
   "name": "python3",
   "display_name": "Python 3 (ipykernel)",
   "language": "python"
  },
  "language_info": {
   "name": "python"
  }
 },
 "cells": [
  {
   "cell_type": "markdown",
   "source": [
    "# Part of Speech Tagging (POST )"
   ],
   "metadata": {
    "id": "_XxTOWUlGmT0"
   }
  },
  {
   "cell_type": "markdown",
   "source": [
    "## What is it?\n"
   ],
   "metadata": {
    "id": "tC4k5e_XGzYz"
   }
  },
  {
   "cell_type": "markdown",
   "source": [
    "Part-of-Speech Tagging (POS Tagging) is the process of labeling each word in a sentence with its corresponding part of speech, such as noun, verb, adjective, adverb, etc.\n",
    "\n",
    "This helps in understanding the grammatical structure of the sentence.\n",
    "\n",
    "Key Parts of Speech:\n",
    "\n",
    "* Noun (NN): Person, place, thing, or idea (e.g., “dog”, “city”).\n",
    "* Verb (VB): Action or state of being (e.g., “run”, “is”).\n",
    "* Adjective (JJ): Describes or modifies a noun (e.g., “big”, “blue”).\n",
    "* Adverb (RB): Describes or modifies a verb, adjective, or other adverb (e.g., “quickly”, “very”).\n",
    "* Pronoun (PRP): Replaces a noun (e.g., “he”, “they”).\n",
    "* Preposition (IN): Shows relationships between nouns (e.g., “in”, “on”).\n",
    "* Conjunction (CC): Connects words, phrases, or clauses (e.g., “and”, “but”).\n",
    "* Determiner (DT): Introduces a noun (e.g., “the”, “a”).\n",
    "* Interjection (UH): Expresses strong emotion (e.g., “oh”, “wow”)."
   ],
   "metadata": {
    "id": "y63i6rfJHC52"
   }
  },
  {
   "cell_type": "code",
   "source": [],
   "metadata": {
    "id": "gTn41hepGuE0",
    "executionInfo": {
     "status": "ok",
     "timestamp": 1720270717817,
     "user_tz": -180,
     "elapsed": 8,
     "user": {
      "displayName": "Ayman Elsayeed",
      "userId": "03162507700386983715"
     }
    }
   },
   "execution_count": 1,
   "outputs": []
  },
  {
   "cell_type": "markdown",
   "source": [
    "## What for?"
   ],
   "metadata": {
    "id": "Jngpu_PmG3Mt"
   }
  },
  {
   "cell_type": "markdown",
   "source": [
    "Uses of POS Tagging\n",
    "\n",
    "\t1.\tSyntactic Parsing, Helps in building the syntactic structure of sentences (parsing), which is essential for understanding the grammatical relationships between words.\n",
    "\t\n",
    "\t2.\tNamed Entity Recognition (NER), Assists in identifying proper nouns, which are often part of named entities like names of people, organizations, locations, etc.\n",
    "\t\n",
    "\t3.\tInformation Retrieval, Enhances search engines by improving query understanding and matching relevant documents more effectively.\n",
    "\t\n",
    "\t4.\tMachine Translation, Improves the accuracy of translating text from one language to another by preserving grammatical structures.\n",
    "\t\n",
    "\t5.\tText-to-Speech Systems, Aids in determining the correct pronunciation of words based on their part of speech (e.g., “lead” as a noun vs. “lead” as a verb).\n",
    "\t\n",
    "\t6.\tWord Sense Disambiguation, Helps in resolving ambiguity when a word has multiple meanings, by using its part of speech and context.\n",
    "\t\n",
    "\t7.\tSentiment Analysis, Improves the accuracy of sentiment analysis by considering the role of each word in a sentence (e.g., adjectives often carry sentiment).\n",
    "\t\n",
    "\t8.\tCoreference Resolution, Assists in identifying when different words refer to the same entity in a text, which is crucial for understanding the meaning of the text.\n",
    "\t\n",
    "\t9.\tText Summarizatio, Helps in identifying key elements of a sentence, which can be useful for generating summaries.\n",
    "\t\n",
    "\t10.\tGrammar Checking and Correction, Used in applications that check and correct grammatical errors in text.\n",
    "  "
   ],
   "metadata": {
    "id": "1w0opbT3HS6h"
   }
  },
  {
   "cell_type": "code",
   "source": [],
   "metadata": {
    "id": "-4RIWFqtG52a"
   },
   "execution_count": null,
   "outputs": []
  },
  {
   "cell_type": "markdown",
   "source": [
    "## Example"
   ],
   "metadata": {
    "id": "imkdKR9cHiYt"
   }
  },
  {
   "cell_type": "markdown",
   "source": [],
   "metadata": {
    "id": "aDgWBRZ5HkGV"
   }
  },
  {
   "cell_type": "markdown",
   "source": [
    "## How to do it?"
   ],
   "metadata": {
    "id": "KJ6WjSc6G6V7"
   }
  },
  {
   "cell_type": "markdown",
   "source": [
    "### Packages\n",
    "\n",
    "* NLTK\n",
    "* Spacy\n",
    "* TextBlob\n",
    "* Gensim"
   ],
   "metadata": {
    "id": "k0QsX9fRKrDT"
   }
  },
  {
   "cell_type": "code",
   "source": [
    "import nltk\n",
    "import spacy\n",
    "from textblob import TextBlob\n",
    "nltk.download('averaged_perceptron_tagger')"
   ],
   "metadata": {
    "id": "gfX6GnC_KuwN",
    "ExecuteTime": {
     "end_time": "2024-07-11T14:16:39.732738Z",
     "start_time": "2024-07-11T14:16:39.369438Z"
    }
   },
   "outputs": [
    {
     "name": "stderr",
     "output_type": "stream",
     "text": [
      "[nltk_data] Downloading package averaged_perceptron_tagger to\n",
      "[nltk_data]     /Users/aymanelsayeed/nltk_data...\n",
      "[nltk_data]   Package averaged_perceptron_tagger is already up-to-\n",
      "[nltk_data]       date!\n"
     ]
    },
    {
     "data": {
      "text/plain": [
       "True"
      ]
     },
     "execution_count": 28,
     "metadata": {},
     "output_type": "execute_result"
    }
   ],
   "execution_count": 28
  },
  {
   "cell_type": "markdown",
   "source": [
    "### Examples"
   ],
   "metadata": {
    "id": "thjtP54CKwek"
   }
  },
  {
   "cell_type": "code",
   "source": [
    "example = \"The quick brown fox jumps over the lazy dog\"\n",
    "\n",
    "# Tokenize the sentence\n",
    "tokens = nltk.word_tokenize(example)\n",
    "\n",
    "# Apply POS tagging\n",
    "tagged = nltk.pos_tag(tokens)\n",
    "\n",
    "tagged"
   ],
   "metadata": {
    "id": "1I81XRrBKyHC",
    "ExecuteTime": {
     "end_time": "2024-07-11T10:24:49.432501Z",
     "start_time": "2024-07-11T10:24:49.428539Z"
    }
   },
   "outputs": [
    {
     "data": {
      "text/plain": [
       "[('The', 'DT'),\n",
       " ('quick', 'JJ'),\n",
       " ('brown', 'NN'),\n",
       " ('fox', 'NN'),\n",
       " ('jumps', 'VBZ'),\n",
       " ('over', 'IN'),\n",
       " ('the', 'DT'),\n",
       " ('lazy', 'JJ'),\n",
       " ('dog', 'NN')]"
      ]
     },
     "execution_count": 3,
     "metadata": {},
     "output_type": "execute_result"
    }
   ],
   "execution_count": 3
  },
  {
   "cell_type": "code",
   "source": [],
   "metadata": {
    "id": "v1ALkKkOG80T"
   },
   "execution_count": null,
   "outputs": []
  },
  {
   "cell_type": "code",
   "source": [],
   "metadata": {
    "id": "Z5zwVhP1II0s"
   },
   "execution_count": null,
   "outputs": []
  },
  {
   "cell_type": "code",
   "source": [],
   "metadata": {
    "id": "pM5tiJSiII9_"
   },
   "execution_count": null,
   "outputs": []
  },
  {
   "cell_type": "markdown",
   "source": [
    "## Practise"
   ],
   "metadata": {
    "id": "jic_NEDxIJQO"
   }
  },
  {
   "cell_type": "markdown",
   "source": [
    "### Quiz 1\n",
    "\n",
    "* Read one of the datasets from the assets folder\n",
    "\n",
    "\n",
    "Find the number of\n",
    "* VB\n",
    "* VBD\n",
    "* VBG\n",
    "* NNP \n",
    "* ..etc\n",
    "\n",
    "per text"
   ],
   "metadata": {
    "id": "e48k1ynvIQQa"
   }
  },
  {
   "cell_type": "code",
   "source": "# write answer here",
   "metadata": {
    "id": "IcGKfrBZIYDT",
    "ExecuteTime": {
     "end_time": "2024-07-17T10:11:02.240368Z",
     "start_time": "2024-07-17T10:11:02.238913Z"
    }
   },
   "outputs": [],
   "execution_count": 1
  },
  {
   "metadata": {
    "ExecuteTime": {
     "end_time": "2024-07-11T10:28:00.695159Z",
     "start_time": "2024-07-11T10:27:58.392056Z"
    }
   },
   "cell_type": "code",
   "source": "# find number of verbs per text",
   "outputs": [],
   "execution_count": 8
  },
  {
   "metadata": {
    "ExecuteTime": {
     "end_time": "2024-07-17T10:11:09.040429Z",
     "start_time": "2024-07-17T10:11:09.038943Z"
    }
   },
   "cell_type": "code",
   "source": "",
   "outputs": [],
   "execution_count": 1
  },
  {
   "metadata": {
    "ExecuteTime": {
     "end_time": "2024-07-17T10:11:12.487940Z",
     "start_time": "2024-07-17T10:11:12.486615Z"
    }
   },
   "cell_type": "code",
   "source": "",
   "outputs": [],
   "execution_count": 1
  },
  {
   "cell_type": "markdown",
   "source": [
    "### Quiz 2\n",
    "\n",
    "Check the distribution of each part of speech tag in the dataset"
   ],
   "metadata": {
    "id": "Kir3QVXVJM0O"
   }
  },
  {
   "cell_type": "code",
   "source": "",
   "metadata": {
    "id": "rei6FlitJQSE",
    "ExecuteTime": {
     "end_time": "2024-07-17T10:11:24.101196Z",
     "start_time": "2024-07-17T10:11:24.099793Z"
    }
   },
   "outputs": [],
   "execution_count": 1
  },
  {
   "metadata": {
    "ExecuteTime": {
     "end_time": "2024-07-17T10:11:25.937703Z",
     "start_time": "2024-07-17T10:11:25.936019Z"
    }
   },
   "cell_type": "code",
   "source": "",
   "outputs": [],
   "execution_count": 1
  }
 ]
}
