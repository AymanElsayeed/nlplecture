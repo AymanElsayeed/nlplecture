{
 "nbformat": 4,
 "nbformat_minor": 0,
 "metadata": {
  "colab": {
   "provenance": [],
   "toc_visible": true
  },
  "kernelspec": {
   "name": "python3",
   "display_name": "Python 3 (ipykernel)",
   "language": "python"
  },
  "language_info": {
   "name": "python"
  }
 },
 "cells": [
  {
   "cell_type": "markdown",
   "source": [
    "# Vectorizing"
   ],
   "metadata": {
    "id": "_XxTOWUlGmT0"
   }
  },
  {
   "cell_type": "markdown",
   "source": [
    "## What is it?\n"
   ],
   "metadata": {
    "id": "tC4k5e_XGzYz"
   }
  },
  {
   "cell_type": "markdown",
   "source": [
    "Vectorizing in NLP refers to the process of converting text data into numerical vectors that can be used as input to machine learning models.\n",
    "\n",
    "Since machine learning algorithms require numerical input, vectorization is a crucial step in preprocessing text data.\n",
    "\n",
    "Common Vectorization Techniques:\n",
    "\n",
    "\n",
    "1.\tBag of Words (BoW)\n",
    "2.\tTerm Frequency-Inverse Document Frequency (TF-IDF)\n",
    "3.\tN-Grams"
   ],
   "metadata": {
    "id": "y63i6rfJHC52"
   }
  },
  {
   "cell_type": "code",
   "source": [],
   "metadata": {
    "id": "gTn41hepGuE0"
   },
   "execution_count": 1,
   "outputs": []
  },
  {
   "cell_type": "markdown",
   "source": [
    "## What for?"
   ],
   "metadata": {
    "id": "Jngpu_PmG3Mt"
   }
  },
  {
   "cell_type": "markdown",
   "source": [
    "Uses of Vectorizing\n",
    "\n",
    "\t1.Text Classification\n",
    "\t\n",
    "    Converting text into vectors for use in machine learning algorithms to classify text into categories (e.g., spam detection, sentiment analysis).\n",
    "\t\n",
    "    2.Clustering\n",
    "    \n",
    "    Grouping similar documents together based on their vector representations (e.g., topic clustering).\n",
    "\t\n",
    "    3.Information Retrieval\n",
    "    \n",
    "    Matching and ranking documents based on the similarity of their vector representations to a query vector (e.g., search engines).\n",
    "\t\n",
    "    4.Text Similarity\n",
    "    \n",
    "    Measuring how similar two pieces of text are by comparing their vectors (e.g., plagiarism detection).\n",
    "    \n",
    "\t5.Named Entity Recognition (NER)\n",
    "\t\n",
    "    Using word vectors as features in models that identify and classify named entities in text.\n",
    "\t\n",
    "    6.Machine Translation\n",
    "    \n",
    "    Translating text from one language to another by leveraging vector representations to understand the context and semantics.\n",
    "\t\n",
    "    7.Recommendation Systems\n",
    "    \n",
    "    Recommending content based on the similarity of vector representations (e.g., recommending articles or products).\n",
    "\t\n",
    "    8.Question Answering\n",
    "    \n",
    "    Understanding and retrieving relevant answers to questions based on the vectorized representations of text."
   ],
   "metadata": {
    "id": "1w0opbT3HS6h"
   }
  },
  {
   "cell_type": "code",
   "source": [],
   "metadata": {
    "id": "-4RIWFqtG52a"
   },
   "execution_count": 1,
   "outputs": []
  },
  {
   "cell_type": "markdown",
   "source": [
    "## Example"
   ],
   "metadata": {
    "id": "imkdKR9cHiYt"
   }
  },
  {
   "cell_type": "markdown",
   "source": [
    "For the sentence “I love natural language processing,” the vectorization process could involve:\n",
    "\n",
    "* Bag of Words: [1, 1, 1, 1] (for the words “I”, “love”, “natural”, “language processing”).\n",
    "* IDF: [0.2, 0.3, 0.5, 0.5] (with weights adjusted for word importance)."
   ],
   "metadata": {
    "id": "aDgWBRZ5HkGV"
   }
  },
  {
   "cell_type": "markdown",
   "source": [
    "## How to do it?"
   ],
   "metadata": {
    "id": "KJ6WjSc6G6V7"
   }
  },
  {
   "cell_type": "markdown",
   "source": [
    "### Packages\n",
    "\n",
    "\n",
    "\n",
    "*   sklearn\n",
    "\n"
   ],
   "metadata": {
    "id": "k0QsX9fRKrDT"
   }
  },
  {
   "cell_type": "code",
   "source": [
    "from sklearn.feature_extraction.text import CountVectorizer\n",
    "from sklearn.feature_extraction.text import TfidfVectorizer"
   ],
   "metadata": {
    "id": "gfX6GnC_KuwN",
    "ExecuteTime": {
     "end_time": "2024-07-09T09:41:05.088946Z",
     "start_time": "2024-07-09T09:41:04.755142Z"
    }
   },
   "outputs": [],
   "execution_count": 1
  },
  {
   "cell_type": "markdown",
   "source": [
    "### Examples"
   ],
   "metadata": {
    "id": "thjtP54CKwek"
   }
  },
  {
   "cell_type": "code",
   "source": [
    "sample_data = ['This is the first paper.',\n",
    "               'This document is the second paper.',\n",
    "               'And this is the third one.',\n",
    "               'Is this the first paper?']"
   ],
   "metadata": {
    "id": "1I81XRrBKyHC"
   },
   "execution_count": 3,
   "outputs": []
  },
  {
   "cell_type": "markdown",
   "source": [
    "#### Count Vectorizer"
   ],
   "metadata": {
    "id": "7QTyJATOKAHl"
   }
  },
  {
   "cell_type": "code",
   "source": [
    "count_vectorizer = CountVectorizer()\n",
    "x1 = count_vectorizer.fit_transform(sample_data)"
   ],
   "metadata": {
    "id": "v1ALkKkOG80T"
   },
   "execution_count": 4,
   "outputs": []
  },
  {
   "cell_type": "code",
   "source": [
    "x1.toarray()"
   ],
   "metadata": {
    "id": "Z5zwVhP1II0s",
    "colab": {
     "base_uri": "https://localhost:8080/"
    },
    "outputId": "4d9e011f-760c-47cb-dcc7-7badac6b4801"
   },
   "execution_count": 5,
   "outputs": [
    {
     "output_type": "execute_result",
     "data": {
      "text/plain": [
       "array([[0, 0, 1, 1, 0, 1, 0, 1, 0, 1],\n",
       "       [0, 1, 0, 1, 0, 1, 1, 1, 0, 1],\n",
       "       [1, 0, 0, 1, 1, 0, 0, 1, 1, 1],\n",
       "       [0, 0, 1, 1, 0, 1, 0, 1, 0, 1]])"
      ]
     },
     "metadata": {},
     "execution_count": 5
    }
   ]
  },
  {
   "cell_type": "code",
   "source": [
    "count_vectorizer.get_feature_names_out()"
   ],
   "metadata": {
    "colab": {
     "base_uri": "https://localhost:8080/"
    },
    "id": "W38wxoDVJOoM",
    "outputId": "dea7a244-235c-491a-becf-60ce20ff6b1d"
   },
   "execution_count": 6,
   "outputs": [
    {
     "output_type": "execute_result",
     "data": {
      "text/plain": [
       "array(['and', 'document', 'first', 'is', 'one', 'paper', 'second', 'the',\n",
       "       'third', 'this'], dtype=object)"
      ]
     },
     "metadata": {},
     "execution_count": 6
    }
   ]
  },
  {
   "cell_type": "markdown",
   "source": "#### Tf-IDF Vectorizer",
   "metadata": {
    "id": "m_4-TH-QKFWT"
   }
  },
  {
   "cell_type": "code",
   "source": [
    "tfidf_vectorizer = TfidfVectorizer()\n",
    "x2 = tfidf_vectorizer.fit_transform(sample_data)"
   ],
   "metadata": {
    "id": "pM5tiJSiII9_"
   },
   "execution_count": 7,
   "outputs": []
  },
  {
   "cell_type": "code",
   "source": [
    "x2.toarray()"
   ],
   "metadata": {
    "colab": {
     "base_uri": "https://localhost:8080/"
    },
    "id": "RwqNknknJLT3",
    "outputId": "773c92cf-2e29-49a4-b7a5-994205773977"
   },
   "execution_count": 8,
   "outputs": [
    {
     "output_type": "execute_result",
     "data": {
      "text/plain": [
       "array([[0.        , 0.        , 0.58028582, 0.38408524, 0.        ,\n",
       "        0.46979139, 0.        , 0.38408524, 0.        , 0.38408524],\n",
       "       [0.        , 0.55690079, 0.        , 0.29061394, 0.        ,\n",
       "        0.35546256, 0.55690079, 0.29061394, 0.        , 0.29061394],\n",
       "       [0.51184851, 0.        , 0.        , 0.26710379, 0.51184851,\n",
       "        0.        , 0.        , 0.26710379, 0.51184851, 0.26710379],\n",
       "       [0.        , 0.        , 0.58028582, 0.38408524, 0.        ,\n",
       "        0.46979139, 0.        , 0.38408524, 0.        , 0.38408524]])"
      ]
     },
     "metadata": {},
     "execution_count": 8
    }
   ]
  },
  {
   "cell_type": "code",
   "source": [
    "tfidf_vectorizer.get_feature_names_out()"
   ],
   "metadata": {
    "colab": {
     "base_uri": "https://localhost:8080/"
    },
    "id": "2Qi9MnHaJLdV",
    "outputId": "745a99b5-b8c5-47a2-e616-693da5c90429"
   },
   "execution_count": 9,
   "outputs": [
    {
     "output_type": "execute_result",
     "data": {
      "text/plain": [
       "array(['and', 'document', 'first', 'is', 'one', 'paper', 'second', 'the',\n",
       "       'third', 'this'], dtype=object)"
      ]
     },
     "metadata": {},
     "execution_count": 9
    }
   ]
  },
  {
   "cell_type": "markdown",
   "source": "#### N Grams Vectorizer",
   "metadata": {
    "id": "JZ3Q5vtzJ9ZY"
   }
  },
  {
   "cell_type": "code",
   "source": [
    "n_gram_vectorizer = CountVectorizer(ngram_range=(2, 2))\n",
    "x3 = n_gram_vectorizer.fit_transform(sample_data)"
   ],
   "metadata": {
    "id": "T4I_Ki1zJrwZ"
   },
   "execution_count": 10,
   "outputs": []
  },
  {
   "cell_type": "code",
   "source": [
    "x3.toarray()"
   ],
   "metadata": {
    "colab": {
     "base_uri": "https://localhost:8080/"
    },
    "id": "17KOhCNvJr2r",
    "outputId": "d5229dc6-242d-4746-fce2-6f83f88c0ee1"
   },
   "execution_count": 11,
   "outputs": [
    {
     "output_type": "execute_result",
     "data": {
      "text/plain": [
       "array([[0, 0, 1, 1, 0, 0, 1, 0, 0, 0, 0, 1, 0],\n",
       "       [0, 1, 0, 1, 0, 1, 0, 1, 0, 0, 1, 0, 0],\n",
       "       [1, 0, 0, 1, 0, 0, 0, 0, 1, 1, 0, 1, 0],\n",
       "       [0, 0, 1, 0, 1, 0, 1, 0, 0, 0, 0, 0, 1]])"
      ]
     },
     "metadata": {},
     "execution_count": 11
    }
   ]
  },
  {
   "cell_type": "code",
   "source": [
    "n_gram_vectorizer.get_feature_names_out()"
   ],
   "metadata": {
    "colab": {
     "base_uri": "https://localhost:8080/"
    },
    "id": "dhk7FXt3J14x",
    "outputId": "2deeb412-a33c-4c81-b3d8-ad89167d2401"
   },
   "execution_count": 12,
   "outputs": [
    {
     "output_type": "execute_result",
     "data": {
      "text/plain": [
       "array(['and this', 'document is', 'first paper', 'is the', 'is this',\n",
       "       'second paper', 'the first', 'the second', 'the third',\n",
       "       'third one', 'this document', 'this is', 'this the'], dtype=object)"
      ]
     },
     "metadata": {},
     "execution_count": 12
    }
   ]
  },
  {
   "cell_type": "markdown",
   "source": "#### N Gram Vectorizer with TF-IDF",
   "metadata": {
    "id": "CRAHTqWhKSFl"
   }
  },
  {
   "cell_type": "code",
   "source": [
    "ng_tfidf_vectorizer = TfidfVectorizer(ngram_range=(2, 2))\n",
    "x4 = ng_tfidf_vectorizer.fit_transform(sample_data)"
   ],
   "metadata": {
    "id": "JccWnv1wKWSH"
   },
   "execution_count": 13,
   "outputs": []
  },
  {
   "cell_type": "code",
   "source": [
    "x4.toarray()"
   ],
   "metadata": {
    "colab": {
     "base_uri": "https://localhost:8080/"
    },
    "id": "WVaA1qItKe06",
    "outputId": "92cddd01-30be-4c37-c920-7da62b6e3373"
   },
   "execution_count": 14,
   "outputs": [
    {
     "output_type": "execute_result",
     "data": {
      "text/plain": [
       "array([[0.        , 0.        , 0.52303503, 0.42344193, 0.        ,\n",
       "        0.        , 0.52303503, 0.        , 0.        , 0.        ,\n",
       "        0.        , 0.52303503, 0.        ],\n",
       "       [0.        , 0.47633035, 0.        , 0.30403549, 0.        ,\n",
       "        0.47633035, 0.        , 0.47633035, 0.        , 0.        ,\n",
       "        0.47633035, 0.        , 0.        ],\n",
       "       [0.49819711, 0.        , 0.        , 0.31799276, 0.        ,\n",
       "        0.        , 0.        , 0.        , 0.49819711, 0.49819711,\n",
       "        0.        , 0.39278432, 0.        ],\n",
       "       [0.        , 0.        , 0.43779123, 0.        , 0.55528266,\n",
       "        0.        , 0.43779123, 0.        , 0.        , 0.        ,\n",
       "        0.        , 0.        , 0.55528266]])"
      ]
     },
     "metadata": {},
     "execution_count": 14
    }
   ]
  },
  {
   "cell_type": "code",
   "source": [
    "ng_tfidf_vectorizer.get_feature_names_out()"
   ],
   "metadata": {
    "colab": {
     "base_uri": "https://localhost:8080/"
    },
    "id": "r2iwzM_bK4CF",
    "outputId": "bde05ff3-1d46-4f86-b35a-911bb067c035"
   },
   "execution_count": 15,
   "outputs": [
    {
     "output_type": "execute_result",
     "data": {
      "text/plain": [
       "array(['and this', 'document is', 'first paper', 'is the', 'is this',\n",
       "       'second paper', 'the first', 'the second', 'the third',\n",
       "       'third one', 'this document', 'this is', 'this the'], dtype=object)"
      ]
     },
     "metadata": {},
     "execution_count": 15
    }
   ]
  },
  {
   "cell_type": "markdown",
   "source": [
    "## Practise"
   ],
   "metadata": {
    "id": "jic_NEDxIJQO"
   }
  },
  {
   "cell_type": "markdown",
   "source": [
    "### Quiz 1\n",
    "\n",
    "*   Read the `spam.csv`\n",
    "*   Print the fist 5 rows\n",
    "*   apply `count Vectorizer` on each document in the file\n",
    "\n"
   ],
   "metadata": {
    "id": "e48k1ynvIQQa"
   }
  },
  {
   "cell_type": "code",
   "source": "",
   "metadata": {
    "id": "IcGKfrBZIYDT",
    "ExecuteTime": {
     "end_time": "2024-07-09T12:48:09.766442Z",
     "start_time": "2024-07-09T12:48:09.745632Z"
    }
   },
   "outputs": [],
   "execution_count": 58
  },
  {
   "cell_type": "code",
   "source": "",
   "metadata": {
    "colab": {
     "base_uri": "https://localhost:8080/",
     "height": 221
    },
    "id": "GxXcSeNbMIWf",
    "outputId": "ed830f2b-fef5-42a8-a825-563aea1f1f47",
    "ExecuteTime": {
     "end_time": "2024-07-09T12:48:10.368219Z",
     "start_time": "2024-07-09T12:48:10.362979Z"
    }
   },
   "outputs": [
    {
     "data": {
      "text/plain": [
       "                                                text target  \\\n",
       "0  Go until jurong point, crazy.. Available only ...    ham   \n",
       "1                      Ok lar... Joking wif u oni...    ham   \n",
       "2  Free entry in 2 a wkly comp to win FA Cup fina...   spam   \n",
       "3  U dun say so early hor... U c already then say...    ham   \n",
       "4  Nah I don't think he goes to usf, he lives aro...    ham   \n",
       "\n",
       "  text_without_stopwords text_without_sp stemmed_text lemmatized_text  \n",
       "0                    ham             ham          ham             ham  \n",
       "1                    ham             ham          ham             ham  \n",
       "2                   spam            spam         spam            spam  \n",
       "3                    ham             ham          ham             ham  \n",
       "4                    ham             ham          ham             ham  "
      ],
      "text/html": [
       "<div>\n",
       "<style scoped>\n",
       "    .dataframe tbody tr th:only-of-type {\n",
       "        vertical-align: middle;\n",
       "    }\n",
       "\n",
       "    .dataframe tbody tr th {\n",
       "        vertical-align: top;\n",
       "    }\n",
       "\n",
       "    .dataframe thead th {\n",
       "        text-align: right;\n",
       "    }\n",
       "</style>\n",
       "<table border=\"1\" class=\"dataframe\">\n",
       "  <thead>\n",
       "    <tr style=\"text-align: right;\">\n",
       "      <th></th>\n",
       "      <th>text</th>\n",
       "      <th>target</th>\n",
       "      <th>text_without_stopwords</th>\n",
       "      <th>text_without_sp</th>\n",
       "      <th>stemmed_text</th>\n",
       "      <th>lemmatized_text</th>\n",
       "    </tr>\n",
       "  </thead>\n",
       "  <tbody>\n",
       "    <tr>\n",
       "      <th>0</th>\n",
       "      <td>Go until jurong point, crazy.. Available only ...</td>\n",
       "      <td>ham</td>\n",
       "      <td>ham</td>\n",
       "      <td>ham</td>\n",
       "      <td>ham</td>\n",
       "      <td>ham</td>\n",
       "    </tr>\n",
       "    <tr>\n",
       "      <th>1</th>\n",
       "      <td>Ok lar... Joking wif u oni...</td>\n",
       "      <td>ham</td>\n",
       "      <td>ham</td>\n",
       "      <td>ham</td>\n",
       "      <td>ham</td>\n",
       "      <td>ham</td>\n",
       "    </tr>\n",
       "    <tr>\n",
       "      <th>2</th>\n",
       "      <td>Free entry in 2 a wkly comp to win FA Cup fina...</td>\n",
       "      <td>spam</td>\n",
       "      <td>spam</td>\n",
       "      <td>spam</td>\n",
       "      <td>spam</td>\n",
       "      <td>spam</td>\n",
       "    </tr>\n",
       "    <tr>\n",
       "      <th>3</th>\n",
       "      <td>U dun say so early hor... U c already then say...</td>\n",
       "      <td>ham</td>\n",
       "      <td>ham</td>\n",
       "      <td>ham</td>\n",
       "      <td>ham</td>\n",
       "      <td>ham</td>\n",
       "    </tr>\n",
       "    <tr>\n",
       "      <th>4</th>\n",
       "      <td>Nah I don't think he goes to usf, he lives aro...</td>\n",
       "      <td>ham</td>\n",
       "      <td>ham</td>\n",
       "      <td>ham</td>\n",
       "      <td>ham</td>\n",
       "      <td>ham</td>\n",
       "    </tr>\n",
       "  </tbody>\n",
       "</table>\n",
       "</div>"
      ]
     },
     "execution_count": 59,
     "metadata": {},
     "output_type": "execute_result"
    }
   ],
   "execution_count": 59
  },
  {
   "cell_type": "code",
   "source": "",
   "metadata": {
    "id": "TeBs9E1CMG6N",
    "ExecuteTime": {
     "end_time": "2024-07-09T12:49:00.425502Z",
     "start_time": "2024-07-09T12:49:00.381491Z"
    }
   },
   "outputs": [],
   "execution_count": 66
  },
  {
   "cell_type": "markdown",
   "source": [
    "### Quiz 2\n",
    "\n",
    "\n",
    "\n",
    "*  What is the shape (number or rows and columns) of the matrix ?\n",
    "*  Print vector representation of the first document\n",
    "*  Print the vector representation the second word\n",
    "\n"
   ],
   "metadata": {
    "id": "Kir3QVXVJM0O"
   }
  },
  {
   "cell_type": "code",
   "source": "# write answer here\n",
   "metadata": {
    "id": "rei6FlitJQSE",
    "ExecuteTime": {
     "end_time": "2024-07-09T11:29:02.650235Z",
     "start_time": "2024-07-09T11:29:02.648568Z"
    }
   },
   "outputs": [],
   "execution_count": 46
  },
  {
   "metadata": {
    "ExecuteTime": {
     "end_time": "2024-07-09T11:29:03.077236Z",
     "start_time": "2024-07-09T11:29:03.075590Z"
    }
   },
   "cell_type": "code",
   "source": "",
   "outputs": [],
   "execution_count": 46
  },
  {
   "cell_type": "markdown",
   "source": [
    "### Quiz 3\n",
    "\n",
    "What is the 3 terms that appears most (maximum number of appears) documents ?"
   ],
   "metadata": {
    "id": "zzaBOITJJew2"
   }
  },
  {
   "cell_type": "code",
   "source": "",
   "metadata": {
    "id": "q6rbX7ueJijt",
    "colab": {
     "base_uri": "https://localhost:8080/",
     "height": 221
    },
    "outputId": "76bdd2eb-e6e6-44a1-8905-ad184029c9f9",
    "ExecuteTime": {
     "end_time": "2024-07-09T12:49:04.997602Z",
     "start_time": "2024-07-09T12:49:04.993395Z"
    }
   },
   "outputs": [
    {
     "data": {
      "text/plain": [
       "      count\n",
       "7756   2242\n",
       "8609   2240\n",
       "7627   1328\n",
       "1084    979\n",
       "4087    898"
      ],
      "text/html": [
       "<div>\n",
       "<style scoped>\n",
       "    .dataframe tbody tr th:only-of-type {\n",
       "        vertical-align: middle;\n",
       "    }\n",
       "\n",
       "    .dataframe tbody tr th {\n",
       "        vertical-align: top;\n",
       "    }\n",
       "\n",
       "    .dataframe thead th {\n",
       "        text-align: right;\n",
       "    }\n",
       "</style>\n",
       "<table border=\"1\" class=\"dataframe\">\n",
       "  <thead>\n",
       "    <tr style=\"text-align: right;\">\n",
       "      <th></th>\n",
       "      <th>count</th>\n",
       "    </tr>\n",
       "  </thead>\n",
       "  <tbody>\n",
       "    <tr>\n",
       "      <th>7756</th>\n",
       "      <td>2242</td>\n",
       "    </tr>\n",
       "    <tr>\n",
       "      <th>8609</th>\n",
       "      <td>2240</td>\n",
       "    </tr>\n",
       "    <tr>\n",
       "      <th>7627</th>\n",
       "      <td>1328</td>\n",
       "    </tr>\n",
       "    <tr>\n",
       "      <th>1084</th>\n",
       "      <td>979</td>\n",
       "    </tr>\n",
       "    <tr>\n",
       "      <th>4087</th>\n",
       "      <td>898</td>\n",
       "    </tr>\n",
       "  </tbody>\n",
       "</table>\n",
       "</div>"
      ]
     },
     "execution_count": 67,
     "metadata": {},
     "output_type": "execute_result"
    }
   ],
   "execution_count": 67
  },
  {
   "cell_type": "code",
   "source": "",
   "metadata": {
    "colab": {
     "base_uri": "https://localhost:8080/"
    },
    "id": "fztT28WxQG7P",
    "outputId": "374d4aff-d702-444b-c8d4-e68a51097a80",
    "ExecuteTime": {
     "end_time": "2024-07-09T12:49:07.410656Z",
     "start_time": "2024-07-09T12:49:07.407710Z"
    }
   },
   "outputs": [
    {
     "data": {
      "text/plain": [
       "count    7756\n",
       "dtype: int64"
      ]
     },
     "execution_count": 68,
     "metadata": {},
     "output_type": "execute_result"
    }
   ],
   "execution_count": 68
  },
  {
   "cell_type": "code",
   "source": "",
   "metadata": {
    "colab": {
     "base_uri": "https://localhost:8080/"
    },
    "id": "ZYNa-unOVqVo",
    "outputId": "05a9bc5a-774f-4191-c717-099c687cf0f8",
    "ExecuteTime": {
     "end_time": "2024-07-09T12:48:25.434688Z",
     "start_time": "2024-07-09T12:48:25.433212Z"
    }
   },
   "outputs": [],
   "execution_count": 63
  },
  {
   "cell_type": "code",
   "source": "",
   "metadata": {
    "colab": {
     "base_uri": "https://localhost:8080/"
    },
    "id": "3EyzLV6FPnbr",
    "outputId": "a61356aa-a92c-48b8-a765-7fc9a8e0be37",
    "ExecuteTime": {
     "end_time": "2024-07-09T12:49:15.235800Z",
     "start_time": "2024-07-09T12:49:15.168805Z"
    }
   },
   "outputs": [
    {
     "data": {
      "text/plain": [
       "np.int64(2242)"
      ]
     },
     "execution_count": 69,
     "metadata": {},
     "output_type": "execute_result"
    }
   ],
   "execution_count": 69
  },
  {
   "cell_type": "code",
   "source": "",
   "metadata": {
    "colab": {
     "base_uri": "https://localhost:8080/"
    },
    "id": "6oh7e7J3NyOd",
    "outputId": "80e06a57-609d-46ca-f395-06deed6a836f",
    "ExecuteTime": {
     "end_time": "2024-07-09T12:49:30.088292Z",
     "start_time": "2024-07-09T12:49:30.083955Z"
    }
   },
   "outputs": [
    {
     "data": {
      "text/plain": [
       "'to'"
      ]
     },
     "execution_count": 70,
     "metadata": {},
     "output_type": "execute_result"
    }
   ],
   "execution_count": 70
  },
  {
   "cell_type": "code",
   "source": "",
   "metadata": {
    "colab": {
     "base_uri": "https://localhost:8080/"
    },
    "id": "3cNlWDBvODJu",
    "outputId": "f33a4cb6-201b-4b74-bb51-574ce358ff9b",
    "ExecuteTime": {
     "end_time": "2024-07-09T11:27:23.920379Z",
     "start_time": "2024-07-09T11:27:23.918983Z"
    }
   },
   "outputs": [],
   "execution_count": 41
  },
  {
   "metadata": {
    "ExecuteTime": {
     "end_time": "2024-07-09T11:27:25.048569Z",
     "start_time": "2024-07-09T11:27:25.047038Z"
    }
   },
   "cell_type": "code",
   "source": "",
   "outputs": [],
   "execution_count": 41
  },
  {
   "cell_type": "markdown",
   "source": [
    "### Quiz 4\n",
    "\n",
    "What is the terms that less appers in most (minimum number of appers) documents ?"
   ],
   "metadata": {
    "id": "gsrTmSHSJlCK"
   }
  },
  {
   "cell_type": "code",
   "source": "",
   "metadata": {
    "id": "Gn-TeJl9Jnbh",
    "colab": {
     "base_uri": "https://localhost:8080/"
    },
    "outputId": "2714e715-4eec-4b75-f821-c72f9da47b23"
   },
   "execution_count": 65,
   "outputs": [
    {
     "output_type": "execute_result",
     "data": {
      "text/plain": [
       "count    2\n",
       "dtype: int64"
      ]
     },
     "metadata": {},
     "execution_count": 65
    }
   ]
  },
  {
   "cell_type": "code",
   "source": "",
   "metadata": {
    "colab": {
     "base_uri": "https://localhost:8080/"
    },
    "id": "QpGxrxVrR07g",
    "outputId": "eaf15d5d-3ec3-4781-9547-d97974d11991"
   },
   "execution_count": 68,
   "outputs": [
    {
     "output_type": "execute_result",
     "data": {
      "text/plain": [
       "count    1\n",
       "Name: 2, dtype: int64"
      ]
     },
     "metadata": {},
     "execution_count": 68
    }
   ]
  },
  {
   "cell_type": "code",
   "source": "",
   "metadata": {
    "colab": {
     "base_uri": "https://localhost:8080/"
    },
    "id": "Isxw0D12R41u",
    "outputId": "df770f46-2975-4835-8e2c-d314c4afc1f9"
   },
   "execution_count": 69,
   "outputs": [
    {
     "output_type": "execute_result",
     "data": {
      "text/plain": [
       "1"
      ]
     },
     "metadata": {},
     "execution_count": 69
    }
   ]
  },
  {
   "cell_type": "code",
   "source": "",
   "metadata": {
    "colab": {
     "base_uri": "https://localhost:8080/"
    },
    "id": "jtjrF_N7R8eE",
    "outputId": "e6fd10b8-ab9d-48d5-9811-b08d876f37af"
   },
   "execution_count": 70,
   "outputs": [
    {
     "output_type": "execute_result",
     "data": {
      "text/plain": [
       "array(['000pes'], dtype=object)"
      ]
     },
     "metadata": {},
     "execution_count": 70
    }
   ]
  },
  {
   "cell_type": "code",
   "source": "",
   "metadata": {
    "colab": {
     "base_uri": "https://localhost:8080/"
    },
    "id": "pOnDyroqSBQe",
    "outputId": "b2db45dd-1a41-4448-9876-d1f6ee1bc34d"
   },
   "execution_count": 71,
   "outputs": [
    {
     "output_type": "execute_result",
     "data": {
      "text/plain": [
       "1"
      ]
     },
     "metadata": {},
     "execution_count": 71
    }
   ]
  },
  {
   "cell_type": "markdown",
   "source": [
    "### Quiz 5\n",
    "\n",
    "Find the document which maximum words appers in it?"
   ],
   "metadata": {
    "id": "CioCnpCiJovH"
   }
  },
  {
   "cell_type": "code",
   "source": "",
   "metadata": {
    "id": "8b_9k23RJrQN",
    "colab": {
     "base_uri": "https://localhost:8080/",
     "height": 221
    },
    "outputId": "b2f082f1-572d-4f48-ec25-5f4291d6a362",
    "ExecuteTime": {
     "end_time": "2024-07-09T09:47:27.218283Z",
     "start_time": "2024-07-09T09:47:27.177492Z"
    }
   },
   "outputs": [
    {
     "data": {
      "text/plain": [
       "   0     1     2     3     4     5     6     7     8     9     ...  8662  \\\n",
       "0     0     0     0     0     0     0     0     0     0     0  ...     0   \n",
       "1     0     0     0     0     0     0     0     0     0     0  ...     0   \n",
       "2     0     0     0     0     0     0     0     0     0     0  ...     0   \n",
       "3     0     0     0     0     0     0     0     0     0     0  ...     0   \n",
       "4     0     0     0     0     0     0     0     0     0     0  ...     0   \n",
       "\n",
       "   8663  8664  8665  8666  8667  8668  8669  8670  8671  \n",
       "0     0     0     0     0     0     0     0     0     0  \n",
       "1     0     0     0     0     0     0     0     0     0  \n",
       "2     0     0     0     0     0     0     0     0     0  \n",
       "3     0     0     0     0     0     0     0     0     0  \n",
       "4     0     0     0     0     0     0     0     0     0  \n",
       "\n",
       "[5 rows x 8672 columns]"
      ],
      "text/html": [
       "<div>\n",
       "<style scoped>\n",
       "    .dataframe tbody tr th:only-of-type {\n",
       "        vertical-align: middle;\n",
       "    }\n",
       "\n",
       "    .dataframe tbody tr th {\n",
       "        vertical-align: top;\n",
       "    }\n",
       "\n",
       "    .dataframe thead th {\n",
       "        text-align: right;\n",
       "    }\n",
       "</style>\n",
       "<table border=\"1\" class=\"dataframe\">\n",
       "  <thead>\n",
       "    <tr style=\"text-align: right;\">\n",
       "      <th></th>\n",
       "      <th>0</th>\n",
       "      <th>1</th>\n",
       "      <th>2</th>\n",
       "      <th>3</th>\n",
       "      <th>4</th>\n",
       "      <th>5</th>\n",
       "      <th>6</th>\n",
       "      <th>7</th>\n",
       "      <th>8</th>\n",
       "      <th>9</th>\n",
       "      <th>...</th>\n",
       "      <th>8662</th>\n",
       "      <th>8663</th>\n",
       "      <th>8664</th>\n",
       "      <th>8665</th>\n",
       "      <th>8666</th>\n",
       "      <th>8667</th>\n",
       "      <th>8668</th>\n",
       "      <th>8669</th>\n",
       "      <th>8670</th>\n",
       "      <th>8671</th>\n",
       "    </tr>\n",
       "  </thead>\n",
       "  <tbody>\n",
       "    <tr>\n",
       "      <th>0</th>\n",
       "      <td>0</td>\n",
       "      <td>0</td>\n",
       "      <td>0</td>\n",
       "      <td>0</td>\n",
       "      <td>0</td>\n",
       "      <td>0</td>\n",
       "      <td>0</td>\n",
       "      <td>0</td>\n",
       "      <td>0</td>\n",
       "      <td>0</td>\n",
       "      <td>...</td>\n",
       "      <td>0</td>\n",
       "      <td>0</td>\n",
       "      <td>0</td>\n",
       "      <td>0</td>\n",
       "      <td>0</td>\n",
       "      <td>0</td>\n",
       "      <td>0</td>\n",
       "      <td>0</td>\n",
       "      <td>0</td>\n",
       "      <td>0</td>\n",
       "    </tr>\n",
       "    <tr>\n",
       "      <th>1</th>\n",
       "      <td>0</td>\n",
       "      <td>0</td>\n",
       "      <td>0</td>\n",
       "      <td>0</td>\n",
       "      <td>0</td>\n",
       "      <td>0</td>\n",
       "      <td>0</td>\n",
       "      <td>0</td>\n",
       "      <td>0</td>\n",
       "      <td>0</td>\n",
       "      <td>...</td>\n",
       "      <td>0</td>\n",
       "      <td>0</td>\n",
       "      <td>0</td>\n",
       "      <td>0</td>\n",
       "      <td>0</td>\n",
       "      <td>0</td>\n",
       "      <td>0</td>\n",
       "      <td>0</td>\n",
       "      <td>0</td>\n",
       "      <td>0</td>\n",
       "    </tr>\n",
       "    <tr>\n",
       "      <th>2</th>\n",
       "      <td>0</td>\n",
       "      <td>0</td>\n",
       "      <td>0</td>\n",
       "      <td>0</td>\n",
       "      <td>0</td>\n",
       "      <td>0</td>\n",
       "      <td>0</td>\n",
       "      <td>0</td>\n",
       "      <td>0</td>\n",
       "      <td>0</td>\n",
       "      <td>...</td>\n",
       "      <td>0</td>\n",
       "      <td>0</td>\n",
       "      <td>0</td>\n",
       "      <td>0</td>\n",
       "      <td>0</td>\n",
       "      <td>0</td>\n",
       "      <td>0</td>\n",
       "      <td>0</td>\n",
       "      <td>0</td>\n",
       "      <td>0</td>\n",
       "    </tr>\n",
       "    <tr>\n",
       "      <th>3</th>\n",
       "      <td>0</td>\n",
       "      <td>0</td>\n",
       "      <td>0</td>\n",
       "      <td>0</td>\n",
       "      <td>0</td>\n",
       "      <td>0</td>\n",
       "      <td>0</td>\n",
       "      <td>0</td>\n",
       "      <td>0</td>\n",
       "      <td>0</td>\n",
       "      <td>...</td>\n",
       "      <td>0</td>\n",
       "      <td>0</td>\n",
       "      <td>0</td>\n",
       "      <td>0</td>\n",
       "      <td>0</td>\n",
       "      <td>0</td>\n",
       "      <td>0</td>\n",
       "      <td>0</td>\n",
       "      <td>0</td>\n",
       "      <td>0</td>\n",
       "    </tr>\n",
       "    <tr>\n",
       "      <th>4</th>\n",
       "      <td>0</td>\n",
       "      <td>0</td>\n",
       "      <td>0</td>\n",
       "      <td>0</td>\n",
       "      <td>0</td>\n",
       "      <td>0</td>\n",
       "      <td>0</td>\n",
       "      <td>0</td>\n",
       "      <td>0</td>\n",
       "      <td>0</td>\n",
       "      <td>...</td>\n",
       "      <td>0</td>\n",
       "      <td>0</td>\n",
       "      <td>0</td>\n",
       "      <td>0</td>\n",
       "      <td>0</td>\n",
       "      <td>0</td>\n",
       "      <td>0</td>\n",
       "      <td>0</td>\n",
       "      <td>0</td>\n",
       "      <td>0</td>\n",
       "    </tr>\n",
       "  </tbody>\n",
       "</table>\n",
       "<p>5 rows × 8672 columns</p>\n",
       "</div>"
      ]
     },
     "execution_count": 15,
     "metadata": {},
     "output_type": "execute_result"
    }
   ],
   "execution_count": 15
  },
  {
   "metadata": {},
   "cell_type": "code",
   "outputs": [],
   "execution_count": null,
   "source": "\n"
  },
  {
   "cell_type": "code",
   "source": "",
   "metadata": {
    "colab": {
     "base_uri": "https://localhost:8080/"
    },
    "id": "Xe30RfijStom",
    "outputId": "f885c21b-fc9e-4446-9c2e-04fde00acc05"
   },
   "execution_count": 79,
   "outputs": [
    {
     "output_type": "execute_result",
     "data": {
      "text/plain": [
       "count    1084\n",
       "dtype: int64"
      ]
     },
     "metadata": {},
     "execution_count": 79
    }
   ]
  },
  {
   "metadata": {
    "ExecuteTime": {
     "end_time": "2024-07-09T08:33:34.251036Z",
     "start_time": "2024-07-09T08:33:34.249169Z"
    }
   },
   "cell_type": "code",
   "source": "",
   "outputs": [],
   "execution_count": 38
  },
  {
   "cell_type": "code",
   "source": "",
   "metadata": {
    "colab": {
     "base_uri": "https://localhost:8080/",
     "height": 100
    },
    "id": "sVCS6oubS5QB",
    "outputId": "15080e30-612e-4624-e2f4-411ca0b0c485"
   },
   "execution_count": 80,
   "outputs": [
    {
     "output_type": "execute_result",
     "data": {
      "text/plain": [
       "      count\n",
       "1084    176"
      ],
      "text/html": [
       "\n",
       "  <div id=\"df-0f5b763f-a6a0-49c5-a5a7-b6e25c96fc43\" class=\"colab-df-container\">\n",
       "    <div>\n",
       "<style scoped>\n",
       "    .dataframe tbody tr th:only-of-type {\n",
       "        vertical-align: middle;\n",
       "    }\n",
       "\n",
       "    .dataframe tbody tr th {\n",
       "        vertical-align: top;\n",
       "    }\n",
       "\n",
       "    .dataframe thead th {\n",
       "        text-align: right;\n",
       "    }\n",
       "</style>\n",
       "<table border=\"1\" class=\"dataframe\">\n",
       "  <thead>\n",
       "    <tr style=\"text-align: right;\">\n",
       "      <th></th>\n",
       "      <th>count</th>\n",
       "    </tr>\n",
       "  </thead>\n",
       "  <tbody>\n",
       "    <tr>\n",
       "      <th>1084</th>\n",
       "      <td>176</td>\n",
       "    </tr>\n",
       "  </tbody>\n",
       "</table>\n",
       "</div>\n",
       "    <div class=\"colab-df-buttons\">\n",
       "\n",
       "  <div class=\"colab-df-container\">\n",
       "    <button class=\"colab-df-convert\" onclick=\"convertToInteractive('df-0f5b763f-a6a0-49c5-a5a7-b6e25c96fc43')\"\n",
       "            title=\"Convert this dataframe to an interactive table.\"\n",
       "            style=\"display:none;\">\n",
       "\n",
       "  <svg xmlns=\"http://www.w3.org/2000/svg\" height=\"24px\" viewBox=\"0 -960 960 960\">\n",
       "    <path d=\"M120-120v-720h720v720H120Zm60-500h600v-160H180v160Zm220 220h160v-160H400v160Zm0 220h160v-160H400v160ZM180-400h160v-160H180v160Zm440 0h160v-160H620v160ZM180-180h160v-160H180v160Zm440 0h160v-160H620v160Z\"/>\n",
       "  </svg>\n",
       "    </button>\n",
       "\n",
       "  <style>\n",
       "    .colab-df-container {\n",
       "      display:flex;\n",
       "      gap: 12px;\n",
       "    }\n",
       "\n",
       "    .colab-df-convert {\n",
       "      background-color: #E8F0FE;\n",
       "      border: none;\n",
       "      border-radius: 50%;\n",
       "      cursor: pointer;\n",
       "      display: none;\n",
       "      fill: #1967D2;\n",
       "      height: 32px;\n",
       "      padding: 0 0 0 0;\n",
       "      width: 32px;\n",
       "    }\n",
       "\n",
       "    .colab-df-convert:hover {\n",
       "      background-color: #E2EBFA;\n",
       "      box-shadow: 0px 1px 2px rgba(60, 64, 67, 0.3), 0px 1px 3px 1px rgba(60, 64, 67, 0.15);\n",
       "      fill: #174EA6;\n",
       "    }\n",
       "\n",
       "    .colab-df-buttons div {\n",
       "      margin-bottom: 4px;\n",
       "    }\n",
       "\n",
       "    [theme=dark] .colab-df-convert {\n",
       "      background-color: #3B4455;\n",
       "      fill: #D2E3FC;\n",
       "    }\n",
       "\n",
       "    [theme=dark] .colab-df-convert:hover {\n",
       "      background-color: #434B5C;\n",
       "      box-shadow: 0px 1px 3px 1px rgba(0, 0, 0, 0.15);\n",
       "      filter: drop-shadow(0px 1px 2px rgba(0, 0, 0, 0.3));\n",
       "      fill: #FFFFFF;\n",
       "    }\n",
       "  </style>\n",
       "\n",
       "    <script>\n",
       "      const buttonEl =\n",
       "        document.querySelector('#df-0f5b763f-a6a0-49c5-a5a7-b6e25c96fc43 button.colab-df-convert');\n",
       "      buttonEl.style.display =\n",
       "        google.colab.kernel.accessAllowed ? 'block' : 'none';\n",
       "\n",
       "      async function convertToInteractive(key) {\n",
       "        const element = document.querySelector('#df-0f5b763f-a6a0-49c5-a5a7-b6e25c96fc43');\n",
       "        const dataTable =\n",
       "          await google.colab.kernel.invokeFunction('convertToInteractive',\n",
       "                                                    [key], {});\n",
       "        if (!dataTable) return;\n",
       "\n",
       "        const docLinkHtml = 'Like what you see? Visit the ' +\n",
       "          '<a target=\"_blank\" href=https://colab.research.google.com/notebooks/data_table.ipynb>data table notebook</a>'\n",
       "          + ' to learn more about interactive tables.';\n",
       "        element.innerHTML = '';\n",
       "        dataTable['output_type'] = 'display_data';\n",
       "        await google.colab.output.renderOutput(dataTable, element);\n",
       "        const docLink = document.createElement('div');\n",
       "        docLink.innerHTML = docLinkHtml;\n",
       "        element.appendChild(docLink);\n",
       "      }\n",
       "    </script>\n",
       "  </div>\n",
       "\n",
       "\n",
       "    </div>\n",
       "  </div>\n"
      ],
      "application/vnd.google.colaboratory.intrinsic+json": {
       "type": "dataframe",
       "summary": "{\n  \"name\": \"df5\",\n  \"rows\": 1,\n  \"fields\": [\n    {\n      \"column\": \"count\",\n      \"properties\": {\n        \"dtype\": \"number\",\n        \"std\": null,\n        \"min\": 176,\n        \"max\": 176,\n        \"num_unique_values\": 1,\n        \"samples\": [\n          176\n        ],\n        \"semantic_type\": \"\",\n        \"description\": \"\"\n      }\n    }\n  ]\n}"
      }
     },
     "metadata": {},
     "execution_count": 80
    }
   ]
  },
  {
   "cell_type": "code",
   "source": "",
   "metadata": {
    "colab": {
     "base_uri": "https://localhost:8080/"
    },
    "id": "W7-cOdZuSxZJ",
    "outputId": "b1ea93e2-676c-4697-e80e-d886cdf98ac7"
   },
   "execution_count": 89,
   "outputs": [
    {
     "output_type": "execute_result",
     "data": {
      "text/plain": [
       "array([[0, 0, 0, ..., 0, 0, 0]])"
      ]
     },
     "metadata": {},
     "execution_count": 89
    }
   ]
  },
  {
   "metadata": {},
   "cell_type": "code",
   "outputs": [],
   "execution_count": null,
   "source": ""
  },
  {
   "cell_type": "markdown",
   "source": [
    "### Quiz 6\n",
    "\n",
    "Find in how many documents the terms `for` appear ?"
   ],
   "metadata": {
    "id": "h2GkPrjeJss_"
   }
  },
  {
   "cell_type": "code",
   "source": "# write answer here\n",
   "metadata": {
    "id": "4yaaGeDlJuEx",
    "ExecuteTime": {
     "end_time": "2024-07-09T09:55:37.413064Z",
     "start_time": "2024-07-09T09:55:37.406304Z"
    }
   },
   "outputs": [
    {
     "data": {
      "text/plain": [
       "(array([3308]),)"
      ]
     },
     "execution_count": 17,
     "metadata": {},
     "output_type": "execute_result"
    }
   ],
   "execution_count": 17
  },
  {
   "metadata": {
    "ExecuteTime": {
     "end_time": "2024-07-09T09:56:57.064262Z",
     "start_time": "2024-07-09T09:56:57.013526Z"
    }
   },
   "cell_type": "code",
   "source": "",
   "outputs": [
    {
     "data": {
      "text/plain": [
       "np.int64(704)"
      ]
     },
     "execution_count": 22,
     "metadata": {},
     "output_type": "execute_result"
    }
   ],
   "execution_count": 22
  },
  {
   "metadata": {
    "ExecuteTime": {
     "end_time": "2024-07-09T08:11:41.460640Z",
     "start_time": "2024-07-09T08:11:41.459179Z"
    }
   },
   "cell_type": "code",
   "source": "",
   "outputs": [],
   "execution_count": 22
  },
  {
   "metadata": {
    "ExecuteTime": {
     "end_time": "2024-07-09T08:09:59.046238Z",
     "start_time": "2024-07-09T08:09:59.044893Z"
    }
   },
   "cell_type": "code",
   "source": "",
   "outputs": [],
   "execution_count": 21
  },
  {
   "cell_type": "markdown",
   "source": [
    "### Quiz 7\n",
    "\n",
    "What is the top 3 most common word in all documents ?\n",
    "\n",
    "find/print the vector of that word ?\n"
   ],
   "metadata": {
    "id": "7aI456TnKCy5"
   }
  },
  {
   "cell_type": "code",
   "source": "",
   "metadata": {
    "id": "W_vIYinBKFyY",
    "colab": {
     "base_uri": "https://localhost:8080/"
    },
    "outputId": "d450a0c2-c1f3-44d0-86a5-61cd5762bbc2",
    "ExecuteTime": {
     "end_time": "2024-07-09T08:07:10.224510Z",
     "start_time": "2024-07-09T08:07:10.219610Z"
    }
   },
   "outputs": [
    {
     "data": {
      "text/plain": [
       "(array([3308]),)"
      ]
     },
     "execution_count": 9,
     "metadata": {},
     "output_type": "execute_result"
    }
   ],
   "execution_count": 9
  },
  {
   "metadata": {},
   "cell_type": "markdown",
   "source": [
    "### Quiz 8\n",
    "\n",
    "solve the above question using \n",
    "\n",
    "1. `TF-IDF Vectorizer`\n",
    "2. `N-Grams Vectorizer`\n",
    "\n"
   ]
  },
  {
   "metadata": {},
   "cell_type": "code",
   "outputs": [],
   "execution_count": null,
   "source": ""
  }
 ]
}
