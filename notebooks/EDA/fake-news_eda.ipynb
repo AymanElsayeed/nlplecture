{
 "cells": [
  {
   "cell_type": "code",
   "id": "initial_id",
   "metadata": {
    "collapsed": true,
    "ExecuteTime": {
     "end_time": "2024-07-14T11:01:59.943189Z",
     "start_time": "2024-07-14T11:01:59.561400Z"
    }
   },
   "source": "import pandas as pd",
   "outputs": [],
   "execution_count": 1
  },
  {
   "metadata": {
    "ExecuteTime": {
     "end_time": "2024-07-14T11:02:00.420270Z",
     "start_time": "2024-07-14T11:01:59.944097Z"
    }
   },
   "cell_type": "code",
   "source": "fake = pd.read_csv('../../assets/fakeNews/fake.csv')",
   "id": "2b6b3a43b71bbcb2",
   "outputs": [],
   "execution_count": 2
  },
  {
   "metadata": {
    "ExecuteTime": {
     "end_time": "2024-07-14T11:02:00.429090Z",
     "start_time": "2024-07-14T11:02:00.421358Z"
    }
   },
   "cell_type": "code",
   "source": "fake.head()",
   "id": "9696694ccb4525a5",
   "outputs": [
    {
     "data": {
      "text/plain": [
       "                                               title  \\\n",
       "0   Donald Trump Sends Out Embarrassing New Year’...   \n",
       "1   Drunk Bragging Trump Staffer Started Russian ...   \n",
       "2   Sheriff David Clarke Becomes An Internet Joke...   \n",
       "3   Trump Is So Obsessed He Even Has Obama’s Name...   \n",
       "4   Pope Francis Just Called Out Donald Trump Dur...   \n",
       "\n",
       "                                                text subject  \\\n",
       "0  Donald Trump just couldn t wish all Americans ...    News   \n",
       "1  House Intelligence Committee Chairman Devin Nu...    News   \n",
       "2  On Friday, it was revealed that former Milwauk...    News   \n",
       "3  On Christmas day, Donald Trump announced that ...    News   \n",
       "4  Pope Francis used his annual Christmas Day mes...    News   \n",
       "\n",
       "                date  \n",
       "0  December 31, 2017  \n",
       "1  December 31, 2017  \n",
       "2  December 30, 2017  \n",
       "3  December 29, 2017  \n",
       "4  December 25, 2017  "
      ],
      "text/html": [
       "<div>\n",
       "<style scoped>\n",
       "    .dataframe tbody tr th:only-of-type {\n",
       "        vertical-align: middle;\n",
       "    }\n",
       "\n",
       "    .dataframe tbody tr th {\n",
       "        vertical-align: top;\n",
       "    }\n",
       "\n",
       "    .dataframe thead th {\n",
       "        text-align: right;\n",
       "    }\n",
       "</style>\n",
       "<table border=\"1\" class=\"dataframe\">\n",
       "  <thead>\n",
       "    <tr style=\"text-align: right;\">\n",
       "      <th></th>\n",
       "      <th>title</th>\n",
       "      <th>text</th>\n",
       "      <th>subject</th>\n",
       "      <th>date</th>\n",
       "    </tr>\n",
       "  </thead>\n",
       "  <tbody>\n",
       "    <tr>\n",
       "      <th>0</th>\n",
       "      <td>Donald Trump Sends Out Embarrassing New Year’...</td>\n",
       "      <td>Donald Trump just couldn t wish all Americans ...</td>\n",
       "      <td>News</td>\n",
       "      <td>December 31, 2017</td>\n",
       "    </tr>\n",
       "    <tr>\n",
       "      <th>1</th>\n",
       "      <td>Drunk Bragging Trump Staffer Started Russian ...</td>\n",
       "      <td>House Intelligence Committee Chairman Devin Nu...</td>\n",
       "      <td>News</td>\n",
       "      <td>December 31, 2017</td>\n",
       "    </tr>\n",
       "    <tr>\n",
       "      <th>2</th>\n",
       "      <td>Sheriff David Clarke Becomes An Internet Joke...</td>\n",
       "      <td>On Friday, it was revealed that former Milwauk...</td>\n",
       "      <td>News</td>\n",
       "      <td>December 30, 2017</td>\n",
       "    </tr>\n",
       "    <tr>\n",
       "      <th>3</th>\n",
       "      <td>Trump Is So Obsessed He Even Has Obama’s Name...</td>\n",
       "      <td>On Christmas day, Donald Trump announced that ...</td>\n",
       "      <td>News</td>\n",
       "      <td>December 29, 2017</td>\n",
       "    </tr>\n",
       "    <tr>\n",
       "      <th>4</th>\n",
       "      <td>Pope Francis Just Called Out Donald Trump Dur...</td>\n",
       "      <td>Pope Francis used his annual Christmas Day mes...</td>\n",
       "      <td>News</td>\n",
       "      <td>December 25, 2017</td>\n",
       "    </tr>\n",
       "  </tbody>\n",
       "</table>\n",
       "</div>"
      ]
     },
     "execution_count": 3,
     "metadata": {},
     "output_type": "execute_result"
    }
   ],
   "execution_count": 3
  },
  {
   "metadata": {
    "ExecuteTime": {
     "end_time": "2024-07-14T11:02:00.513401Z",
     "start_time": "2024-07-14T11:02:00.511193Z"
    }
   },
   "cell_type": "code",
   "source": [
    "# add a column to the fake dataframe to indicate that the news is fake\n",
    "fake['is_fake'] = 1"
   ],
   "id": "ee1e005f880e8c8b",
   "outputs": [],
   "execution_count": 4
  },
  {
   "metadata": {
    "ExecuteTime": {
     "end_time": "2024-07-14T11:02:01.270641Z",
     "start_time": "2024-07-14T11:02:00.805007Z"
    }
   },
   "cell_type": "code",
   "source": "true = pd.read_csv('../../assets/fakeNews/True.csv')",
   "id": "b94a2c667b333369",
   "outputs": [],
   "execution_count": 5
  },
  {
   "metadata": {
    "ExecuteTime": {
     "end_time": "2024-07-14T11:02:01.275253Z",
     "start_time": "2024-07-14T11:02:01.271457Z"
    }
   },
   "cell_type": "code",
   "source": "true.head()",
   "id": "fe685a95a25b7d02",
   "outputs": [
    {
     "data": {
      "text/plain": [
       "                                               title  \\\n",
       "0  As U.S. budget fight looms, Republicans flip t...   \n",
       "1  U.S. military to accept transgender recruits o...   \n",
       "2  Senior U.S. Republican senator: 'Let Mr. Muell...   \n",
       "3  FBI Russia probe helped by Australian diplomat...   \n",
       "4  Trump wants Postal Service to charge 'much mor...   \n",
       "\n",
       "                                                text       subject  \\\n",
       "0  WASHINGTON (Reuters) - The head of a conservat...  politicsNews   \n",
       "1  WASHINGTON (Reuters) - Transgender people will...  politicsNews   \n",
       "2  WASHINGTON (Reuters) - The special counsel inv...  politicsNews   \n",
       "3  WASHINGTON (Reuters) - Trump campaign adviser ...  politicsNews   \n",
       "4  SEATTLE/WASHINGTON (Reuters) - President Donal...  politicsNews   \n",
       "\n",
       "                 date  \n",
       "0  December 31, 2017   \n",
       "1  December 29, 2017   \n",
       "2  December 31, 2017   \n",
       "3  December 30, 2017   \n",
       "4  December 29, 2017   "
      ],
      "text/html": [
       "<div>\n",
       "<style scoped>\n",
       "    .dataframe tbody tr th:only-of-type {\n",
       "        vertical-align: middle;\n",
       "    }\n",
       "\n",
       "    .dataframe tbody tr th {\n",
       "        vertical-align: top;\n",
       "    }\n",
       "\n",
       "    .dataframe thead th {\n",
       "        text-align: right;\n",
       "    }\n",
       "</style>\n",
       "<table border=\"1\" class=\"dataframe\">\n",
       "  <thead>\n",
       "    <tr style=\"text-align: right;\">\n",
       "      <th></th>\n",
       "      <th>title</th>\n",
       "      <th>text</th>\n",
       "      <th>subject</th>\n",
       "      <th>date</th>\n",
       "    </tr>\n",
       "  </thead>\n",
       "  <tbody>\n",
       "    <tr>\n",
       "      <th>0</th>\n",
       "      <td>As U.S. budget fight looms, Republicans flip t...</td>\n",
       "      <td>WASHINGTON (Reuters) - The head of a conservat...</td>\n",
       "      <td>politicsNews</td>\n",
       "      <td>December 31, 2017</td>\n",
       "    </tr>\n",
       "    <tr>\n",
       "      <th>1</th>\n",
       "      <td>U.S. military to accept transgender recruits o...</td>\n",
       "      <td>WASHINGTON (Reuters) - Transgender people will...</td>\n",
       "      <td>politicsNews</td>\n",
       "      <td>December 29, 2017</td>\n",
       "    </tr>\n",
       "    <tr>\n",
       "      <th>2</th>\n",
       "      <td>Senior U.S. Republican senator: 'Let Mr. Muell...</td>\n",
       "      <td>WASHINGTON (Reuters) - The special counsel inv...</td>\n",
       "      <td>politicsNews</td>\n",
       "      <td>December 31, 2017</td>\n",
       "    </tr>\n",
       "    <tr>\n",
       "      <th>3</th>\n",
       "      <td>FBI Russia probe helped by Australian diplomat...</td>\n",
       "      <td>WASHINGTON (Reuters) - Trump campaign adviser ...</td>\n",
       "      <td>politicsNews</td>\n",
       "      <td>December 30, 2017</td>\n",
       "    </tr>\n",
       "    <tr>\n",
       "      <th>4</th>\n",
       "      <td>Trump wants Postal Service to charge 'much mor...</td>\n",
       "      <td>SEATTLE/WASHINGTON (Reuters) - President Donal...</td>\n",
       "      <td>politicsNews</td>\n",
       "      <td>December 29, 2017</td>\n",
       "    </tr>\n",
       "  </tbody>\n",
       "</table>\n",
       "</div>"
      ]
     },
     "execution_count": 6,
     "metadata": {},
     "output_type": "execute_result"
    }
   ],
   "execution_count": 6
  },
  {
   "metadata": {
    "ExecuteTime": {
     "end_time": "2024-07-14T11:02:01.299097Z",
     "start_time": "2024-07-14T11:02:01.297176Z"
    }
   },
   "cell_type": "code",
   "source": [
    "# add a column to the true dataframe to indicate that the news is true\n",
    "true['is_fake'] = 0"
   ],
   "id": "4f91649df3570d4c",
   "outputs": [],
   "execution_count": 7
  },
  {
   "metadata": {
    "ExecuteTime": {
     "end_time": "2024-07-14T11:02:02.077459Z",
     "start_time": "2024-07-14T11:02:02.072743Z"
    }
   },
   "cell_type": "code",
   "source": [
    "# combine the two dataframes\n",
    "news = pd.concat([fake, true])"
   ],
   "id": "7e5109e4d73aea4",
   "outputs": [],
   "execution_count": 8
  },
  {
   "metadata": {
    "ExecuteTime": {
     "end_time": "2024-07-14T11:02:02.713951Z",
     "start_time": "2024-07-14T11:02:02.708904Z"
    }
   },
   "cell_type": "code",
   "source": "news.head()",
   "id": "ff54e5902a230e8e",
   "outputs": [
    {
     "data": {
      "text/plain": [
       "                                               title  \\\n",
       "0   Donald Trump Sends Out Embarrassing New Year’...   \n",
       "1   Drunk Bragging Trump Staffer Started Russian ...   \n",
       "2   Sheriff David Clarke Becomes An Internet Joke...   \n",
       "3   Trump Is So Obsessed He Even Has Obama’s Name...   \n",
       "4   Pope Francis Just Called Out Donald Trump Dur...   \n",
       "\n",
       "                                                text subject  \\\n",
       "0  Donald Trump just couldn t wish all Americans ...    News   \n",
       "1  House Intelligence Committee Chairman Devin Nu...    News   \n",
       "2  On Friday, it was revealed that former Milwauk...    News   \n",
       "3  On Christmas day, Donald Trump announced that ...    News   \n",
       "4  Pope Francis used his annual Christmas Day mes...    News   \n",
       "\n",
       "                date  is_fake  \n",
       "0  December 31, 2017        1  \n",
       "1  December 31, 2017        1  \n",
       "2  December 30, 2017        1  \n",
       "3  December 29, 2017        1  \n",
       "4  December 25, 2017        1  "
      ],
      "text/html": [
       "<div>\n",
       "<style scoped>\n",
       "    .dataframe tbody tr th:only-of-type {\n",
       "        vertical-align: middle;\n",
       "    }\n",
       "\n",
       "    .dataframe tbody tr th {\n",
       "        vertical-align: top;\n",
       "    }\n",
       "\n",
       "    .dataframe thead th {\n",
       "        text-align: right;\n",
       "    }\n",
       "</style>\n",
       "<table border=\"1\" class=\"dataframe\">\n",
       "  <thead>\n",
       "    <tr style=\"text-align: right;\">\n",
       "      <th></th>\n",
       "      <th>title</th>\n",
       "      <th>text</th>\n",
       "      <th>subject</th>\n",
       "      <th>date</th>\n",
       "      <th>is_fake</th>\n",
       "    </tr>\n",
       "  </thead>\n",
       "  <tbody>\n",
       "    <tr>\n",
       "      <th>0</th>\n",
       "      <td>Donald Trump Sends Out Embarrassing New Year’...</td>\n",
       "      <td>Donald Trump just couldn t wish all Americans ...</td>\n",
       "      <td>News</td>\n",
       "      <td>December 31, 2017</td>\n",
       "      <td>1</td>\n",
       "    </tr>\n",
       "    <tr>\n",
       "      <th>1</th>\n",
       "      <td>Drunk Bragging Trump Staffer Started Russian ...</td>\n",
       "      <td>House Intelligence Committee Chairman Devin Nu...</td>\n",
       "      <td>News</td>\n",
       "      <td>December 31, 2017</td>\n",
       "      <td>1</td>\n",
       "    </tr>\n",
       "    <tr>\n",
       "      <th>2</th>\n",
       "      <td>Sheriff David Clarke Becomes An Internet Joke...</td>\n",
       "      <td>On Friday, it was revealed that former Milwauk...</td>\n",
       "      <td>News</td>\n",
       "      <td>December 30, 2017</td>\n",
       "      <td>1</td>\n",
       "    </tr>\n",
       "    <tr>\n",
       "      <th>3</th>\n",
       "      <td>Trump Is So Obsessed He Even Has Obama’s Name...</td>\n",
       "      <td>On Christmas day, Donald Trump announced that ...</td>\n",
       "      <td>News</td>\n",
       "      <td>December 29, 2017</td>\n",
       "      <td>1</td>\n",
       "    </tr>\n",
       "    <tr>\n",
       "      <th>4</th>\n",
       "      <td>Pope Francis Just Called Out Donald Trump Dur...</td>\n",
       "      <td>Pope Francis used his annual Christmas Day mes...</td>\n",
       "      <td>News</td>\n",
       "      <td>December 25, 2017</td>\n",
       "      <td>1</td>\n",
       "    </tr>\n",
       "  </tbody>\n",
       "</table>\n",
       "</div>"
      ]
     },
     "execution_count": 9,
     "metadata": {},
     "output_type": "execute_result"
    }
   ],
   "execution_count": 9
  },
  {
   "metadata": {
    "ExecuteTime": {
     "end_time": "2024-07-14T11:02:02.904470Z",
     "start_time": "2024-07-14T11:02:02.902058Z"
    }
   },
   "cell_type": "code",
   "source": "news.shape",
   "id": "13964c09e216429",
   "outputs": [
    {
     "data": {
      "text/plain": [
       "(44898, 5)"
      ]
     },
     "execution_count": 10,
     "metadata": {},
     "output_type": "execute_result"
    }
   ],
   "execution_count": 10
  },
  {
   "metadata": {
    "ExecuteTime": {
     "end_time": "2024-07-14T11:02:03.522022Z",
     "start_time": "2024-07-14T11:02:03.519116Z"
    }
   },
   "cell_type": "code",
   "source": "fake.shape, true.shape, fake.shape[0]+ true.shape[0]",
   "id": "c6e6e10685807139",
   "outputs": [
    {
     "data": {
      "text/plain": [
       "((23481, 5), (21417, 5), 44898)"
      ]
     },
     "execution_count": 11,
     "metadata": {},
     "output_type": "execute_result"
    }
   ],
   "execution_count": 11
  },
  {
   "metadata": {
    "ExecuteTime": {
     "end_time": "2024-07-14T11:02:04.239797Z",
     "start_time": "2024-07-14T11:02:04.234135Z"
    }
   },
   "cell_type": "code",
   "source": [
    "# count unique values in the subject column\n",
    "news['subject'].value_counts()"
   ],
   "id": "4f40ad33b2294ecf",
   "outputs": [
    {
     "data": {
      "text/plain": [
       "subject\n",
       "politicsNews       11272\n",
       "worldnews          10145\n",
       "News                9050\n",
       "politics            6841\n",
       "left-news           4459\n",
       "Government News     1570\n",
       "US_News              783\n",
       "Middle-east          778\n",
       "Name: count, dtype: int64"
      ]
     },
     "execution_count": 12,
     "metadata": {},
     "output_type": "execute_result"
    }
   ],
   "execution_count": 12
  },
  {
   "metadata": {
    "ExecuteTime": {
     "end_time": "2024-07-14T11:02:04.696158Z",
     "start_time": "2024-07-14T11:02:04.694612Z"
    }
   },
   "cell_type": "code",
   "source": "",
   "id": "8a12c54337493cdf",
   "outputs": [],
   "execution_count": 12
  },
  {
   "metadata": {},
   "cell_type": "markdown",
   "source": [
    "# Correlation\n",
    "\n",
    "i will check if there is a correlation between:\n",
    "- the length of the news and the truthfulness of the news\n",
    "- the number of stop-words in the news and the truthfulness of the news\n",
    "- the number of upper case letters in the news and the truthfulness of the news\n",
    "- the number of lower case letters  in the news and the truthfulness of the news\n",
    "- the number of punctuation in the news and the truthfulness of the news"
   ],
   "id": "d85b393bee19edd3"
  },
  {
   "metadata": {
    "ExecuteTime": {
     "end_time": "2024-07-14T11:02:07.314102Z",
     "start_time": "2024-07-14T11:02:07.294997Z"
    }
   },
   "cell_type": "code",
   "source": [
    "# calculate the length of the news\n",
    "news['news_length'] = news['text'].apply(len)"
   ],
   "id": "997c463799ae17b7",
   "outputs": [],
   "execution_count": 13
  },
  {
   "metadata": {
    "ExecuteTime": {
     "end_time": "2024-07-14T11:02:09.898554Z",
     "start_time": "2024-07-14T11:02:07.614528Z"
    }
   },
   "cell_type": "code",
   "source": [
    "# calculate the number of stop words in the news\n",
    "from nltk.corpus import stopwords\n",
    "stop_words = set(stopwords.words('english'))\n",
    "news['stop_words'] = news['text'].apply(lambda x: len([word for word in x.split() if word.lower() in stop_words]))"
   ],
   "id": "10b7eefab0ea6029",
   "outputs": [],
   "execution_count": 14
  },
  {
   "metadata": {
    "ExecuteTime": {
     "end_time": "2024-07-14T11:02:10.752457Z",
     "start_time": "2024-07-14T11:02:09.899808Z"
    }
   },
   "cell_type": "code",
   "source": [
    "# calculate the number of upper case letters in the news\n",
    "news['upper_case'] = news['text'].apply(lambda x: len([word for word in x.split() if word.isupper()]))"
   ],
   "id": "1d62933b7270bc35",
   "outputs": [],
   "execution_count": 15
  },
  {
   "metadata": {
    "ExecuteTime": {
     "end_time": "2024-07-14T11:02:11.869232Z",
     "start_time": "2024-07-14T11:02:10.753139Z"
    }
   },
   "cell_type": "code",
   "source": [
    "# calculate the number of lower case letters in the news\n",
    "news['lower_case'] = news['text'].apply(lambda x: len([word for word in x.split() if word.islower()]))"
   ],
   "id": "fbf5e3dc1b5fb1d6",
   "outputs": [],
   "execution_count": 16
  },
  {
   "metadata": {
    "ExecuteTime": {
     "end_time": "2024-07-14T11:02:13.034353Z",
     "start_time": "2024-07-14T11:02:11.870604Z"
    }
   },
   "cell_type": "code",
   "source": [
    "# calculate the amount of punctuation in the news\n",
    "import string\n",
    "news['punctuation'] = news['text'].apply(lambda x: len([word for word in x.split() if word in string.punctuation]))"
   ],
   "id": "9daad9e8bc75b0c2",
   "outputs": [],
   "execution_count": 17
  },
  {
   "metadata": {
    "ExecuteTime": {
     "end_time": "2024-07-14T11:02:13.036399Z",
     "start_time": "2024-07-14T11:02:13.034936Z"
    }
   },
   "cell_type": "code",
   "source": "",
   "id": "116bec596264e2cd",
   "outputs": [],
   "execution_count": 17
  },
  {
   "metadata": {
    "ExecuteTime": {
     "end_time": "2024-07-14T11:02:13.039276Z",
     "start_time": "2024-07-14T11:02:13.036950Z"
    }
   },
   "cell_type": "code",
   "source": "from common import t_test",
   "id": "117589d23b575905",
   "outputs": [],
   "execution_count": 18
  },
  {
   "metadata": {
    "ExecuteTime": {
     "end_time": "2024-07-14T11:02:13.041227Z",
     "start_time": "2024-07-14T11:02:13.039877Z"
    }
   },
   "cell_type": "code",
   "source": "",
   "id": "6e0c4fb11eea70e4",
   "outputs": [],
   "execution_count": 18
  },
  {
   "metadata": {
    "ExecuteTime": {
     "end_time": "2024-07-14T11:02:13.043100Z",
     "start_time": "2024-07-14T11:02:13.041811Z"
    }
   },
   "cell_type": "code",
   "source": "from scipy.stats import ttest_ind",
   "id": "caa5be1890b118ab",
   "outputs": [],
   "execution_count": 19
  },
  {
   "metadata": {
    "ExecuteTime": {
     "end_time": "2024-07-14T11:02:38.317878Z",
     "start_time": "2024-07-14T11:02:38.307540Z"
    }
   },
   "cell_type": "code",
   "source": [
    "t_test(df= news,\n",
    "       feature_name='news_length',\n",
    "       target_column_name='is_fake',\n",
    "       group_1_value=1,\n",
    "       group_2_value=0\n",
    "       )"
   ],
   "id": "d4015130b81ad475",
   "outputs": [
    {
     "name": "stdout",
     "output_type": "stream",
     "text": [
      "T-test statistic: 8.003890245433698\n",
      "P-value: 1.2342009860075677e-15\n",
      "There is a significant difference between the groups, indicating a correlation between 'is_fake' and 'news_length'.\n"
     ]
    }
   ],
   "execution_count": 21
  },
  {
   "metadata": {
    "ExecuteTime": {
     "end_time": "2024-07-14T10:47:46.370009Z",
     "start_time": "2024-07-14T10:47:46.360638Z"
    }
   },
   "cell_type": "code",
   "source": [
    "# check if there is a correlation between the length of the news and the truthfulness of the news\n",
    "t_test(news[news['is_fake'] == 1]['news_length'],\n",
    "       news[news['is_fake'] == 0]['news_length'])"
   ],
   "id": "aa46a4ff9ed9c19",
   "outputs": [
    {
     "name": "stdout",
     "output_type": "stream",
     "text": [
      "T-test statistic: 8.003890245433698\n",
      "P-value: 1.2342009860075677e-15\n",
      "There is a significant difference between the groups, indicating a correlation between 'target' and 'news_length'.\n"
     ]
    }
   ],
   "execution_count": 22
  },
  {
   "metadata": {
    "ExecuteTime": {
     "end_time": "2024-07-14T10:47:52.790960Z",
     "start_time": "2024-07-14T10:47:52.782633Z"
    }
   },
   "cell_type": "code",
   "source": [
    "# check if there is a correlation between the number of stop-words in the news and the truthfulness of the news\n",
    "t_test(news[news['is_fake'] == 1]['stop_words'],\n",
    "       news[news['is_fake'] == 0]['stop_words'])"
   ],
   "id": "39101e42af6bab5",
   "outputs": [
    {
     "name": "stdout",
     "output_type": "stream",
     "text": [
      "T-test statistic: 24.44750776969392\n",
      "P-value: 3.867604351588955e-131\n",
      "There is a significant difference between the groups, indicating a correlation between 'target' and 'stop_words'.\n"
     ]
    }
   ],
   "execution_count": 23
  },
  {
   "metadata": {
    "ExecuteTime": {
     "end_time": "2024-07-14T10:48:00.244882Z",
     "start_time": "2024-07-14T10:48:00.235388Z"
    }
   },
   "cell_type": "code",
   "source": [
    "# check if there is a correlation between the number of upper case letters in the news and the truthfulness of the news\n",
    "t_test(news[news['is_fake'] == 1]['upper_case'],\n",
    "       news[news['is_fake'] == 0]['upper_case'])"
   ],
   "id": "33f43b662e18ef61",
   "outputs": [
    {
     "name": "stdout",
     "output_type": "stream",
     "text": [
      "T-test statistic: 22.365101007354305\n",
      "P-value: 3.451075097588242e-110\n",
      "There is a significant difference between the groups, indicating a correlation between 'target' and 'upper_case'.\n"
     ]
    }
   ],
   "execution_count": 24
  },
  {
   "metadata": {
    "ExecuteTime": {
     "end_time": "2024-07-14T10:48:04.952793Z",
     "start_time": "2024-07-14T10:48:04.943281Z"
    }
   },
   "cell_type": "code",
   "source": [
    "# check if there is a correlation between the number of lower case letters in the news and the truthfulness of the news\n",
    "t_test(news[news['is_fake'] == 1]['lower_case'],\n",
    "       news[news['is_fake'] == 0]['lower_case'])"
   ],
   "id": "1d15882a394780ff",
   "outputs": [
    {
     "name": "stdout",
     "output_type": "stream",
     "text": [
      "T-test statistic: 11.954094737771133\n",
      "P-value: 6.933924288778961e-33\n",
      "There is a significant difference between the groups, indicating a correlation between 'target' and 'lower_case'.\n"
     ]
    }
   ],
   "execution_count": 25
  },
  {
   "metadata": {},
   "cell_type": "code",
   "outputs": [],
   "execution_count": null,
   "source": "",
   "id": "dc65d849fd37df0"
  }
 ],
 "metadata": {
  "kernelspec": {
   "display_name": "Python 3",
   "language": "python",
   "name": "python3"
  },
  "language_info": {
   "codemirror_mode": {
    "name": "ipython",
    "version": 2
   },
   "file_extension": ".py",
   "mimetype": "text/x-python",
   "name": "python",
   "nbconvert_exporter": "python",
   "pygments_lexer": "ipython2",
   "version": "2.7.6"
  }
 },
 "nbformat": 4,
 "nbformat_minor": 5
}
