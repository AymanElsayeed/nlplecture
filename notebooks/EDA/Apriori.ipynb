{
 "cells": [
  {
   "cell_type": "markdown",
   "metadata": {},
   "source": "# Association Analysis With Apriori\n"
  },
  {
   "metadata": {},
   "cell_type": "markdown",
   "source": [
    "$$\n",
    "Support: \\frac{A+B}{Total}\n",
    "$$\n",
    "\n",
    "Number of transactions in which both items appear\n",
    "\n",
    "Total number of transactions"
   ]
  },
  {
   "metadata": {},
   "cell_type": "markdown",
   "source": [
    "$$\n",
    "Confidence: \\frac{A+B}{A}\n",
    "$$\n",
    "\n",
    "Number of transactions in which both items appear\n",
    "\n",
    "Number of transactions in which item A appears"
   ]
  },
  {
   "metadata": {},
   "cell_type": "markdown",
   "source": [
    "$$\n",
    "Lift: \\frac{Confidence}{\\frac{B}{Total} }\n",
    "$$\n"
   ]
  },
  {
   "cell_type": "code",
   "metadata": {
    "ExecuteTime": {
     "end_time": "2025-08-18T07:05:57.036027Z",
     "start_time": "2025-08-18T07:05:57.033521Z"
    }
   },
   "source": [
    "import pandas as pd\n",
    "import matplotlib.pyplot as plt\n",
    "import plotly.express as px\n",
    "from apyori import apriori       # For Apriori algorithm"
   ],
   "outputs": [],
   "execution_count": 39
  },
  {
   "cell_type": "markdown",
   "metadata": {},
   "source": [
    "# Load And Prepare Data\n",
    "\n",
    "For this demonstration, we'll use the dataset `Groceries.csv`, which comes from the R package `arules` and is saved as a CSV file. The data is in transactional format (as opposed to tabular format), which means that each row is a list of items purchased together and that the items may be in different order. There are 32 columns in each row, each column either contains a purchased items or `NaN`.\n",
    "\n",
    "The code below opens the dataset and converts to to list format, which is necessary for the `apriori()` function."
   ]
  },
  {
   "cell_type": "code",
   "metadata": {
    "ExecuteTime": {
     "end_time": "2025-08-18T06:18:46.756290Z",
     "start_time": "2025-08-18T06:18:46.733683Z"
    }
   },
   "source": [
    "transactions = []\n",
    "\n",
    "with open('../../assets/Groceries.csv') as f:\n",
    "    for line in f:\n",
    "        transaction = [item for item in line.strip().split(',') if item != 'NaN']\n",
    "        transactions.append(transaction)\n",
    "    \n",
    "transactions[:3]"
   ],
   "outputs": [
    {
     "data": {
      "text/plain": [
       "[['citrus fruit', 'semi-finished bread', 'margarine', 'ready soups'],\n",
       " ['tropical fruit', 'yogurt', 'coffee'],\n",
       " ['whole milk']]"
      ]
     },
     "execution_count": 4,
     "metadata": {},
     "output_type": "execute_result"
    }
   ],
   "execution_count": 4
  },
  {
   "cell_type": "markdown",
   "metadata": {},
   "source": [
    "# APPLY APRIORI\n",
    "\n",
    "Call `apriori()` on `transactions`. As parameters `apriori()` can take the minimum support, minimum confidence, minimum lift and minimum items in a transaction. Only the pairs of items that satisfy these criteria would be returned."
   ]
  },
  {
   "cell_type": "code",
   "metadata": {
    "ExecuteTime": {
     "end_time": "2025-08-18T07:18:48.320287Z",
     "start_time": "2025-08-18T07:18:48.077868Z"
    }
   },
   "source": [
    "rules = list(apriori(\n",
    "    transactions, \n",
    "    min_support=0.001, \n",
    "    min_confidence=0.10,\n",
    "    min_length=2,\n",
    "    max_length=2))\n",
    "\n",
    "# Prints one rule\n",
    "print(rules[0])"
   ],
   "outputs": [
    {
     "name": "stdout",
     "output_type": "stream",
     "text": [
      "RelationRecord(items=frozenset({'bottled water'}), support=0.11052364006100661, ordered_statistics=[OrderedStatistic(items_base=frozenset(), items_add=frozenset({'bottled water'}), confidence=0.11052364006100661, lift=1.0)])\n"
     ]
    }
   ],
   "execution_count": 41
  },
  {
   "cell_type": "markdown",
   "metadata": {},
   "source": [
    "## Convert Rules to Readable Format\n",
    "The printed rule above is not very clear. Let's convert it to a more readable format. We'll add a `From` and `To` field to the DataFrame, to indicate a rule's antecedent and consequent respectively. Hence for a rule of the form `A->B`. The `From` will contain `A` and `To` will contain `B`. We'll also add the `Support`, `Confidence` and `Lift` corresponding to each rule in the DataFrame. "
   ]
  },
  {
   "cell_type": "code",
   "metadata": {
    "ExecuteTime": {
     "end_time": "2025-08-18T06:18:46.881587Z",
     "start_time": "2025-08-18T06:18:46.871027Z"
    }
   },
   "source": [
    "rules_df = pd.DataFrame(\n",
    "    [{'From': list(rule[0])[0],\n",
    "    'To': list(rule[0])[1],\n",
    "    'Support': rule[1],\n",
    "    'Confidence': rule[2][0][2],\n",
    "    'Lift': rule[2][0][3]} for rule in rules if len(rule[0]) == 2])\n",
    "rules_df = rules_df.dropna()\n",
    "\n",
    "rules_df.head()"
   ],
   "outputs": [
    {
     "data": {
      "text/plain": [
       "                    From                     To   Support  Confidence  \\\n",
       "0  Instant food products          bottled water  0.001017    0.126582   \n",
       "1                 butter  Instant food products  0.001220    0.151899   \n",
       "2  Instant food products           citrus fruit  0.001118    0.139241   \n",
       "3  Instant food products                   curd  0.001322    0.164557   \n",
       "4          domestic eggs  Instant food products  0.001017    0.126582   \n",
       "\n",
       "       Lift  \n",
       "0  1.145296  \n",
       "1  2.741145  \n",
       "2  1.682347  \n",
       "3  3.088583  \n",
       "4  1.995091  "
      ],
      "text/html": [
       "<div>\n",
       "<style scoped>\n",
       "    .dataframe tbody tr th:only-of-type {\n",
       "        vertical-align: middle;\n",
       "    }\n",
       "\n",
       "    .dataframe tbody tr th {\n",
       "        vertical-align: top;\n",
       "    }\n",
       "\n",
       "    .dataframe thead th {\n",
       "        text-align: right;\n",
       "    }\n",
       "</style>\n",
       "<table border=\"1\" class=\"dataframe\">\n",
       "  <thead>\n",
       "    <tr style=\"text-align: right;\">\n",
       "      <th></th>\n",
       "      <th>From</th>\n",
       "      <th>To</th>\n",
       "      <th>Support</th>\n",
       "      <th>Confidence</th>\n",
       "      <th>Lift</th>\n",
       "    </tr>\n",
       "  </thead>\n",
       "  <tbody>\n",
       "    <tr>\n",
       "      <th>0</th>\n",
       "      <td>Instant food products</td>\n",
       "      <td>bottled water</td>\n",
       "      <td>0.001017</td>\n",
       "      <td>0.126582</td>\n",
       "      <td>1.145296</td>\n",
       "    </tr>\n",
       "    <tr>\n",
       "      <th>1</th>\n",
       "      <td>butter</td>\n",
       "      <td>Instant food products</td>\n",
       "      <td>0.001220</td>\n",
       "      <td>0.151899</td>\n",
       "      <td>2.741145</td>\n",
       "    </tr>\n",
       "    <tr>\n",
       "      <th>2</th>\n",
       "      <td>Instant food products</td>\n",
       "      <td>citrus fruit</td>\n",
       "      <td>0.001118</td>\n",
       "      <td>0.139241</td>\n",
       "      <td>1.682347</td>\n",
       "    </tr>\n",
       "    <tr>\n",
       "      <th>3</th>\n",
       "      <td>Instant food products</td>\n",
       "      <td>curd</td>\n",
       "      <td>0.001322</td>\n",
       "      <td>0.164557</td>\n",
       "      <td>3.088583</td>\n",
       "    </tr>\n",
       "    <tr>\n",
       "      <th>4</th>\n",
       "      <td>domestic eggs</td>\n",
       "      <td>Instant food products</td>\n",
       "      <td>0.001017</td>\n",
       "      <td>0.126582</td>\n",
       "      <td>1.995091</td>\n",
       "    </tr>\n",
       "  </tbody>\n",
       "</table>\n",
       "</div>"
      ]
     },
     "execution_count": 6,
     "metadata": {},
     "output_type": "execute_result"
    }
   ],
   "execution_count": 6
  },
  {
   "cell_type": "markdown",
   "metadata": {},
   "source": [
    "## List Rules with N's\n",
    "The code below calls `plot()` on each row of the rules DataFrame to create a list of all the mined rules. First, we have to add two numeric columns corresponding to each item to `rules_df`."
   ]
  },
  {
   "cell_type": "code",
   "metadata": {
    "ExecuteTime": {
     "end_time": "2025-08-18T06:18:46.921656Z",
     "start_time": "2025-08-18T06:18:46.912673Z"
    }
   },
   "source": [
    "# Pick top rules\n",
    "rules_df = rules_df.sort_values('Support', ascending=False).head(50)\n",
    "\n",
    "# List of all items\n",
    "items = set(rules_df['From']) | set(rules_df['To'])\n",
    "\n",
    "# Creates a mapping of items to numbers\n",
    "imap = {item : i for i, item in enumerate(items)}\n",
    "\n",
    "# Maps the items to numbers and adds the numeric 'FromN' and 'ToN' columns\n",
    "rules_df['FromN'] = rules_df['From'].map(imap)\n",
    "rules_df['ToN'] = rules_df['To'].map(imap)\n",
    "\n",
    "# Displays the top 20 association rules, sorted by Support\n",
    "rules_df.head(20)"
   ],
   "outputs": [
    {
     "data": {
      "text/plain": [
       "                  From                  To   Support  Confidence      Lift  \\\n",
       "1539  other vegetables          whole milk  0.074835    0.386758  1.513634   \n",
       "1744        rolls/buns          whole milk  0.056634    0.307905  1.205032   \n",
       "1929        whole milk              yogurt  0.056024    0.219260  1.571735   \n",
       "1769        whole milk     root vegetables  0.048907    0.448694  1.756031   \n",
       "1506  other vegetables     root vegetables  0.047382    0.244877  2.246605   \n",
       "1540  other vegetables              yogurt  0.043416    0.224383  1.608457   \n",
       "1505  other vegetables          rolls/buns  0.042603    0.220179  1.197047   \n",
       "1911    tropical fruit          whole milk  0.042298    0.403101  1.577595   \n",
       "1864        whole milk                soda  0.040061    0.229738  0.899112   \n",
       "1725        rolls/buns                soda  0.038332    0.208402  1.195124   \n",
       "1532  other vegetables      tropical fruit  0.035892    0.185497  1.767790   \n",
       "269         whole milk       bottled water  0.034367    0.310948  1.216940   \n",
       "1745        rolls/buns              yogurt  0.034367    0.186844  1.339363   \n",
       "1592            pastry          whole milk  0.033249    0.373714  1.462587   \n",
       "1517  other vegetables                soda  0.032740    0.169207  0.970348   \n",
       "1923        whole milk  whipped/sour cream  0.032232    0.449645  1.759754   \n",
       "1718           sausage          rolls/buns  0.030605    0.166390  1.771048   \n",
       "671         whole milk        citrus fruit  0.030503    0.368550  1.442377   \n",
       "1641        whole milk           pip fruit  0.030097    0.397849  1.557043   \n",
       "925         whole milk       domestic eggs  0.029995    0.472756  1.850203   \n",
       "\n",
       "      FromN  ToN  \n",
       "1539      0    1  \n",
       "1744      8    1  \n",
       "1929      1    2  \n",
       "1769      1   20  \n",
       "1506      0   20  \n",
       "1540      0    2  \n",
       "1505      0    8  \n",
       "1911      7    1  \n",
       "1864      1   18  \n",
       "1725      8   18  \n",
       "1532      0    7  \n",
       "269       1   19  \n",
       "1745      8    2  \n",
       "1592     22    1  \n",
       "1517      0   18  \n",
       "1923      1   13  \n",
       "1718     10    8  \n",
       "671       1    5  \n",
       "1641      1   17  \n",
       "925       1    9  "
      ],
      "text/html": [
       "<div>\n",
       "<style scoped>\n",
       "    .dataframe tbody tr th:only-of-type {\n",
       "        vertical-align: middle;\n",
       "    }\n",
       "\n",
       "    .dataframe tbody tr th {\n",
       "        vertical-align: top;\n",
       "    }\n",
       "\n",
       "    .dataframe thead th {\n",
       "        text-align: right;\n",
       "    }\n",
       "</style>\n",
       "<table border=\"1\" class=\"dataframe\">\n",
       "  <thead>\n",
       "    <tr style=\"text-align: right;\">\n",
       "      <th></th>\n",
       "      <th>From</th>\n",
       "      <th>To</th>\n",
       "      <th>Support</th>\n",
       "      <th>Confidence</th>\n",
       "      <th>Lift</th>\n",
       "      <th>FromN</th>\n",
       "      <th>ToN</th>\n",
       "    </tr>\n",
       "  </thead>\n",
       "  <tbody>\n",
       "    <tr>\n",
       "      <th>1539</th>\n",
       "      <td>other vegetables</td>\n",
       "      <td>whole milk</td>\n",
       "      <td>0.074835</td>\n",
       "      <td>0.386758</td>\n",
       "      <td>1.513634</td>\n",
       "      <td>0</td>\n",
       "      <td>1</td>\n",
       "    </tr>\n",
       "    <tr>\n",
       "      <th>1744</th>\n",
       "      <td>rolls/buns</td>\n",
       "      <td>whole milk</td>\n",
       "      <td>0.056634</td>\n",
       "      <td>0.307905</td>\n",
       "      <td>1.205032</td>\n",
       "      <td>8</td>\n",
       "      <td>1</td>\n",
       "    </tr>\n",
       "    <tr>\n",
       "      <th>1929</th>\n",
       "      <td>whole milk</td>\n",
       "      <td>yogurt</td>\n",
       "      <td>0.056024</td>\n",
       "      <td>0.219260</td>\n",
       "      <td>1.571735</td>\n",
       "      <td>1</td>\n",
       "      <td>2</td>\n",
       "    </tr>\n",
       "    <tr>\n",
       "      <th>1769</th>\n",
       "      <td>whole milk</td>\n",
       "      <td>root vegetables</td>\n",
       "      <td>0.048907</td>\n",
       "      <td>0.448694</td>\n",
       "      <td>1.756031</td>\n",
       "      <td>1</td>\n",
       "      <td>20</td>\n",
       "    </tr>\n",
       "    <tr>\n",
       "      <th>1506</th>\n",
       "      <td>other vegetables</td>\n",
       "      <td>root vegetables</td>\n",
       "      <td>0.047382</td>\n",
       "      <td>0.244877</td>\n",
       "      <td>2.246605</td>\n",
       "      <td>0</td>\n",
       "      <td>20</td>\n",
       "    </tr>\n",
       "    <tr>\n",
       "      <th>1540</th>\n",
       "      <td>other vegetables</td>\n",
       "      <td>yogurt</td>\n",
       "      <td>0.043416</td>\n",
       "      <td>0.224383</td>\n",
       "      <td>1.608457</td>\n",
       "      <td>0</td>\n",
       "      <td>2</td>\n",
       "    </tr>\n",
       "    <tr>\n",
       "      <th>1505</th>\n",
       "      <td>other vegetables</td>\n",
       "      <td>rolls/buns</td>\n",
       "      <td>0.042603</td>\n",
       "      <td>0.220179</td>\n",
       "      <td>1.197047</td>\n",
       "      <td>0</td>\n",
       "      <td>8</td>\n",
       "    </tr>\n",
       "    <tr>\n",
       "      <th>1911</th>\n",
       "      <td>tropical fruit</td>\n",
       "      <td>whole milk</td>\n",
       "      <td>0.042298</td>\n",
       "      <td>0.403101</td>\n",
       "      <td>1.577595</td>\n",
       "      <td>7</td>\n",
       "      <td>1</td>\n",
       "    </tr>\n",
       "    <tr>\n",
       "      <th>1864</th>\n",
       "      <td>whole milk</td>\n",
       "      <td>soda</td>\n",
       "      <td>0.040061</td>\n",
       "      <td>0.229738</td>\n",
       "      <td>0.899112</td>\n",
       "      <td>1</td>\n",
       "      <td>18</td>\n",
       "    </tr>\n",
       "    <tr>\n",
       "      <th>1725</th>\n",
       "      <td>rolls/buns</td>\n",
       "      <td>soda</td>\n",
       "      <td>0.038332</td>\n",
       "      <td>0.208402</td>\n",
       "      <td>1.195124</td>\n",
       "      <td>8</td>\n",
       "      <td>18</td>\n",
       "    </tr>\n",
       "    <tr>\n",
       "      <th>1532</th>\n",
       "      <td>other vegetables</td>\n",
       "      <td>tropical fruit</td>\n",
       "      <td>0.035892</td>\n",
       "      <td>0.185497</td>\n",
       "      <td>1.767790</td>\n",
       "      <td>0</td>\n",
       "      <td>7</td>\n",
       "    </tr>\n",
       "    <tr>\n",
       "      <th>269</th>\n",
       "      <td>whole milk</td>\n",
       "      <td>bottled water</td>\n",
       "      <td>0.034367</td>\n",
       "      <td>0.310948</td>\n",
       "      <td>1.216940</td>\n",
       "      <td>1</td>\n",
       "      <td>19</td>\n",
       "    </tr>\n",
       "    <tr>\n",
       "      <th>1745</th>\n",
       "      <td>rolls/buns</td>\n",
       "      <td>yogurt</td>\n",
       "      <td>0.034367</td>\n",
       "      <td>0.186844</td>\n",
       "      <td>1.339363</td>\n",
       "      <td>8</td>\n",
       "      <td>2</td>\n",
       "    </tr>\n",
       "    <tr>\n",
       "      <th>1592</th>\n",
       "      <td>pastry</td>\n",
       "      <td>whole milk</td>\n",
       "      <td>0.033249</td>\n",
       "      <td>0.373714</td>\n",
       "      <td>1.462587</td>\n",
       "      <td>22</td>\n",
       "      <td>1</td>\n",
       "    </tr>\n",
       "    <tr>\n",
       "      <th>1517</th>\n",
       "      <td>other vegetables</td>\n",
       "      <td>soda</td>\n",
       "      <td>0.032740</td>\n",
       "      <td>0.169207</td>\n",
       "      <td>0.970348</td>\n",
       "      <td>0</td>\n",
       "      <td>18</td>\n",
       "    </tr>\n",
       "    <tr>\n",
       "      <th>1923</th>\n",
       "      <td>whole milk</td>\n",
       "      <td>whipped/sour cream</td>\n",
       "      <td>0.032232</td>\n",
       "      <td>0.449645</td>\n",
       "      <td>1.759754</td>\n",
       "      <td>1</td>\n",
       "      <td>13</td>\n",
       "    </tr>\n",
       "    <tr>\n",
       "      <th>1718</th>\n",
       "      <td>sausage</td>\n",
       "      <td>rolls/buns</td>\n",
       "      <td>0.030605</td>\n",
       "      <td>0.166390</td>\n",
       "      <td>1.771048</td>\n",
       "      <td>10</td>\n",
       "      <td>8</td>\n",
       "    </tr>\n",
       "    <tr>\n",
       "      <th>671</th>\n",
       "      <td>whole milk</td>\n",
       "      <td>citrus fruit</td>\n",
       "      <td>0.030503</td>\n",
       "      <td>0.368550</td>\n",
       "      <td>1.442377</td>\n",
       "      <td>1</td>\n",
       "      <td>5</td>\n",
       "    </tr>\n",
       "    <tr>\n",
       "      <th>1641</th>\n",
       "      <td>whole milk</td>\n",
       "      <td>pip fruit</td>\n",
       "      <td>0.030097</td>\n",
       "      <td>0.397849</td>\n",
       "      <td>1.557043</td>\n",
       "      <td>1</td>\n",
       "      <td>17</td>\n",
       "    </tr>\n",
       "    <tr>\n",
       "      <th>925</th>\n",
       "      <td>whole milk</td>\n",
       "      <td>domestic eggs</td>\n",
       "      <td>0.029995</td>\n",
       "      <td>0.472756</td>\n",
       "      <td>1.850203</td>\n",
       "      <td>1</td>\n",
       "      <td>9</td>\n",
       "    </tr>\n",
       "  </tbody>\n",
       "</table>\n",
       "</div>"
      ]
     },
     "execution_count": 7,
     "metadata": {},
     "output_type": "execute_result"
    }
   ],
   "execution_count": 7
  },
  {
   "cell_type": "markdown",
   "metadata": {},
   "source": [
    "## Plot Rules\n",
    "Plot each pair of items in the rule. If a rule is A->B, then the item A is in the bottom row of the plot (y=0) and B is in the top row (y=1). The color of each line indicates the support of the rule multiplied by 100 (support*100). The width of each line is controlled by the confidence of each rule."
   ]
  },
  {
   "cell_type": "code",
   "metadata": {
    "ExecuteTime": {
     "end_time": "2025-08-18T07:04:13.565745Z",
     "start_time": "2025-08-18T07:04:13.563989Z"
    }
   },
   "source": "",
   "outputs": [],
   "execution_count": null
  },
  {
   "metadata": {
    "ExecuteTime": {
     "end_time": "2025-08-18T07:04:08.084871Z",
     "start_time": "2025-08-18T07:04:08.083204Z"
    }
   },
   "cell_type": "code",
   "source": "",
   "outputs": [],
   "execution_count": null
  },
  {
   "metadata": {
    "ExecuteTime": {
     "end_time": "2025-08-18T06:54:05.959187Z",
     "start_time": "2025-08-18T06:54:05.834957Z"
    }
   },
   "cell_type": "code",
   "source": [
    "plt.figure(figsize=(10, 6))\n",
    "plt.scatter(rules_df['Support'], rules_df['Confidence'],\n",
    "           c=rules_df['Lift'], cmap='viridis', alpha=0.6)\n",
    "plt.colorbar(label='Lift')\n",
    "plt.xlabel('Support')\n",
    "plt.ylabel('Confidence')\n",
    "plt.title('Association Rules: Support vs Confidence (colored by Lift)')\n",
    "plt.show()"
   ],
   "outputs": [
    {
     "data": {
      "text/plain": [
       "<Figure size 1000x600 with 2 Axes>"
      ],
      "image/png": "[encoded data removed]"
     },
     "metadata": {},
     "output_type": "display_data"
    }
   ],
   "execution_count": 26
  },
  {
   "metadata": {
    "ExecuteTime": {
     "end_time": "2025-08-18T06:54:09.181257Z",
     "start_time": "2025-08-18T06:54:09.179528Z"
    }
   },
   "cell_type": "code",
   "source": "",
   "outputs": [],
   "execution_count": null
  },
  {
   "metadata": {
    "ExecuteTime": {
     "end_time": "2025-08-18T07:03:51.858702Z",
     "start_time": "2025-08-18T07:03:51.857327Z"
    }
   },
   "cell_type": "code",
   "source": "\n",
   "outputs": [],
   "execution_count": 38
  },
  {
   "metadata": {
    "ExecuteTime": {
     "end_time": "2025-08-18T06:55:50.641019Z",
     "start_time": "2025-08-18T06:55:50.633895Z"
    }
   },
   "cell_type": "code",
   "source": "rules_df",
   "outputs": [
    {
     "data": {
      "text/plain": [
       "                  From                     To   Support  Confidence      Lift  \\\n",
       "1539  other vegetables             whole milk  0.074835    0.386758  1.513634   \n",
       "1744        rolls/buns             whole milk  0.056634    0.307905  1.205032   \n",
       "1929        whole milk                 yogurt  0.056024    0.219260  1.571735   \n",
       "1769        whole milk        root vegetables  0.048907    0.448694  1.756031   \n",
       "1506  other vegetables        root vegetables  0.047382    0.244877  2.246605   \n",
       "1540  other vegetables                 yogurt  0.043416    0.224383  1.608457   \n",
       "1505  other vegetables             rolls/buns  0.042603    0.220179  1.197047   \n",
       "1911    tropical fruit             whole milk  0.042298    0.403101  1.577595   \n",
       "1864        whole milk                   soda  0.040061    0.229738  0.899112   \n",
       "1725        rolls/buns                   soda  0.038332    0.208402  1.195124   \n",
       "1532  other vegetables         tropical fruit  0.035892    0.185497  1.767790   \n",
       "269         whole milk          bottled water  0.034367    0.310948  1.216940   \n",
       "1745        rolls/buns                 yogurt  0.034367    0.186844  1.339363   \n",
       "1592            pastry             whole milk  0.033249    0.373714  1.462587   \n",
       "1517  other vegetables                   soda  0.032740    0.169207  0.970348   \n",
       "1923        whole milk     whipped/sour cream  0.032232    0.449645  1.759754   \n",
       "1718           sausage             rolls/buns  0.030605    0.166390  1.771048   \n",
       "671         whole milk           citrus fruit  0.030503    0.368550  1.442377   \n",
       "1641        whole milk              pip fruit  0.030097    0.397849  1.557043   \n",
       "925         whole milk          domestic eggs  0.029995    0.472756  1.850203   \n",
       "1809           sausage             whole milk  0.029893    0.318182  1.245252   \n",
       "1912    tropical fruit                 yogurt  0.029283    0.279070  2.000475   \n",
       "255               soda          bottled water  0.028978    0.262190  1.503577   \n",
       "636   other vegetables           citrus fruit  0.028876    0.348894  1.803140   \n",
       "1536  other vegetables     whipped/sour cream  0.028876    0.149238  2.081924   \n",
       "362             butter             whole milk  0.027555    0.497248  1.946053   \n",
       "1455        whole milk             newspapers  0.027351    0.342675  1.341110   \n",
       "1865            yogurt                   soda  0.027351    0.156851  1.124368   \n",
       "1511           sausage       other vegetables  0.026945    0.139254  1.482209   \n",
       "1141        whole milk  fruit/vegetable juice  0.026640    0.368495  1.442160   \n",
       "1497  other vegetables              pip fruit  0.026131    0.135050  1.785237   \n",
       "785         whole milk                   curd  0.026131    0.490458  1.919481   \n",
       "1770   root vegetables                 yogurt  0.025826    0.236940  1.698475   \n",
       "313         whole milk            brown bread  0.025216    0.388715  1.521293   \n",
       "232   other vegetables          bottled water  0.024809    0.224471  1.160101   \n",
       "1823     shopping bags                   soda  0.024606    0.249742  1.432194   \n",
       "1737    tropical fruit             rolls/buns  0.024606    0.133776  1.274886   \n",
       "1836     shopping bags             whole milk  0.024504    0.248710  0.973364   \n",
       "1796           sausage                   soda  0.024301    0.258658  1.483324   \n",
       "1715        rolls/buns        root vegetables  0.024301    0.132117  1.212101   \n",
       "246         rolls/buns          bottled water  0.024199    0.218951  1.190373   \n",
       "1358         margarine             whole milk  0.024199    0.413194  1.617098   \n",
       "1514  other vegetables          shopping bags  0.023183    0.119811  1.216037   \n",
       "270             yogurt          bottled water  0.022979    0.207912  1.490387   \n",
       "1493            pastry       other vegetables  0.022572    0.116658  1.311235   \n",
       "901   other vegetables          domestic eggs  0.022267    0.350962  1.813824   \n",
       "1665        whole milk                   pork  0.022166    0.384480  1.504719   \n",
       "1499  other vegetables                   pork  0.021657    0.111929  1.941476   \n",
       "672             yogurt           citrus fruit  0.021657    0.261671  1.875752   \n",
       "114               beef             whole milk  0.021251    0.405039  1.585180   \n",
       "\n",
       "      FromN  ToN  \n",
       "1539      0    1  \n",
       "1744      8    1  \n",
       "1929      1    2  \n",
       "1769      1   20  \n",
       "1506      0   20  \n",
       "1540      0    2  \n",
       "1505      0    8  \n",
       "1911      7    1  \n",
       "1864      1   18  \n",
       "1725      8   18  \n",
       "1532      0    7  \n",
       "269       1   19  \n",
       "1745      8    2  \n",
       "1592     22    1  \n",
       "1517      0   18  \n",
       "1923      1   13  \n",
       "1718     10    8  \n",
       "671       1    5  \n",
       "1641      1   17  \n",
       "925       1    9  \n",
       "1809     10    1  \n",
       "1912      7    2  \n",
       "255      18   19  \n",
       "636       0    5  \n",
       "1536      0   13  \n",
       "362      14    1  \n",
       "1455      1   12  \n",
       "1865      2   18  \n",
       "1511     10    0  \n",
       "1141      1    6  \n",
       "1497      0   17  \n",
       "785       1   21  \n",
       "1770     20    2  \n",
       "313       1   15  \n",
       "232       0   19  \n",
       "1823     11   18  \n",
       "1737      7    8  \n",
       "1836     11    1  \n",
       "1796     10   18  \n",
       "1715      8   20  \n",
       "246       8   19  \n",
       "1358      4    1  \n",
       "1514      0   11  \n",
       "270       2   19  \n",
       "1493     22    0  \n",
       "901       0    9  \n",
       "1665      1    3  \n",
       "1499      0    3  \n",
       "672       2    5  \n",
       "114      16    1  "
      ],
      "text/html": [
       "<div>\n",
       "<style scoped>\n",
       "    .dataframe tbody tr th:only-of-type {\n",
       "        vertical-align: middle;\n",
       "    }\n",
       "\n",
       "    .dataframe tbody tr th {\n",
       "        vertical-align: top;\n",
       "    }\n",
       "\n",
       "    .dataframe thead th {\n",
       "        text-align: right;\n",
       "    }\n",
       "</style>\n",
       "<table border=\"1\" class=\"dataframe\">\n",
       "  <thead>\n",
       "    <tr style=\"text-align: right;\">\n",
       "      <th></th>\n",
       "      <th>From</th>\n",
       "      <th>To</th>\n",
       "      <th>Support</th>\n",
       "      <th>Confidence</th>\n",
       "      <th>Lift</th>\n",
       "      <th>FromN</th>\n",
       "      <th>ToN</th>\n",
       "    </tr>\n",
       "  </thead>\n",
       "  <tbody>\n",
       "    <tr>\n",
       "      <th>1539</th>\n",
       "      <td>other vegetables</td>\n",
       "      <td>whole milk</td>\n",
       "      <td>0.074835</td>\n",
       "      <td>0.386758</td>\n",
       "      <td>1.513634</td>\n",
       "      <td>0</td>\n",
       "      <td>1</td>\n",
       "    </tr>\n",
       "    <tr>\n",
       "      <th>1744</th>\n",
       "      <td>rolls/buns</td>\n",
       "      <td>whole milk</td>\n",
       "      <td>0.056634</td>\n",
       "      <td>0.307905</td>\n",
       "      <td>1.205032</td>\n",
       "      <td>8</td>\n",
       "      <td>1</td>\n",
       "    </tr>\n",
       "    <tr>\n",
       "      <th>1929</th>\n",
       "      <td>whole milk</td>\n",
       "      <td>yogurt</td>\n",
       "      <td>0.056024</td>\n",
       "      <td>0.219260</td>\n",
       "      <td>1.571735</td>\n",
       "      <td>1</td>\n",
       "      <td>2</td>\n",
       "    </tr>\n",
       "    <tr>\n",
       "      <th>1769</th>\n",
       "      <td>whole milk</td>\n",
       "      <td>root vegetables</td>\n",
       "      <td>0.048907</td>\n",
       "      <td>0.448694</td>\n",
       "      <td>1.756031</td>\n",
       "      <td>1</td>\n",
       "      <td>20</td>\n",
       "    </tr>\n",
       "    <tr>\n",
       "      <th>1506</th>\n",
       "      <td>other vegetables</td>\n",
       "      <td>root vegetables</td>\n",
       "      <td>0.047382</td>\n",
       "      <td>0.244877</td>\n",
       "      <td>2.246605</td>\n",
       "      <td>0</td>\n",
       "      <td>20</td>\n",
       "    </tr>\n",
       "    <tr>\n",
       "      <th>1540</th>\n",
       "      <td>other vegetables</td>\n",
       "      <td>yogurt</td>\n",
       "      <td>0.043416</td>\n",
       "      <td>0.224383</td>\n",
       "      <td>1.608457</td>\n",
       "      <td>0</td>\n",
       "      <td>2</td>\n",
       "    </tr>\n",
       "    <tr>\n",
       "      <th>1505</th>\n",
       "      <td>other vegetables</td>\n",
       "      <td>rolls/buns</td>\n",
       "      <td>0.042603</td>\n",
       "      <td>0.220179</td>\n",
       "      <td>1.197047</td>\n",
       "      <td>0</td>\n",
       "      <td>8</td>\n",
       "    </tr>\n",
       "    <tr>\n",
       "      <th>1911</th>\n",
       "      <td>tropical fruit</td>\n",
       "      <td>whole milk</td>\n",
       "      <td>0.042298</td>\n",
       "      <td>0.403101</td>\n",
       "      <td>1.577595</td>\n",
       "      <td>7</td>\n",
       "      <td>1</td>\n",
       "    </tr>\n",
       "    <tr>\n",
       "      <th>1864</th>\n",
       "      <td>whole milk</td>\n",
       "      <td>soda</td>\n",
       "      <td>0.040061</td>\n",
       "      <td>0.229738</td>\n",
       "      <td>0.899112</td>\n",
       "      <td>1</td>\n",
       "      <td>18</td>\n",
       "    </tr>\n",
       "    <tr>\n",
       "      <th>1725</th>\n",
       "      <td>rolls/buns</td>\n",
       "      <td>soda</td>\n",
       "      <td>0.038332</td>\n",
       "      <td>0.208402</td>\n",
       "      <td>1.195124</td>\n",
       "      <td>8</td>\n",
       "      <td>18</td>\n",
       "    </tr>\n",
       "    <tr>\n",
       "      <th>1532</th>\n",
       "      <td>other vegetables</td>\n",
       "      <td>tropical fruit</td>\n",
       "      <td>0.035892</td>\n",
       "      <td>0.185497</td>\n",
       "      <td>1.767790</td>\n",
       "      <td>0</td>\n",
       "      <td>7</td>\n",
       "    </tr>\n",
       "    <tr>\n",
       "      <th>269</th>\n",
       "      <td>whole milk</td>\n",
       "      <td>bottled water</td>\n",
       "      <td>0.034367</td>\n",
       "      <td>0.310948</td>\n",
       "      <td>1.216940</td>\n",
       "      <td>1</td>\n",
       "      <td>19</td>\n",
       "    </tr>\n",
       "    <tr>\n",
       "      <th>1745</th>\n",
       "      <td>rolls/buns</td>\n",
       "      <td>yogurt</td>\n",
       "      <td>0.034367</td>\n",
       "      <td>0.186844</td>\n",
       "      <td>1.339363</td>\n",
       "      <td>8</td>\n",
       "      <td>2</td>\n",
       "    </tr>\n",
       "    <tr>\n",
       "      <th>1592</th>\n",
       "      <td>pastry</td>\n",
       "      <td>whole milk</td>\n",
       "      <td>0.033249</td>\n",
       "      <td>0.373714</td>\n",
       "      <td>1.462587</td>\n",
       "      <td>22</td>\n",
       "      <td>1</td>\n",
       "    </tr>\n",
       "    <tr>\n",
       "      <th>1517</th>\n",
       "      <td>other vegetables</td>\n",
       "      <td>soda</td>\n",
       "      <td>0.032740</td>\n",
       "      <td>0.169207</td>\n",
       "      <td>0.970348</td>\n",
       "      <td>0</td>\n",
       "      <td>18</td>\n",
       "    </tr>\n",
       "    <tr>\n",
       "      <th>1923</th>\n",
       "      <td>whole milk</td>\n",
       "      <td>whipped/sour cream</td>\n",
       "      <td>0.032232</td>\n",
       "      <td>0.449645</td>\n",
       "      <td>1.759754</td>\n",
       "      <td>1</td>\n",
       "      <td>13</td>\n",
       "    </tr>\n",
       "    <tr>\n",
       "      <th>1718</th>\n",
       "      <td>sausage</td>\n",
       "      <td>rolls/buns</td>\n",
       "      <td>0.030605</td>\n",
       "      <td>0.166390</td>\n",
       "      <td>1.771048</td>\n",
       "      <td>10</td>\n",
       "      <td>8</td>\n",
       "    </tr>\n",
       "    <tr>\n",
       "      <th>671</th>\n",
       "      <td>whole milk</td>\n",
       "      <td>citrus fruit</td>\n",
       "      <td>0.030503</td>\n",
       "      <td>0.368550</td>\n",
       "      <td>1.442377</td>\n",
       "      <td>1</td>\n",
       "      <td>5</td>\n",
       "    </tr>\n",
       "    <tr>\n",
       "      <th>1641</th>\n",
       "      <td>whole milk</td>\n",
       "      <td>pip fruit</td>\n",
       "      <td>0.030097</td>\n",
       "      <td>0.397849</td>\n",
       "      <td>1.557043</td>\n",
       "      <td>1</td>\n",
       "      <td>17</td>\n",
       "    </tr>\n",
       "    <tr>\n",
       "      <th>925</th>\n",
       "      <td>whole milk</td>\n",
       "      <td>domestic eggs</td>\n",
       "      <td>0.029995</td>\n",
       "      <td>0.472756</td>\n",
       "      <td>1.850203</td>\n",
       "      <td>1</td>\n",
       "      <td>9</td>\n",
       "    </tr>\n",
       "    <tr>\n",
       "      <th>1809</th>\n",
       "      <td>sausage</td>\n",
       "      <td>whole milk</td>\n",
       "      <td>0.029893</td>\n",
       "      <td>0.318182</td>\n",
       "      <td>1.245252</td>\n",
       "      <td>10</td>\n",
       "      <td>1</td>\n",
       "    </tr>\n",
       "    <tr>\n",
       "      <th>1912</th>\n",
       "      <td>tropical fruit</td>\n",
       "      <td>yogurt</td>\n",
       "      <td>0.029283</td>\n",
       "      <td>0.279070</td>\n",
       "      <td>2.000475</td>\n",
       "      <td>7</td>\n",
       "      <td>2</td>\n",
       "    </tr>\n",
       "    <tr>\n",
       "      <th>255</th>\n",
       "      <td>soda</td>\n",
       "      <td>bottled water</td>\n",
       "      <td>0.028978</td>\n",
       "      <td>0.262190</td>\n",
       "      <td>1.503577</td>\n",
       "      <td>18</td>\n",
       "      <td>19</td>\n",
       "    </tr>\n",
       "    <tr>\n",
       "      <th>636</th>\n",
       "      <td>other vegetables</td>\n",
       "      <td>citrus fruit</td>\n",
       "      <td>0.028876</td>\n",
       "      <td>0.348894</td>\n",
       "      <td>1.803140</td>\n",
       "      <td>0</td>\n",
       "      <td>5</td>\n",
       "    </tr>\n",
       "    <tr>\n",
       "      <th>1536</th>\n",
       "      <td>other vegetables</td>\n",
       "      <td>whipped/sour cream</td>\n",
       "      <td>0.028876</td>\n",
       "      <td>0.149238</td>\n",
       "      <td>2.081924</td>\n",
       "      <td>0</td>\n",
       "      <td>13</td>\n",
       "    </tr>\n",
       "    <tr>\n",
       "      <th>362</th>\n",
       "      <td>butter</td>\n",
       "      <td>whole milk</td>\n",
       "      <td>0.027555</td>\n",
       "      <td>0.497248</td>\n",
       "      <td>1.946053</td>\n",
       "      <td>14</td>\n",
       "      <td>1</td>\n",
       "    </tr>\n",
       "    <tr>\n",
       "      <th>1455</th>\n",
       "      <td>whole milk</td>\n",
       "      <td>newspapers</td>\n",
       "      <td>0.027351</td>\n",
       "      <td>0.342675</td>\n",
       "      <td>1.341110</td>\n",
       "      <td>1</td>\n",
       "      <td>12</td>\n",
       "    </tr>\n",
       "    <tr>\n",
       "      <th>1865</th>\n",
       "      <td>yogurt</td>\n",
       "      <td>soda</td>\n",
       "      <td>0.027351</td>\n",
       "      <td>0.156851</td>\n",
       "      <td>1.124368</td>\n",
       "      <td>2</td>\n",
       "      <td>18</td>\n",
       "    </tr>\n",
       "    <tr>\n",
       "      <th>1511</th>\n",
       "      <td>sausage</td>\n",
       "      <td>other vegetables</td>\n",
       "      <td>0.026945</td>\n",
       "      <td>0.139254</td>\n",
       "      <td>1.482209</td>\n",
       "      <td>10</td>\n",
       "      <td>0</td>\n",
       "    </tr>\n",
       "    <tr>\n",
       "      <th>1141</th>\n",
       "      <td>whole milk</td>\n",
       "      <td>fruit/vegetable juice</td>\n",
       "      <td>0.026640</td>\n",
       "      <td>0.368495</td>\n",
       "      <td>1.442160</td>\n",
       "      <td>1</td>\n",
       "      <td>6</td>\n",
       "    </tr>\n",
       "    <tr>\n",
       "      <th>1497</th>\n",
       "      <td>other vegetables</td>\n",
       "      <td>pip fruit</td>\n",
       "      <td>0.026131</td>\n",
       "      <td>0.135050</td>\n",
       "      <td>1.785237</td>\n",
       "      <td>0</td>\n",
       "      <td>17</td>\n",
       "    </tr>\n",
       "    <tr>\n",
       "      <th>785</th>\n",
       "      <td>whole milk</td>\n",
       "      <td>curd</td>\n",
       "      <td>0.026131</td>\n",
       "      <td>0.490458</td>\n",
       "      <td>1.919481</td>\n",
       "      <td>1</td>\n",
       "      <td>21</td>\n",
       "    </tr>\n",
       "    <tr>\n",
       "      <th>1770</th>\n",
       "      <td>root vegetables</td>\n",
       "      <td>yogurt</td>\n",
       "      <td>0.025826</td>\n",
       "      <td>0.236940</td>\n",
       "      <td>1.698475</td>\n",
       "      <td>20</td>\n",
       "      <td>2</td>\n",
       "    </tr>\n",
       "    <tr>\n",
       "      <th>313</th>\n",
       "      <td>whole milk</td>\n",
       "      <td>brown bread</td>\n",
       "      <td>0.025216</td>\n",
       "      <td>0.388715</td>\n",
       "      <td>1.521293</td>\n",
       "      <td>1</td>\n",
       "      <td>15</td>\n",
       "    </tr>\n",
       "    <tr>\n",
       "      <th>232</th>\n",
       "      <td>other vegetables</td>\n",
       "      <td>bottled water</td>\n",
       "      <td>0.024809</td>\n",
       "      <td>0.224471</td>\n",
       "      <td>1.160101</td>\n",
       "      <td>0</td>\n",
       "      <td>19</td>\n",
       "    </tr>\n",
       "    <tr>\n",
       "      <th>1823</th>\n",
       "      <td>shopping bags</td>\n",
       "      <td>soda</td>\n",
       "      <td>0.024606</td>\n",
       "      <td>0.249742</td>\n",
       "      <td>1.432194</td>\n",
       "      <td>11</td>\n",
       "      <td>18</td>\n",
       "    </tr>\n",
       "    <tr>\n",
       "      <th>1737</th>\n",
       "      <td>tropical fruit</td>\n",
       "      <td>rolls/buns</td>\n",
       "      <td>0.024606</td>\n",
       "      <td>0.133776</td>\n",
       "      <td>1.274886</td>\n",
       "      <td>7</td>\n",
       "      <td>8</td>\n",
       "    </tr>\n",
       "    <tr>\n",
       "      <th>1836</th>\n",
       "      <td>shopping bags</td>\n",
       "      <td>whole milk</td>\n",
       "      <td>0.024504</td>\n",
       "      <td>0.248710</td>\n",
       "      <td>0.973364</td>\n",
       "      <td>11</td>\n",
       "      <td>1</td>\n",
       "    </tr>\n",
       "    <tr>\n",
       "      <th>1796</th>\n",
       "      <td>sausage</td>\n",
       "      <td>soda</td>\n",
       "      <td>0.024301</td>\n",
       "      <td>0.258658</td>\n",
       "      <td>1.483324</td>\n",
       "      <td>10</td>\n",
       "      <td>18</td>\n",
       "    </tr>\n",
       "    <tr>\n",
       "      <th>1715</th>\n",
       "      <td>rolls/buns</td>\n",
       "      <td>root vegetables</td>\n",
       "      <td>0.024301</td>\n",
       "      <td>0.132117</td>\n",
       "      <td>1.212101</td>\n",
       "      <td>8</td>\n",
       "      <td>20</td>\n",
       "    </tr>\n",
       "    <tr>\n",
       "      <th>246</th>\n",
       "      <td>rolls/buns</td>\n",
       "      <td>bottled water</td>\n",
       "      <td>0.024199</td>\n",
       "      <td>0.218951</td>\n",
       "      <td>1.190373</td>\n",
       "      <td>8</td>\n",
       "      <td>19</td>\n",
       "    </tr>\n",
       "    <tr>\n",
       "      <th>1358</th>\n",
       "      <td>margarine</td>\n",
       "      <td>whole milk</td>\n",
       "      <td>0.024199</td>\n",
       "      <td>0.413194</td>\n",
       "      <td>1.617098</td>\n",
       "      <td>4</td>\n",
       "      <td>1</td>\n",
       "    </tr>\n",
       "    <tr>\n",
       "      <th>1514</th>\n",
       "      <td>other vegetables</td>\n",
       "      <td>shopping bags</td>\n",
       "      <td>0.023183</td>\n",
       "      <td>0.119811</td>\n",
       "      <td>1.216037</td>\n",
       "      <td>0</td>\n",
       "      <td>11</td>\n",
       "    </tr>\n",
       "    <tr>\n",
       "      <th>270</th>\n",
       "      <td>yogurt</td>\n",
       "      <td>bottled water</td>\n",
       "      <td>0.022979</td>\n",
       "      <td>0.207912</td>\n",
       "      <td>1.490387</td>\n",
       "      <td>2</td>\n",
       "      <td>19</td>\n",
       "    </tr>\n",
       "    <tr>\n",
       "      <th>1493</th>\n",
       "      <td>pastry</td>\n",
       "      <td>other vegetables</td>\n",
       "      <td>0.022572</td>\n",
       "      <td>0.116658</td>\n",
       "      <td>1.311235</td>\n",
       "      <td>22</td>\n",
       "      <td>0</td>\n",
       "    </tr>\n",
       "    <tr>\n",
       "      <th>901</th>\n",
       "      <td>other vegetables</td>\n",
       "      <td>domestic eggs</td>\n",
       "      <td>0.022267</td>\n",
       "      <td>0.350962</td>\n",
       "      <td>1.813824</td>\n",
       "      <td>0</td>\n",
       "      <td>9</td>\n",
       "    </tr>\n",
       "    <tr>\n",
       "      <th>1665</th>\n",
       "      <td>whole milk</td>\n",
       "      <td>pork</td>\n",
       "      <td>0.022166</td>\n",
       "      <td>0.384480</td>\n",
       "      <td>1.504719</td>\n",
       "      <td>1</td>\n",
       "      <td>3</td>\n",
       "    </tr>\n",
       "    <tr>\n",
       "      <th>1499</th>\n",
       "      <td>other vegetables</td>\n",
       "      <td>pork</td>\n",
       "      <td>0.021657</td>\n",
       "      <td>0.111929</td>\n",
       "      <td>1.941476</td>\n",
       "      <td>0</td>\n",
       "      <td>3</td>\n",
       "    </tr>\n",
       "    <tr>\n",
       "      <th>672</th>\n",
       "      <td>yogurt</td>\n",
       "      <td>citrus fruit</td>\n",
       "      <td>0.021657</td>\n",
       "      <td>0.261671</td>\n",
       "      <td>1.875752</td>\n",
       "      <td>2</td>\n",
       "      <td>5</td>\n",
       "    </tr>\n",
       "    <tr>\n",
       "      <th>114</th>\n",
       "      <td>beef</td>\n",
       "      <td>whole milk</td>\n",
       "      <td>0.021251</td>\n",
       "      <td>0.405039</td>\n",
       "      <td>1.585180</td>\n",
       "      <td>16</td>\n",
       "      <td>1</td>\n",
       "    </tr>\n",
       "  </tbody>\n",
       "</table>\n",
       "</div>"
      ]
     },
     "execution_count": 30,
     "metadata": {},
     "output_type": "execute_result"
    }
   ],
   "execution_count": 30
  },
  {
   "metadata": {
    "ExecuteTime": {
     "end_time": "2025-08-18T06:56:28.424399Z",
     "start_time": "2025-08-18T06:56:28.422827Z"
    }
   },
   "cell_type": "code",
   "source": "",
   "outputs": [],
   "execution_count": null
  },
  {
   "metadata": {
    "ExecuteTime": {
     "end_time": "2025-08-18T07:03:43.248922Z",
     "start_time": "2025-08-18T07:03:43.246949Z"
    }
   },
   "cell_type": "code",
   "source": "",
   "outputs": [],
   "execution_count": null
  },
  {
   "metadata": {
    "ExecuteTime": {
     "end_time": "2025-08-18T06:57:23.378751Z",
     "start_time": "2025-08-18T06:57:23.377259Z"
    }
   },
   "cell_type": "code",
   "source": "",
   "outputs": [],
   "execution_count": null
  },
  {
   "metadata": {
    "ExecuteTime": {
     "end_time": "2025-08-18T07:03:01.419535Z",
     "start_time": "2025-08-18T07:03:01.418025Z"
    }
   },
   "cell_type": "code",
   "source": "",
   "outputs": [],
   "execution_count": null
  },
  {
   "metadata": {
    "ExecuteTime": {
     "end_time": "2025-08-18T06:59:46.941580Z",
     "start_time": "2025-08-18T06:59:46.939989Z"
    }
   },
   "cell_type": "code",
   "source": "",
   "outputs": [],
   "execution_count": null
  },
  {
   "metadata": {
    "ExecuteTime": {
     "end_time": "2025-08-18T07:02:11.974795Z",
     "start_time": "2025-08-18T07:02:11.713632Z"
    }
   },
   "cell_type": "code",
   "source": [
    "\n",
    "\n",
    "fig = px.scatter(rules_df, x='Support', y='Confidence',\n",
    "                size='Lift', color='Lift',\n",
    "                hover_data=['From', 'To'],\n",
    "                title='Interactive Association Rules Plot')\n",
    "fig.show()"
   ],
   "outputs": [
    {
     "data": {
      "application/vnd.plotly.v1+json": {
       "data": [
        {
         "customdata": [
          [
           "other vegetables",
           "whole milk"
          ],
          [
           "rolls/buns",
           "whole milk"
          ],
          [
           "whole milk",
           "yogurt"
          ],
          [
           "whole milk",
           "root vegetables"
          ],
          [
           "other vegetables",
           "root vegetables"
          ],
          [
           "other vegetables",
           "yogurt"
          ],
          [
           "other vegetables",
           "rolls/buns"
          ],
          [
           "tropical fruit",
           "whole milk"
          ],
          [
           "whole milk",
           "soda"
          ],
          [
           "rolls/buns",
           "soda"
          ],
          [
           "other vegetables",
           "tropical fruit"
          ],
          [
           "whole milk",
           "bottled water"
          ],
          [
           "rolls/buns",
           "yogurt"
          ],
          [
           "pastry",
           "whole milk"
          ],
          [
           "other vegetables",
           "soda"
          ],
          [
           "whole milk",
           "whipped/sour cream"
          ],
          [
           "sausage",
           "rolls/buns"
          ],
          [
           "whole milk",
           "citrus fruit"
          ],
          [
           "whole milk",
           "pip fruit"
          ],
          [
           "whole milk",
           "domestic eggs"
          ],
          [
           "sausage",
           "whole milk"
          ],
          [
           "tropical fruit",
           "yogurt"
          ],
          [
           "soda",
           "bottled water"
          ],
          [
           "other vegetables",
           "citrus fruit"
          ],
          [
           "other vegetables",
           "whipped/sour cream"
          ],
          [
           "butter",
           "whole milk"
          ],
          [
           "whole milk",
           "newspapers"
          ],
          [
           "yogurt",
           "soda"
          ],
          [
           "sausage",
           "other vegetables"
          ],
          [
           "whole milk",
           "fruit/vegetable juice"
          ],
          [
           "other vegetables",
           "pip fruit"
          ],
          [
           "whole milk",
           "curd"
          ],
          [
           "root vegetables",
           "yogurt"
          ],
          [
           "whole milk",
           "brown bread"
          ],
          [
           "other vegetables",
           "bottled water"
          ],
          [
           "shopping bags",
           "soda"
          ],
          [
           "tropical fruit",
           "rolls/buns"
          ],
          [
           "shopping bags",
           "whole milk"
          ],
          [
           "sausage",
           "soda"
          ],
          [
           "rolls/buns",
           "root vegetables"
          ],
          [
           "rolls/buns",
           "bottled water"
          ],
          [
           "margarine",
           "whole milk"
          ],
          [
           "other vegetables",
           "shopping bags"
          ],
          [
           "yogurt",
           "bottled water"
          ],
          [
           "pastry",
           "other vegetables"
          ],
          [
           "other vegetables",
           "domestic eggs"
          ],
          [
           "whole milk",
           "pork"
          ],
          [
           "other vegetables",
           "pork"
          ],
          [
           "yogurt",
           "citrus fruit"
          ],
          [
           "beef",
           "whole milk"
          ]
         ],
         "hovertemplate": "Support=%{x}<br>Confidence=%{y}<br>Lift=%{marker.color}<br>From=%{customdata[0]}<br>To=%{customdata[1]}<extra></extra>",
         "legendgroup": "",
         "marker": {
          "color": {
           "dtype": "f8",
           "bdata": "8B12Ytg3+D/vgN9pz0fzP7cdKb/TJfk/IqR66bMY/D8CkjoBDPkBQIsOc/U8vPk/KJwmQxon8z8j0Vo11D35P9rofE6Hxew/MP/YgDof8z/31bzJ3Uj8P0IYsa6VePM/QnZLLwhu9T95AnknwWb3P56Oq1kWDe8/cw2HEPQn/D8OJW9iNlb8P1fcf6/5E/c/IrnNFqbp+D/HMNQbbpr9P+//ZFKN7PM/ABre1PgAAECZUwFUpg74P00A25qp2fw/1DBnlsenAEB4n9h4CCP/P4+tsRMwdfU/wptCHWn98T+xLMPmILf3P0SkqcgWE/c/HFC4LFSQ/D/UfDw4Mbb+P8oMtDn0LPs/xZlaXjdX+D8xwtw5xo/yPyQSvC5E6vY/EZ6oNu9l9D+RpqSbyyXvP/mVL3iyu/c/PbkpUsRk8z9N8g/4xAvzP+nvVDCi3/k/a9bYyuJ08z9M8r1goNj3P9AlO3DR+vQ/b/hoIGwF/T8BMxTjUxP4P6hAc5RJEP8/sEIDrhQD/j/Cyog65Vz5Pw=="
          },
          "coloraxis": "coloraxis",
          "size": {
           "dtype": "f8",
           "bdata": "8B12Ytg3+D/vgN9pz0fzP7cdKb/TJfk/IqR66bMY/D8CkjoBDPkBQIsOc/U8vPk/KJwmQxon8z8j0Vo11D35P9rofE6Hxew/MP/YgDof8z/31bzJ3Uj8P0IYsa6VePM/QnZLLwhu9T95AnknwWb3P56Oq1kWDe8/cw2HEPQn/D8OJW9iNlb8P1fcf6/5E/c/IrnNFqbp+D/HMNQbbpr9P+//ZFKN7PM/ABre1PgAAECZUwFUpg74P00A25qp2fw/1DBnlsenAEB4n9h4CCP/P4+tsRMwdfU/wptCHWn98T+xLMPmILf3P0SkqcgWE/c/HFC4LFSQ/D/UfDw4Mbb+P8oMtDn0LPs/xZlaXjdX+D8xwtw5xo/yPyQSvC5E6vY/EZ6oNu9l9D+RpqSbyyXvP/mVL3iyu/c/PbkpUsRk8z9N8g/4xAvzP+nvVDCi3/k/a9bYyuJ08z9M8r1goNj3P9AlO3DR+vQ/b/hoIGwF/T8BMxTjUxP4P6hAc5RJEP8/sEIDrhQD/j/Cyog65Vz5Pw=="
          },
          "sizemode": "area",
          "sizeref": 0.005616512321471989,
          "symbol": "circle"
         },
         "mode": "markers",
         "name": "",
         "orientation": "v",
         "showlegend": false,
         "x": {
          "dtype": "f8",
          "bdata": "CvruKV8osz+WJRRuMf+sP466QwI7r6w/Ki/EbVUKqT+VIztgbUKoP95rcKOrOqY/0odavg3QpT9OUnKIEqilPy8fdlLggqQ/l5qny1Cgoz917mUcd2CiP9/i3A6PmKE/3+LcDo+YoT9Qyd7z9QWhP8kasURTw6A/QmyDlbCAoD9WSK+W6VafP1PPaR1CPJ8/SOtTOKTRnj9Fcg6//LaeP0L5yEVVnJ4/MSMobmj8nT8puFcCcqydPyY/EonKkZ0/Jj8SicqRnT8BGotgSTecP/snAG76AZw/+ycAbvoBnD/wQ+qIXJebP+fYGR1mR5s/2Xu+viDCmj/Ze76+IMKaP9EQ7lIqcpo/wDpNez3SmT+0VjeWn2eZP69krKNQMpk/r2Sso1AymT+s62YqqReZP6b52zda4pg/pvnbN1rimD+jgJa+sseYP6OAlr6yx5g/h8bfASi9lz+B1FQP2YeXP3bwPio7HZc/bYVuvkTNlj9rDClFnbKWP1yvzeZXLZY/XK/N5lctlj9Ry7cBusKVPw=="
         },
         "xaxis": "x",
         "y": {
          "dtype": "f8",
          "bdata": "EibrlKPA2D9P0EDWtrTTP3J67uu0EMw/TKQHKme33D8UxakOHVjPP2TZUEmRuMw/vLxLg9AuzD9zxpwxZ8zZP8+XXb8KaM0/3v6HT+6syj9YkKEhWr7HP2a0fpqQ5tM/FmDJYX3qxz8BN8xS7+rXP1DBTSKPqMU/p7ZJdf3G3D+HBODBRkzFP6uQ9khUltc/dtlll1122T8apEEapEHeP1100UUXXdQ/d8QdcUfc0T97ikyFtsfQPxerkPZIVNY/NXm1dTsawz8v/UUL6NLfPw1nhMpj7tU/6FCWK7QTxD8nVWmfEdPBP2S9fmBsldc/gDhk2VBJwT+0jOgDqmPfP/nVmEgPVM4/U2gCw7Pg2D/4nmNnd7vMPy60psGL988/jsXMyY4fwT/khEHIutXPP2k3AlLajdA/ueAMVTfpwD8LMMwjmAbMPxzHcRzHcdo/Q2EjF+yrvj8xUp2c2ZzKP0i2G+5K3b0/Yid2Yid21j8L337RUJvYP881kDBZp7w/UYDsuDa/0D97wp6wJ+zZPw=="
         },
         "yaxis": "y",
         "type": "scatter"
        }
       ],
       "layout": {
        "template": {
         "data": {
          "histogram2dcontour": [
           {
            "type": "histogram2dcontour",
            "colorbar": {
             "outlinewidth": 0,
             "ticks": ""
            },
            "colorscale": [
             [
              0.0,
              "#0d0887"
             ],
             [
              0.1111111111111111,
              "#46039f"
             ],
             [
              0.2222222222222222,
              "#7201a8"
             ],
             [
              0.3333333333333333,
              "#9c179e"
             ],
             [
              0.4444444444444444,
              "#bd3786"
             ],
             [
              0.5555555555555556,
              "#d8576b"
             ],
             [
              0.6666666666666666,
              "#ed7953"
             ],
             [
              0.7777777777777778,
              "#fb9f3a"
             ],
             [
              0.8888888888888888,
              "#fdca26"
             ],
             [
              1.0,
              "#f0f921"
             ]
            ]
           }
          ],
          "choropleth": [
           {
            "type": "choropleth",
            "colorbar": {
             "outlinewidth": 0,
             "ticks": ""
            }
           }
          ],
          "histogram2d": [
           {
            "type": "histogram2d",
            "colorbar": {
             "outlinewidth": 0,
             "ticks": ""
            },
            "colorscale": [
             [
              0.0,
              "#0d0887"
             ],
             [
              0.1111111111111111,
              "#46039f"
             ],
             [
              0.2222222222222222,
              "#7201a8"
             ],
             [
              0.3333333333333333,
              "#9c179e"
             ],
             [
              0.4444444444444444,
              "#bd3786"
             ],
             [
              0.5555555555555556,
              "#d8576b"
             ],
             [
              0.6666666666666666,
              "#ed7953"
             ],
             [
              0.7777777777777778,
              "#fb9f3a"
             ],
             [
              0.8888888888888888,
              "#fdca26"
             ],
             [
              1.0,
              "#f0f921"
             ]
            ]
           }
          ],
          "heatmap": [
           {
            "type": "heatmap",
            "colorbar": {
             "outlinewidth": 0,
             "ticks": ""
            },
            "colorscale": [
             [
              0.0,
              "#0d0887"
             ],
             [
              0.1111111111111111,
              "#46039f"
             ],
             [
              0.2222222222222222,
              "#7201a8"
             ],
             [
              0.3333333333333333,
              "#9c179e"
             ],
             [
              0.4444444444444444,
              "#bd3786"
             ],
             [
              0.5555555555555556,
              "#d8576b"
             ],
             [
              0.6666666666666666,
              "#ed7953"
             ],
             [
              0.7777777777777778,
              "#fb9f3a"
             ],
             [
              0.8888888888888888,
              "#fdca26"
             ],
             [
              1.0,
              "#f0f921"
             ]
            ]
           }
          ],
          "contourcarpet": [
           {
            "type": "contourcarpet",
            "colorbar": {
             "outlinewidth": 0,
             "ticks": ""
            }
           }
          ],
          "contour": [
           {
            "type": "contour",
            "colorbar": {
             "outlinewidth": 0,
             "ticks": ""
            },
            "colorscale": [
             [
              0.0,
              "#0d0887"
             ],
             [
              0.1111111111111111,
              "#46039f"
             ],
             [
              0.2222222222222222,
              "#7201a8"
             ],
             [
              0.3333333333333333,
              "#9c179e"
             ],
             [
              0.4444444444444444,
              "#bd3786"
             ],
             [
              0.5555555555555556,
              "#d8576b"
             ],
             [
              0.6666666666666666,
              "#ed7953"
             ],
             [
              0.7777777777777778,
              "#fb9f3a"
             ],
             [
              0.8888888888888888,
              "#fdca26"
             ],
             [
              1.0,
              "#f0f921"
             ]
            ]
           }
          ],
          "surface": [
           {
            "type": "surface",
            "colorbar": {
             "outlinewidth": 0,
             "ticks": ""
            },
            "colorscale": [
             [
              0.0,
              "#0d0887"
             ],
             [
              0.1111111111111111,
              "#46039f"
             ],
             [
              0.2222222222222222,
              "#7201a8"
             ],
             [
              0.3333333333333333,
              "#9c179e"
             ],
             [
              0.4444444444444444,
              "#bd3786"
             ],
             [
              0.5555555555555556,
              "#d8576b"
             ],
             [
              0.6666666666666666,
              "#ed7953"
             ],
             [
              0.7777777777777778,
              "#fb9f3a"
             ],
             [
              0.8888888888888888,
              "#fdca26"
             ],
             [
              1.0,
              "#f0f921"
             ]
            ]
           }
          ],
          "mesh3d": [
           {
            "type": "mesh3d",
            "colorbar": {
             "outlinewidth": 0,
             "ticks": ""
            }
           }
          ],
          "scatter": [
           {
            "fillpattern": {
             "fillmode": "overlay",
             "size": 10,
             "solidity": 0.2
            },
            "type": "scatter"
           }
          ],
          "parcoords": [
           {
            "type": "parcoords",
            "line": {
             "colorbar": {
              "outlinewidth": 0,
              "ticks": ""
             }
            }
           }
          ],
          "scatterpolargl": [
           {
            "type": "scatterpolargl",
            "marker": {
             "colorbar": {
              "outlinewidth": 0,
              "ticks": ""
             }
            }
           }
          ],
          "bar": [
           {
            "error_x": {
             "color": "#2a3f5f"
            },
            "error_y": {
             "color": "#2a3f5f"
            },
            "marker": {
             "line": {
              "color": "#E5ECF6",
              "width": 0.5
             },
             "pattern": {
              "fillmode": "overlay",
              "size": 10,
              "solidity": 0.2
             }
            },
            "type": "bar"
           }
          ],
          "scattergeo": [
           {
            "type": "scattergeo",
            "marker": {
             "colorbar": {
              "outlinewidth": 0,
              "ticks": ""
             }
            }
           }
          ],
          "scatterpolar": [
           {
            "type": "scatterpolar",
            "marker": {
             "colorbar": {
              "outlinewidth": 0,
              "ticks": ""
             }
            }
           }
          ],
          "histogram": [
           {
            "marker": {
             "pattern": {
              "fillmode": "overlay",
              "size": 10,
              "solidity": 0.2
             }
            },
            "type": "histogram"
           }
          ],
          "scattergl": [
           {
            "type": "scattergl",
            "marker": {
             "colorbar": {
              "outlinewidth": 0,
              "ticks": ""
             }
            }
           }
          ],
          "scatter3d": [
           {
            "type": "scatter3d",
            "line": {
             "colorbar": {
              "outlinewidth": 0,
              "ticks": ""
             }
            },
            "marker": {
             "colorbar": {
              "outlinewidth": 0,
              "ticks": ""
             }
            }
           }
          ],
          "scattermap": [
           {
            "type": "scattermap",
            "marker": {
             "colorbar": {
              "outlinewidth": 0,
              "ticks": ""
             }
            }
           }
          ],
          "scattermapbox": [
           {
            "type": "scattermapbox",
            "marker": {
             "colorbar": {
              "outlinewidth": 0,
              "ticks": ""
             }
            }
           }
          ],
          "scatterternary": [
           {
            "type": "scatterternary",
            "marker": {
             "colorbar": {
              "outlinewidth": 0,
              "ticks": ""
             }
            }
           }
          ],
          "scattercarpet": [
           {
            "type": "scattercarpet",
            "marker": {
             "colorbar": {
              "outlinewidth": 0,
              "ticks": ""
             }
            }
           }
          ],
          "carpet": [
           {
            "aaxis": {
             "endlinecolor": "#2a3f5f",
             "gridcolor": "white",
             "linecolor": "white",
             "minorgridcolor": "white",
             "startlinecolor": "#2a3f5f"
            },
            "baxis": {
             "endlinecolor": "#2a3f5f",
             "gridcolor": "white",
             "linecolor": "white",
             "minorgridcolor": "white",
             "startlinecolor": "#2a3f5f"
            },
            "type": "carpet"
           }
          ],
          "table": [
           {
            "cells": {
             "fill": {
              "color": "#EBF0F8"
             },
             "line": {
              "color": "white"
             }
            },
            "header": {
             "fill": {
              "color": "#C8D4E3"
             },
             "line": {
              "color": "white"
             }
            },
            "type": "table"
           }
          ],
          "barpolar": [
           {
            "marker": {
             "line": {
              "color": "#E5ECF6",
              "width": 0.5
             },
             "pattern": {
              "fillmode": "overlay",
              "size": 10,
              "solidity": 0.2
             }
            },
            "type": "barpolar"
           }
          ],
          "pie": [
           {
            "automargin": true,
            "type": "pie"
           }
          ]
         },
         "layout": {
          "autotypenumbers": "strict",
          "colorway": [
           "#636efa",
           "#EF553B",
           "#00cc96",
           "#ab63fa",
           "#FFA15A",
           "#19d3f3",
           "#FF6692",
           "#B6E880",
           "#FF97FF",
           "#FECB52"
          ],
          "font": {
           "color": "#2a3f5f"
          },
          "hovermode": "closest",
          "hoverlabel": {
           "align": "left"
          },
          "paper_bgcolor": "white",
          "plot_bgcolor": "#E5ECF6",
          "polar": {
           "bgcolor": "#E5ECF6",
           "angularaxis": {
            "gridcolor": "white",
            "linecolor": "white",
            "ticks": ""
           },
           "radialaxis": {
            "gridcolor": "white",
            "linecolor": "white",
            "ticks": ""
           }
          },
          "ternary": {
           "bgcolor": "#E5ECF6",
           "aaxis": {
            "gridcolor": "white",
            "linecolor": "white",
            "ticks": ""
           },
           "baxis": {
            "gridcolor": "white",
            "linecolor": "white",
            "ticks": ""
           },
           "caxis": {
            "gridcolor": "white",
            "linecolor": "white",
            "ticks": ""
           }
          },
          "coloraxis": {
           "colorbar": {
            "outlinewidth": 0,
            "ticks": ""
           }
          },
          "colorscale": {
           "sequential": [
            [
             0.0,
             "#0d0887"
            ],
            [
             0.1111111111111111,
             "#46039f"
            ],
            [
             0.2222222222222222,
             "#7201a8"
            ],
            [
             0.3333333333333333,
             "#9c179e"
            ],
            [
             0.4444444444444444,
             "#bd3786"
            ],
            [
             0.5555555555555556,
             "#d8576b"
            ],
            [
             0.6666666666666666,
             "#ed7953"
            ],
            [
             0.7777777777777778,
             "#fb9f3a"
            ],
            [
             0.8888888888888888,
             "#fdca26"
            ],
            [
             1.0,
             "#f0f921"
            ]
           ],
           "sequentialminus": [
            [
             0.0,
             "#0d0887"
            ],
            [
             0.1111111111111111,
             "#46039f"
            ],
            [
             0.2222222222222222,
             "#7201a8"
            ],
            [
             0.3333333333333333,
             "#9c179e"
            ],
            [
             0.4444444444444444,
             "#bd3786"
            ],
            [
             0.5555555555555556,
             "#d8576b"
            ],
            [
             0.6666666666666666,
             "#ed7953"
            ],
            [
             0.7777777777777778,
             "#fb9f3a"
            ],
            [
             0.8888888888888888,
             "#fdca26"
            ],
            [
             1.0,
             "#f0f921"
            ]
           ],
           "diverging": [
            [
             0,
             "#8e0152"
            ],
            [
             0.1,
             "#c51b7d"
            ],
            [
             0.2,
             "#de77ae"
            ],
            [
             0.3,
             "#f1b6da"
            ],
            [
             0.4,
             "#fde0ef"
            ],
            [
             0.5,
             "#f7f7f7"
            ],
            [
             0.6,
             "#e6f5d0"
            ],
            [
             0.7,
             "#b8e186"
            ],
            [
             0.8,
             "#7fbc41"
            ],
            [
             0.9,
             "#4d9221"
            ],
            [
             1,
             "#276419"
            ]
           ]
          },
          "xaxis": {
           "gridcolor": "white",
           "linecolor": "white",
           "ticks": "",
           "title": {
            "standoff": 15
           },
           "zerolinecolor": "white",
           "automargin": true,
           "zerolinewidth": 2
          },
          "yaxis": {
           "gridcolor": "white",
           "linecolor": "white",
           "ticks": "",
           "title": {
            "standoff": 15
           },
           "zerolinecolor": "white",
           "automargin": true,
           "zerolinewidth": 2
          },
          "scene": {
           "xaxis": {
            "backgroundcolor": "#E5ECF6",
            "gridcolor": "white",
            "linecolor": "white",
            "showbackground": true,
            "ticks": "",
            "zerolinecolor": "white",
            "gridwidth": 2
           },
           "yaxis": {
            "backgroundcolor": "#E5ECF6",
            "gridcolor": "white",
            "linecolor": "white",
            "showbackground": true,
            "ticks": "",
            "zerolinecolor": "white",
            "gridwidth": 2
           },
           "zaxis": {
            "backgroundcolor": "#E5ECF6",
            "gridcolor": "white",
            "linecolor": "white",
            "showbackground": true,
            "ticks": "",
            "zerolinecolor": "white",
            "gridwidth": 2
           }
          },
          "shapedefaults": {
           "line": {
            "color": "#2a3f5f"
           }
          },
          "annotationdefaults": {
           "arrowcolor": "#2a3f5f",
           "arrowhead": 0,
           "arrowwidth": 1
          },
          "geo": {
           "bgcolor": "white",
           "landcolor": "#E5ECF6",
           "subunitcolor": "white",
           "showland": true,
           "showlakes": true,
           "lakecolor": "white"
          },
          "title": {
           "x": 0.05
          },
          "mapbox": {
           "style": "light"
          }
         }
        },
        "xaxis": {
         "anchor": "y",
         "domain": [
          0.0,
          1.0
         ],
         "title": {
          "text": "Support"
         }
        },
        "yaxis": {
         "anchor": "x",
         "domain": [
          0.0,
          1.0
         ],
         "title": {
          "text": "Confidence"
         }
        },
        "coloraxis": {
         "colorbar": {
          "title": {
           "text": "Lift"
          }
         },
         "colorscale": [
          [
           0.0,
           "#0d0887"
          ],
          [
           0.1111111111111111,
           "#46039f"
          ],
          [
           0.2222222222222222,
           "#7201a8"
          ],
          [
           0.3333333333333333,
           "#9c179e"
          ],
          [
           0.4444444444444444,
           "#bd3786"
          ],
          [
           0.5555555555555556,
           "#d8576b"
          ],
          [
           0.6666666666666666,
           "#ed7953"
          ],
          [
           0.7777777777777778,
           "#fb9f3a"
          ],
          [
           0.8888888888888888,
           "#fdca26"
          ],
          [
           1.0,
           "#f0f921"
          ]
         ]
        },
        "legend": {
         "tracegroupgap": 0,
         "itemsizing": "constant"
        },
        "title": {
         "text": "Interactive Association Rules Plot"
        }
       },
       "config": {
        "plotlyServerURL": "https://plot.ly"
       }
      }
     },
     "metadata": {},
     "output_type": "display_data"
    }
   ],
   "execution_count": 38
  },
  {
   "metadata": {},
   "cell_type": "code",
   "outputs": [],
   "execution_count": null,
   "source": ""
  }
 ],
 "metadata": {
  "kernelspec": {
   "display_name": "Python 3",
   "language": "python",
   "name": "python3"
  },
  "language_info": {
   "codemirror_mode": {
    "name": "ipython",
    "version": 3
   },
   "file_extension": ".py",
   "mimetype": "text/x-python",
   "name": "python",
   "nbconvert_exporter": "python",
   "pygments_lexer": "ipython3",
   "version": "3.7.9"
  }
 },
 "nbformat": 4,
 "nbformat_minor": 4
}
