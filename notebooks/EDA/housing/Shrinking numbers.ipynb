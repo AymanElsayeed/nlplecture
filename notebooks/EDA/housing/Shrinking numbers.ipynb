{
 "cells": [
  {
   "cell_type": "code",
   "id": "initial_id",
   "metadata": {
    "collapsed": true,
    "ExecuteTime": {
     "end_time": "2025-08-13T12:26:35.829002Z",
     "start_time": "2025-08-13T12:26:35.825972Z"
    }
   },
   "source": [
    "import numpy as np\n",
    "import pandas as pd\n",
    "pd.__version__"
   ],
   "outputs": [
    {
     "data": {
      "text/plain": [
       "'2.2.2'"
      ]
     },
     "execution_count": 1,
     "metadata": {},
     "output_type": "execute_result"
    }
   ],
   "execution_count": 1
  },
  {
   "metadata": {
    "ExecuteTime": {
     "end_time": "2025-08-13T13:29:52.055756Z",
     "start_time": "2025-08-13T13:29:52.034186Z"
    }
   },
   "cell_type": "code",
   "source": [
    "\n",
    "url = '../../assets/AmesHousing.csv'\n",
    "df = pd.read_csv(url) #, engine='pyarrow', dtype_backend='pyarrow')"
   ],
   "id": "e479b7f83c0f95b6",
   "outputs": [],
   "execution_count": 153
  },
  {
   "metadata": {},
   "cell_type": "markdown",
   "source": [
    "### Shrinking Numbers\n",
    "\n",
    "Goals:\n",
    "\n",
    "* Create a function, `shrink_ints`, to automatically convert suitable integer columns to smaller integer types (`uint8`, `uint16`, `uint32`) based on their range of values.\n",
    "* Apply the `shrink_ints` function to the DataFrame to reduce memory usage while maintaining data integrity.\n",
    "* Create a function, `clean_housing`, that combines the data cleaning steps for string columns, clipping values in the \"Garage Yr Blt\" column, and shrinking integer columns.\n"
   ],
   "id": "4e5bd1ff850b1f17"
  },
  {
   "metadata": {
    "ExecuteTime": {
     "end_time": "2025-08-13T13:29:52.512383Z",
     "start_time": "2025-08-13T13:29:52.509452Z"
    }
   },
   "cell_type": "code",
   "source": [
    "for size in [np.uint8, np.uint16, np.uint32]:\n",
    "    print(np.iinfo(size))"
   ],
   "id": "f4c7c0e5865ce4cb",
   "outputs": [
    {
     "name": "stdout",
     "output_type": "stream",
     "text": [
      "Machine parameters for uint8\n",
      "---------------------------------------------------------------\n",
      "min = 0\n",
      "max = 255\n",
      "---------------------------------------------------------------\n",
      "\n",
      "Machine parameters for uint16\n",
      "---------------------------------------------------------------\n",
      "min = 0\n",
      "max = 65535\n",
      "---------------------------------------------------------------\n",
      "\n",
      "Machine parameters for uint32\n",
      "---------------------------------------------------------------\n",
      "min = 0\n",
      "max = 4294967295\n",
      "---------------------------------------------------------------\n",
      "\n"
     ]
    }
   ],
   "execution_count": 154
  },
  {
   "metadata": {
    "ExecuteTime": {
     "end_time": "2025-08-13T13:36:47.659416Z",
     "start_time": "2025-08-13T13:36:47.657578Z"
    }
   },
   "cell_type": "code",
   "source": [
    "for size in [np.float16, np.float32, np.float64]:\n",
    "    print(np.finfo(size))"
   ],
   "id": "b96f17eb051135e7",
   "outputs": [
    {
     "name": "stdout",
     "output_type": "stream",
     "text": [
      "Machine parameters for float16\n",
      "---------------------------------------------------------------\n",
      "precision =   3   resolution = 1.00040e-03\n",
      "machep =    -10   eps =        9.76562e-04\n",
      "negep =     -11   epsneg =     4.88281e-04\n",
      "minexp =    -14   tiny =       6.10352e-05\n",
      "maxexp =     16   max =        6.55040e+04\n",
      "nexp =        5   min =        -max\n",
      "smallest_normal = 6.10352e-05   smallest_subnormal = 5.96046e-08\n",
      "---------------------------------------------------------------\n",
      "\n",
      "Machine parameters for float32\n",
      "---------------------------------------------------------------\n",
      "precision =   6   resolution = 1.0000000e-06\n",
      "machep =    -23   eps =        1.1920929e-07\n",
      "negep =     -24   epsneg =     5.9604645e-08\n",
      "minexp =   -126   tiny =       1.1754944e-38\n",
      "maxexp =    128   max =        3.4028235e+38\n",
      "nexp =        8   min =        -max\n",
      "smallest_normal = 1.1754944e-38   smallest_subnormal = 1.4012985e-45\n",
      "---------------------------------------------------------------\n",
      "\n",
      "Machine parameters for float64\n",
      "---------------------------------------------------------------\n",
      "precision =  15   resolution = 1.0000000000000001e-15\n",
      "machep =    -52   eps =        2.2204460492503131e-16\n",
      "negep =     -53   epsneg =     1.1102230246251565e-16\n",
      "minexp =  -1022   tiny =       2.2250738585072014e-308\n",
      "maxexp =   1024   max =        1.7976931348623157e+308\n",
      "nexp =       11   min =        -max\n",
      "smallest_normal = 2.2250738585072014e-308   smallest_subnormal = 4.9406564584124654e-324\n",
      "---------------------------------------------------------------\n",
      "\n"
     ]
    }
   ],
   "execution_count": 187
  },
  {
   "metadata": {
    "ExecuteTime": {
     "end_time": "2025-08-13T13:34:37.705047Z",
     "start_time": "2025-08-13T13:34:37.702887Z"
    }
   },
   "cell_type": "code",
   "source": "np.finfo(np.float64)",
   "id": "f0ac18f9fccff2a9",
   "outputs": [
    {
     "data": {
      "text/plain": [
       "finfo(resolution=1e-15, min=-1.7976931348623157e+308, max=1.7976931348623157e+308, dtype=float64)"
      ]
     },
     "execution_count": 178,
     "metadata": {},
     "output_type": "execute_result"
    }
   ],
   "execution_count": 178
  },
  {
   "metadata": {
    "ExecuteTime": {
     "end_time": "2025-08-13T13:37:29.811113Z",
     "start_time": "2025-08-13T13:37:29.805472Z"
    }
   },
   "cell_type": "code",
   "source": [
    "\n",
    "(\n",
    "    df\n",
    "    .select_dtypes(include=[np.float_])\n",
    "    .memory_usage(deep=True)\n",
    "    .sum()\n",
    ")"
   ],
   "id": "276124aebe763fd5",
   "outputs": [
    {
     "data": {
      "text/plain": [
       "257972"
      ]
     },
     "execution_count": 188,
     "metadata": {},
     "output_type": "execute_result"
    }
   ],
   "execution_count": 188
  },
  {
   "metadata": {
    "ExecuteTime": {
     "end_time": "2025-08-13T13:29:53.165042Z",
     "start_time": "2025-08-13T13:29:53.160161Z"
    }
   },
   "cell_type": "code",
   "source": [
    "(\n",
    "    df\n",
    "    .select_dtypes(include=[np.int_])\n",
    "    .memory_usage(deep=True)\n",
    "    .sum()\n",
    ")"
   ],
   "id": "513969fe82eb58fc",
   "outputs": [
    {
     "data": {
      "text/plain": [
       "656452"
      ]
     },
     "execution_count": 156,
     "metadata": {},
     "output_type": "execute_result"
    }
   ],
   "execution_count": 156
  },
  {
   "metadata": {
    "ExecuteTime": {
     "end_time": "2025-08-13T13:29:53.607935Z",
     "start_time": "2025-08-13T13:29:53.573323Z"
    }
   },
   "cell_type": "code",
   "source": [
    "(\n",
    "    df\n",
    "    .select_dtypes(include=[np.int_])\n",
    "    .describe()\n",
    "    .T\n",
    ")"
   ],
   "id": "ab7ae42380c87a6f",
   "outputs": [
    {
     "data": {
      "text/plain": [
       "                  count          mean           std          min  \\\n",
       "Order            2930.0  1.465500e+03  8.459625e+02          1.0   \n",
       "PID              2930.0  7.144645e+08  1.887308e+08  526301100.0   \n",
       "MS SubClass      2930.0  5.738737e+01  4.263802e+01         20.0   \n",
       "Lot Area         2930.0  1.014792e+04  7.880018e+03       1300.0   \n",
       "Overall Qual     2930.0  6.094881e+00  1.411026e+00          1.0   \n",
       "Overall Cond     2930.0  5.563140e+00  1.111537e+00          1.0   \n",
       "Year Built       2930.0  1.971356e+03  3.024536e+01       1872.0   \n",
       "Year Remod/Add   2930.0  1.984267e+03  2.086029e+01       1950.0   \n",
       "1st Flr SF       2930.0  1.159558e+03  3.918909e+02        334.0   \n",
       "2nd Flr SF       2930.0  3.354560e+02  4.283957e+02          0.0   \n",
       "Low Qual Fin SF  2930.0  4.676792e+00  4.631051e+01          0.0   \n",
       "Gr Liv Area      2930.0  1.499690e+03  5.055089e+02        334.0   \n",
       "Full Bath        2930.0  1.566553e+00  5.529406e-01          0.0   \n",
       "Half Bath        2930.0  3.795222e-01  5.026293e-01          0.0   \n",
       "Bedroom AbvGr    2930.0  2.854266e+00  8.277311e-01          0.0   \n",
       "Kitchen AbvGr    2930.0  1.044369e+00  2.140762e-01          0.0   \n",
       "TotRms AbvGrd    2930.0  6.443003e+00  1.572964e+00          2.0   \n",
       "Fireplaces       2930.0  5.993174e-01  6.479209e-01          0.0   \n",
       "Wood Deck SF     2930.0  9.375188e+01  1.263616e+02          0.0   \n",
       "Open Porch SF    2930.0  4.753345e+01  6.748340e+01          0.0   \n",
       "Enclosed Porch   2930.0  2.301160e+01  6.413906e+01          0.0   \n",
       "3Ssn Porch       2930.0  2.592491e+00  2.514133e+01          0.0   \n",
       "Screen Porch     2930.0  1.600205e+01  5.608737e+01          0.0   \n",
       "Pool Area        2930.0  2.243345e+00  3.559718e+01          0.0   \n",
       "Misc Val         2930.0  5.063515e+01  5.663443e+02          0.0   \n",
       "Mo Sold          2930.0  6.216041e+00  2.714492e+00          1.0   \n",
       "Yr Sold          2930.0  2.007790e+03  1.316613e+00       2006.0   \n",
       "SalePrice        2930.0  1.807961e+05  7.988669e+04      12789.0   \n",
       "\n",
       "                          25%          50%           75%           max  \n",
       "Order            7.332500e+02       1465.5  2.197750e+03  2.930000e+03  \n",
       "PID              5.284770e+08  535453620.0  9.071811e+08  1.007100e+09  \n",
       "MS SubClass      2.000000e+01         50.0  7.000000e+01  1.900000e+02  \n",
       "Lot Area         7.440250e+03       9436.5  1.155525e+04  2.152450e+05  \n",
       "Overall Qual     5.000000e+00          6.0  7.000000e+00  1.000000e+01  \n",
       "Overall Cond     5.000000e+00          5.0  6.000000e+00  9.000000e+00  \n",
       "Year Built       1.954000e+03       1973.0  2.001000e+03  2.010000e+03  \n",
       "Year Remod/Add   1.965000e+03       1993.0  2.004000e+03  2.010000e+03  \n",
       "1st Flr SF       8.762500e+02       1084.0  1.384000e+03  5.095000e+03  \n",
       "2nd Flr SF       0.000000e+00          0.0  7.037500e+02  2.065000e+03  \n",
       "Low Qual Fin SF  0.000000e+00          0.0  0.000000e+00  1.064000e+03  \n",
       "Gr Liv Area      1.126000e+03       1442.0  1.742750e+03  5.642000e+03  \n",
       "Full Bath        1.000000e+00          2.0  2.000000e+00  4.000000e+00  \n",
       "Half Bath        0.000000e+00          0.0  1.000000e+00  2.000000e+00  \n",
       "Bedroom AbvGr    2.000000e+00          3.0  3.000000e+00  8.000000e+00  \n",
       "Kitchen AbvGr    1.000000e+00          1.0  1.000000e+00  3.000000e+00  \n",
       "TotRms AbvGrd    5.000000e+00          6.0  7.000000e+00  1.500000e+01  \n",
       "Fireplaces       0.000000e+00          1.0  1.000000e+00  4.000000e+00  \n",
       "Wood Deck SF     0.000000e+00          0.0  1.680000e+02  1.424000e+03  \n",
       "Open Porch SF    0.000000e+00         27.0  7.000000e+01  7.420000e+02  \n",
       "Enclosed Porch   0.000000e+00          0.0  0.000000e+00  1.012000e+03  \n",
       "3Ssn Porch       0.000000e+00          0.0  0.000000e+00  5.080000e+02  \n",
       "Screen Porch     0.000000e+00          0.0  0.000000e+00  5.760000e+02  \n",
       "Pool Area        0.000000e+00          0.0  0.000000e+00  8.000000e+02  \n",
       "Misc Val         0.000000e+00          0.0  0.000000e+00  1.700000e+04  \n",
       "Mo Sold          4.000000e+00          6.0  8.000000e+00  1.200000e+01  \n",
       "Yr Sold          2.007000e+03       2008.0  2.009000e+03  2.010000e+03  \n",
       "SalePrice        1.295000e+05     160000.0  2.135000e+05  7.550000e+05  "
      ],
      "text/html": [
       "<div>\n",
       "<style scoped>\n",
       "    .dataframe tbody tr th:only-of-type {\n",
       "        vertical-align: middle;\n",
       "    }\n",
       "\n",
       "    .dataframe tbody tr th {\n",
       "        vertical-align: top;\n",
       "    }\n",
       "\n",
       "    .dataframe thead th {\n",
       "        text-align: right;\n",
       "    }\n",
       "</style>\n",
       "<table border=\"1\" class=\"dataframe\">\n",
       "  <thead>\n",
       "    <tr style=\"text-align: right;\">\n",
       "      <th></th>\n",
       "      <th>count</th>\n",
       "      <th>mean</th>\n",
       "      <th>std</th>\n",
       "      <th>min</th>\n",
       "      <th>25%</th>\n",
       "      <th>50%</th>\n",
       "      <th>75%</th>\n",
       "      <th>max</th>\n",
       "    </tr>\n",
       "  </thead>\n",
       "  <tbody>\n",
       "    <tr>\n",
       "      <th>Order</th>\n",
       "      <td>2930.0</td>\n",
       "      <td>1.465500e+03</td>\n",
       "      <td>8.459625e+02</td>\n",
       "      <td>1.0</td>\n",
       "      <td>7.332500e+02</td>\n",
       "      <td>1465.5</td>\n",
       "      <td>2.197750e+03</td>\n",
       "      <td>2.930000e+03</td>\n",
       "    </tr>\n",
       "    <tr>\n",
       "      <th>PID</th>\n",
       "      <td>2930.0</td>\n",
       "      <td>7.144645e+08</td>\n",
       "      <td>1.887308e+08</td>\n",
       "      <td>526301100.0</td>\n",
       "      <td>5.284770e+08</td>\n",
       "      <td>535453620.0</td>\n",
       "      <td>9.071811e+08</td>\n",
       "      <td>1.007100e+09</td>\n",
       "    </tr>\n",
       "    <tr>\n",
       "      <th>MS SubClass</th>\n",
       "      <td>2930.0</td>\n",
       "      <td>5.738737e+01</td>\n",
       "      <td>4.263802e+01</td>\n",
       "      <td>20.0</td>\n",
       "      <td>2.000000e+01</td>\n",
       "      <td>50.0</td>\n",
       "      <td>7.000000e+01</td>\n",
       "      <td>1.900000e+02</td>\n",
       "    </tr>\n",
       "    <tr>\n",
       "      <th>Lot Area</th>\n",
       "      <td>2930.0</td>\n",
       "      <td>1.014792e+04</td>\n",
       "      <td>7.880018e+03</td>\n",
       "      <td>1300.0</td>\n",
       "      <td>7.440250e+03</td>\n",
       "      <td>9436.5</td>\n",
       "      <td>1.155525e+04</td>\n",
       "      <td>2.152450e+05</td>\n",
       "    </tr>\n",
       "    <tr>\n",
       "      <th>Overall Qual</th>\n",
       "      <td>2930.0</td>\n",
       "      <td>6.094881e+00</td>\n",
       "      <td>1.411026e+00</td>\n",
       "      <td>1.0</td>\n",
       "      <td>5.000000e+00</td>\n",
       "      <td>6.0</td>\n",
       "      <td>7.000000e+00</td>\n",
       "      <td>1.000000e+01</td>\n",
       "    </tr>\n",
       "    <tr>\n",
       "      <th>Overall Cond</th>\n",
       "      <td>2930.0</td>\n",
       "      <td>5.563140e+00</td>\n",
       "      <td>1.111537e+00</td>\n",
       "      <td>1.0</td>\n",
       "      <td>5.000000e+00</td>\n",
       "      <td>5.0</td>\n",
       "      <td>6.000000e+00</td>\n",
       "      <td>9.000000e+00</td>\n",
       "    </tr>\n",
       "    <tr>\n",
       "      <th>Year Built</th>\n",
       "      <td>2930.0</td>\n",
       "      <td>1.971356e+03</td>\n",
       "      <td>3.024536e+01</td>\n",
       "      <td>1872.0</td>\n",
       "      <td>1.954000e+03</td>\n",
       "      <td>1973.0</td>\n",
       "      <td>2.001000e+03</td>\n",
       "      <td>2.010000e+03</td>\n",
       "    </tr>\n",
       "    <tr>\n",
       "      <th>Year Remod/Add</th>\n",
       "      <td>2930.0</td>\n",
       "      <td>1.984267e+03</td>\n",
       "      <td>2.086029e+01</td>\n",
       "      <td>1950.0</td>\n",
       "      <td>1.965000e+03</td>\n",
       "      <td>1993.0</td>\n",
       "      <td>2.004000e+03</td>\n",
       "      <td>2.010000e+03</td>\n",
       "    </tr>\n",
       "    <tr>\n",
       "      <th>1st Flr SF</th>\n",
       "      <td>2930.0</td>\n",
       "      <td>1.159558e+03</td>\n",
       "      <td>3.918909e+02</td>\n",
       "      <td>334.0</td>\n",
       "      <td>8.762500e+02</td>\n",
       "      <td>1084.0</td>\n",
       "      <td>1.384000e+03</td>\n",
       "      <td>5.095000e+03</td>\n",
       "    </tr>\n",
       "    <tr>\n",
       "      <th>2nd Flr SF</th>\n",
       "      <td>2930.0</td>\n",
       "      <td>3.354560e+02</td>\n",
       "      <td>4.283957e+02</td>\n",
       "      <td>0.0</td>\n",
       "      <td>0.000000e+00</td>\n",
       "      <td>0.0</td>\n",
       "      <td>7.037500e+02</td>\n",
       "      <td>2.065000e+03</td>\n",
       "    </tr>\n",
       "    <tr>\n",
       "      <th>Low Qual Fin SF</th>\n",
       "      <td>2930.0</td>\n",
       "      <td>4.676792e+00</td>\n",
       "      <td>4.631051e+01</td>\n",
       "      <td>0.0</td>\n",
       "      <td>0.000000e+00</td>\n",
       "      <td>0.0</td>\n",
       "      <td>0.000000e+00</td>\n",
       "      <td>1.064000e+03</td>\n",
       "    </tr>\n",
       "    <tr>\n",
       "      <th>Gr Liv Area</th>\n",
       "      <td>2930.0</td>\n",
       "      <td>1.499690e+03</td>\n",
       "      <td>5.055089e+02</td>\n",
       "      <td>334.0</td>\n",
       "      <td>1.126000e+03</td>\n",
       "      <td>1442.0</td>\n",
       "      <td>1.742750e+03</td>\n",
       "      <td>5.642000e+03</td>\n",
       "    </tr>\n",
       "    <tr>\n",
       "      <th>Full Bath</th>\n",
       "      <td>2930.0</td>\n",
       "      <td>1.566553e+00</td>\n",
       "      <td>5.529406e-01</td>\n",
       "      <td>0.0</td>\n",
       "      <td>1.000000e+00</td>\n",
       "      <td>2.0</td>\n",
       "      <td>2.000000e+00</td>\n",
       "      <td>4.000000e+00</td>\n",
       "    </tr>\n",
       "    <tr>\n",
       "      <th>Half Bath</th>\n",
       "      <td>2930.0</td>\n",
       "      <td>3.795222e-01</td>\n",
       "      <td>5.026293e-01</td>\n",
       "      <td>0.0</td>\n",
       "      <td>0.000000e+00</td>\n",
       "      <td>0.0</td>\n",
       "      <td>1.000000e+00</td>\n",
       "      <td>2.000000e+00</td>\n",
       "    </tr>\n",
       "    <tr>\n",
       "      <th>Bedroom AbvGr</th>\n",
       "      <td>2930.0</td>\n",
       "      <td>2.854266e+00</td>\n",
       "      <td>8.277311e-01</td>\n",
       "      <td>0.0</td>\n",
       "      <td>2.000000e+00</td>\n",
       "      <td>3.0</td>\n",
       "      <td>3.000000e+00</td>\n",
       "      <td>8.000000e+00</td>\n",
       "    </tr>\n",
       "    <tr>\n",
       "      <th>Kitchen AbvGr</th>\n",
       "      <td>2930.0</td>\n",
       "      <td>1.044369e+00</td>\n",
       "      <td>2.140762e-01</td>\n",
       "      <td>0.0</td>\n",
       "      <td>1.000000e+00</td>\n",
       "      <td>1.0</td>\n",
       "      <td>1.000000e+00</td>\n",
       "      <td>3.000000e+00</td>\n",
       "    </tr>\n",
       "    <tr>\n",
       "      <th>TotRms AbvGrd</th>\n",
       "      <td>2930.0</td>\n",
       "      <td>6.443003e+00</td>\n",
       "      <td>1.572964e+00</td>\n",
       "      <td>2.0</td>\n",
       "      <td>5.000000e+00</td>\n",
       "      <td>6.0</td>\n",
       "      <td>7.000000e+00</td>\n",
       "      <td>1.500000e+01</td>\n",
       "    </tr>\n",
       "    <tr>\n",
       "      <th>Fireplaces</th>\n",
       "      <td>2930.0</td>\n",
       "      <td>5.993174e-01</td>\n",
       "      <td>6.479209e-01</td>\n",
       "      <td>0.0</td>\n",
       "      <td>0.000000e+00</td>\n",
       "      <td>1.0</td>\n",
       "      <td>1.000000e+00</td>\n",
       "      <td>4.000000e+00</td>\n",
       "    </tr>\n",
       "    <tr>\n",
       "      <th>Wood Deck SF</th>\n",
       "      <td>2930.0</td>\n",
       "      <td>9.375188e+01</td>\n",
       "      <td>1.263616e+02</td>\n",
       "      <td>0.0</td>\n",
       "      <td>0.000000e+00</td>\n",
       "      <td>0.0</td>\n",
       "      <td>1.680000e+02</td>\n",
       "      <td>1.424000e+03</td>\n",
       "    </tr>\n",
       "    <tr>\n",
       "      <th>Open Porch SF</th>\n",
       "      <td>2930.0</td>\n",
       "      <td>4.753345e+01</td>\n",
       "      <td>6.748340e+01</td>\n",
       "      <td>0.0</td>\n",
       "      <td>0.000000e+00</td>\n",
       "      <td>27.0</td>\n",
       "      <td>7.000000e+01</td>\n",
       "      <td>7.420000e+02</td>\n",
       "    </tr>\n",
       "    <tr>\n",
       "      <th>Enclosed Porch</th>\n",
       "      <td>2930.0</td>\n",
       "      <td>2.301160e+01</td>\n",
       "      <td>6.413906e+01</td>\n",
       "      <td>0.0</td>\n",
       "      <td>0.000000e+00</td>\n",
       "      <td>0.0</td>\n",
       "      <td>0.000000e+00</td>\n",
       "      <td>1.012000e+03</td>\n",
       "    </tr>\n",
       "    <tr>\n",
       "      <th>3Ssn Porch</th>\n",
       "      <td>2930.0</td>\n",
       "      <td>2.592491e+00</td>\n",
       "      <td>2.514133e+01</td>\n",
       "      <td>0.0</td>\n",
       "      <td>0.000000e+00</td>\n",
       "      <td>0.0</td>\n",
       "      <td>0.000000e+00</td>\n",
       "      <td>5.080000e+02</td>\n",
       "    </tr>\n",
       "    <tr>\n",
       "      <th>Screen Porch</th>\n",
       "      <td>2930.0</td>\n",
       "      <td>1.600205e+01</td>\n",
       "      <td>5.608737e+01</td>\n",
       "      <td>0.0</td>\n",
       "      <td>0.000000e+00</td>\n",
       "      <td>0.0</td>\n",
       "      <td>0.000000e+00</td>\n",
       "      <td>5.760000e+02</td>\n",
       "    </tr>\n",
       "    <tr>\n",
       "      <th>Pool Area</th>\n",
       "      <td>2930.0</td>\n",
       "      <td>2.243345e+00</td>\n",
       "      <td>3.559718e+01</td>\n",
       "      <td>0.0</td>\n",
       "      <td>0.000000e+00</td>\n",
       "      <td>0.0</td>\n",
       "      <td>0.000000e+00</td>\n",
       "      <td>8.000000e+02</td>\n",
       "    </tr>\n",
       "    <tr>\n",
       "      <th>Misc Val</th>\n",
       "      <td>2930.0</td>\n",
       "      <td>5.063515e+01</td>\n",
       "      <td>5.663443e+02</td>\n",
       "      <td>0.0</td>\n",
       "      <td>0.000000e+00</td>\n",
       "      <td>0.0</td>\n",
       "      <td>0.000000e+00</td>\n",
       "      <td>1.700000e+04</td>\n",
       "    </tr>\n",
       "    <tr>\n",
       "      <th>Mo Sold</th>\n",
       "      <td>2930.0</td>\n",
       "      <td>6.216041e+00</td>\n",
       "      <td>2.714492e+00</td>\n",
       "      <td>1.0</td>\n",
       "      <td>4.000000e+00</td>\n",
       "      <td>6.0</td>\n",
       "      <td>8.000000e+00</td>\n",
       "      <td>1.200000e+01</td>\n",
       "    </tr>\n",
       "    <tr>\n",
       "      <th>Yr Sold</th>\n",
       "      <td>2930.0</td>\n",
       "      <td>2.007790e+03</td>\n",
       "      <td>1.316613e+00</td>\n",
       "      <td>2006.0</td>\n",
       "      <td>2.007000e+03</td>\n",
       "      <td>2008.0</td>\n",
       "      <td>2.009000e+03</td>\n",
       "      <td>2.010000e+03</td>\n",
       "    </tr>\n",
       "    <tr>\n",
       "      <th>SalePrice</th>\n",
       "      <td>2930.0</td>\n",
       "      <td>1.807961e+05</td>\n",
       "      <td>7.988669e+04</td>\n",
       "      <td>12789.0</td>\n",
       "      <td>1.295000e+05</td>\n",
       "      <td>160000.0</td>\n",
       "      <td>2.135000e+05</td>\n",
       "      <td>7.550000e+05</td>\n",
       "    </tr>\n",
       "  </tbody>\n",
       "</table>\n",
       "</div>"
      ]
     },
     "execution_count": 157,
     "metadata": {},
     "output_type": "execute_result"
    }
   ],
   "execution_count": 157
  },
  {
   "metadata": {
    "ExecuteTime": {
     "end_time": "2025-08-13T13:29:53.837950Z",
     "start_time": "2025-08-13T13:29:53.823466Z"
    }
   },
   "cell_type": "code",
   "source": [
    "(\n",
    "    df\n",
    "    .select_dtypes(include=[np.float_])\n",
    "    .describe()\n",
    "    .T\n",
    ")"
   ],
   "id": "a7d2a1ad48ea5aee",
   "outputs": [
    {
     "data": {
      "text/plain": [
       "                 count         mean         std     min     25%     50%  \\\n",
       "Lot Frontage    2440.0    69.224590   23.365335    21.0    58.0    68.0   \n",
       "Mas Vnr Area    2907.0   101.896801  179.112611     0.0     0.0     0.0   \n",
       "BsmtFin SF 1    2929.0   442.629566  455.590839     0.0     0.0   370.0   \n",
       "BsmtFin SF 2    2929.0    49.722431  169.168476     0.0     0.0     0.0   \n",
       "Bsmt Unf SF     2929.0   559.262547  439.494153     0.0   219.0   466.0   \n",
       "Total Bsmt SF   2929.0  1051.614544  440.615067     0.0   793.0   990.0   \n",
       "Bsmt Full Bath  2928.0     0.431352    0.524820     0.0     0.0     0.0   \n",
       "Bsmt Half Bath  2928.0     0.061134    0.245254     0.0     0.0     0.0   \n",
       "Garage Yr Blt   2771.0  1978.132443   25.528411  1895.0  1960.0  1979.0   \n",
       "Garage Cars     2929.0     1.766815    0.760566     0.0     1.0     2.0   \n",
       "Garage Area     2929.0   472.819734  215.046549     0.0   320.0   480.0   \n",
       "\n",
       "                   75%     max  \n",
       "Lot Frontage      80.0   313.0  \n",
       "Mas Vnr Area     164.0  1600.0  \n",
       "BsmtFin SF 1     734.0  5644.0  \n",
       "BsmtFin SF 2       0.0  1526.0  \n",
       "Bsmt Unf SF      802.0  2336.0  \n",
       "Total Bsmt SF   1302.0  6110.0  \n",
       "Bsmt Full Bath     1.0     3.0  \n",
       "Bsmt Half Bath     0.0     2.0  \n",
       "Garage Yr Blt   2002.0  2207.0  \n",
       "Garage Cars        2.0     5.0  \n",
       "Garage Area      576.0  1488.0  "
      ],
      "text/html": [
       "<div>\n",
       "<style scoped>\n",
       "    .dataframe tbody tr th:only-of-type {\n",
       "        vertical-align: middle;\n",
       "    }\n",
       "\n",
       "    .dataframe tbody tr th {\n",
       "        vertical-align: top;\n",
       "    }\n",
       "\n",
       "    .dataframe thead th {\n",
       "        text-align: right;\n",
       "    }\n",
       "</style>\n",
       "<table border=\"1\" class=\"dataframe\">\n",
       "  <thead>\n",
       "    <tr style=\"text-align: right;\">\n",
       "      <th></th>\n",
       "      <th>count</th>\n",
       "      <th>mean</th>\n",
       "      <th>std</th>\n",
       "      <th>min</th>\n",
       "      <th>25%</th>\n",
       "      <th>50%</th>\n",
       "      <th>75%</th>\n",
       "      <th>max</th>\n",
       "    </tr>\n",
       "  </thead>\n",
       "  <tbody>\n",
       "    <tr>\n",
       "      <th>Lot Frontage</th>\n",
       "      <td>2440.0</td>\n",
       "      <td>69.224590</td>\n",
       "      <td>23.365335</td>\n",
       "      <td>21.0</td>\n",
       "      <td>58.0</td>\n",
       "      <td>68.0</td>\n",
       "      <td>80.0</td>\n",
       "      <td>313.0</td>\n",
       "    </tr>\n",
       "    <tr>\n",
       "      <th>Mas Vnr Area</th>\n",
       "      <td>2907.0</td>\n",
       "      <td>101.896801</td>\n",
       "      <td>179.112611</td>\n",
       "      <td>0.0</td>\n",
       "      <td>0.0</td>\n",
       "      <td>0.0</td>\n",
       "      <td>164.0</td>\n",
       "      <td>1600.0</td>\n",
       "    </tr>\n",
       "    <tr>\n",
       "      <th>BsmtFin SF 1</th>\n",
       "      <td>2929.0</td>\n",
       "      <td>442.629566</td>\n",
       "      <td>455.590839</td>\n",
       "      <td>0.0</td>\n",
       "      <td>0.0</td>\n",
       "      <td>370.0</td>\n",
       "      <td>734.0</td>\n",
       "      <td>5644.0</td>\n",
       "    </tr>\n",
       "    <tr>\n",
       "      <th>BsmtFin SF 2</th>\n",
       "      <td>2929.0</td>\n",
       "      <td>49.722431</td>\n",
       "      <td>169.168476</td>\n",
       "      <td>0.0</td>\n",
       "      <td>0.0</td>\n",
       "      <td>0.0</td>\n",
       "      <td>0.0</td>\n",
       "      <td>1526.0</td>\n",
       "    </tr>\n",
       "    <tr>\n",
       "      <th>Bsmt Unf SF</th>\n",
       "      <td>2929.0</td>\n",
       "      <td>559.262547</td>\n",
       "      <td>439.494153</td>\n",
       "      <td>0.0</td>\n",
       "      <td>219.0</td>\n",
       "      <td>466.0</td>\n",
       "      <td>802.0</td>\n",
       "      <td>2336.0</td>\n",
       "    </tr>\n",
       "    <tr>\n",
       "      <th>Total Bsmt SF</th>\n",
       "      <td>2929.0</td>\n",
       "      <td>1051.614544</td>\n",
       "      <td>440.615067</td>\n",
       "      <td>0.0</td>\n",
       "      <td>793.0</td>\n",
       "      <td>990.0</td>\n",
       "      <td>1302.0</td>\n",
       "      <td>6110.0</td>\n",
       "    </tr>\n",
       "    <tr>\n",
       "      <th>Bsmt Full Bath</th>\n",
       "      <td>2928.0</td>\n",
       "      <td>0.431352</td>\n",
       "      <td>0.524820</td>\n",
       "      <td>0.0</td>\n",
       "      <td>0.0</td>\n",
       "      <td>0.0</td>\n",
       "      <td>1.0</td>\n",
       "      <td>3.0</td>\n",
       "    </tr>\n",
       "    <tr>\n",
       "      <th>Bsmt Half Bath</th>\n",
       "      <td>2928.0</td>\n",
       "      <td>0.061134</td>\n",
       "      <td>0.245254</td>\n",
       "      <td>0.0</td>\n",
       "      <td>0.0</td>\n",
       "      <td>0.0</td>\n",
       "      <td>0.0</td>\n",
       "      <td>2.0</td>\n",
       "    </tr>\n",
       "    <tr>\n",
       "      <th>Garage Yr Blt</th>\n",
       "      <td>2771.0</td>\n",
       "      <td>1978.132443</td>\n",
       "      <td>25.528411</td>\n",
       "      <td>1895.0</td>\n",
       "      <td>1960.0</td>\n",
       "      <td>1979.0</td>\n",
       "      <td>2002.0</td>\n",
       "      <td>2207.0</td>\n",
       "    </tr>\n",
       "    <tr>\n",
       "      <th>Garage Cars</th>\n",
       "      <td>2929.0</td>\n",
       "      <td>1.766815</td>\n",
       "      <td>0.760566</td>\n",
       "      <td>0.0</td>\n",
       "      <td>1.0</td>\n",
       "      <td>2.0</td>\n",
       "      <td>2.0</td>\n",
       "      <td>5.0</td>\n",
       "    </tr>\n",
       "    <tr>\n",
       "      <th>Garage Area</th>\n",
       "      <td>2929.0</td>\n",
       "      <td>472.819734</td>\n",
       "      <td>215.046549</td>\n",
       "      <td>0.0</td>\n",
       "      <td>320.0</td>\n",
       "      <td>480.0</td>\n",
       "      <td>576.0</td>\n",
       "      <td>1488.0</td>\n",
       "    </tr>\n",
       "  </tbody>\n",
       "</table>\n",
       "</div>"
      ]
     },
     "execution_count": 158,
     "metadata": {},
     "output_type": "execute_result"
    }
   ],
   "execution_count": 158
  },
  {
   "metadata": {
    "ExecuteTime": {
     "end_time": "2025-08-13T13:29:54.322272Z",
     "start_time": "2025-08-13T13:29:54.320535Z"
    }
   },
   "cell_type": "code",
   "source": "",
   "id": "9620c44f20d3e84c",
   "outputs": [],
   "execution_count": null
  },
  {
   "metadata": {
    "ExecuteTime": {
     "end_time": "2025-08-13T13:29:54.628873Z",
     "start_time": "2025-08-13T13:29:54.627035Z"
    }
   },
   "cell_type": "code",
   "source": "",
   "id": "c3e82c5d02179f2a",
   "outputs": [],
   "execution_count": null
  },
  {
   "metadata": {
    "ExecuteTime": {
     "end_time": "2025-08-13T13:32:17.434596Z",
     "start_time": "2025-08-13T13:32:17.431496Z"
    }
   },
   "cell_type": "code",
   "source": [
    "def shrink_float(column: pd.Series):\n",
    "    mapping = column.dtypes.name\n",
    "    contains_nan = column.isna().any()\n",
    "    max = column.max()\n",
    "    min = column.min()\n",
    "    if contains_nan:\n",
    "        # fill na\n",
    "        column = column.fillna(column.mean(), inplace=False).astype(np.float64)\n",
    "        # return column.astype(mapping)\n",
    "    if min >= np.finfo(np.float16).min and max <= np.finfo(np.float16).max:\n",
    "        mapping = np.float16\n",
    "    elif min >= np.finfo(np.float32).min and max <= np.finfo(np.float32).max:\n",
    "        mapping = np.float32\n",
    "    elif min >= np.finfo(np.float64).min and max <= np.finfo(np.float64).max:\n",
    "        mapping = np.float64\n",
    "    return column.astype(mapping)"
   ],
   "id": "3146507c98738998",
   "outputs": [],
   "execution_count": 169
  },
  {
   "metadata": {
    "ExecuteTime": {
     "end_time": "2025-08-13T13:32:18.679102Z",
     "start_time": "2025-08-13T13:32:18.675311Z"
    }
   },
   "cell_type": "code",
   "source": [
    "def shrink_int(colum: pd.Series):\n",
    "    mapping = colum.dtypes.name\n",
    "    max_ = colum.max()\n",
    "    min_ = colum.min()\n",
    "    if min_ >= np.iinfo(np.uint8).min and max_ <= np.iinfo(np.uint8).max:\n",
    "        mapping = np.uint8\n",
    "    elif min_ >= np.iinfo(np.int16).min and max_ <= np.iinfo(np.int16).max:\n",
    "        mapping = np.int16\n",
    "    elif min_ >= np.iinfo(np.int32).min and max_ <= np.iinfo(np.int32).max:\n",
    "        mapping = np.int32\n",
    "    elif min_ >= np.iinfo(np.int64).min and max_ <= np.iinfo(np.int64).max:\n",
    "        mapping = np.int64\n",
    "    return colum.astype(mapping)\n"
   ],
   "id": "14f76c4ae9114398",
   "outputs": [],
   "execution_count": 170
  },
  {
   "metadata": {
    "ExecuteTime": {
     "end_time": "2025-08-13T13:29:55.552108Z",
     "start_time": "2025-08-13T13:29:55.550338Z"
    }
   },
   "cell_type": "code",
   "source": "# df.select_dtypes(include=[np.int_]).apply(lambda col: shrink_int(col)).dtypes",
   "id": "2fd384fd55f42206",
   "outputs": [],
   "execution_count": 161
  },
  {
   "metadata": {
    "ExecuteTime": {
     "end_time": "2025-08-13T13:29:55.873719Z",
     "start_time": "2025-08-13T13:29:55.871473Z"
    }
   },
   "cell_type": "code",
   "source": "",
   "id": "b799c208e3c5c72d",
   "outputs": [],
   "execution_count": null
  },
  {
   "metadata": {
    "ExecuteTime": {
     "end_time": "2025-08-13T13:29:56.129971Z",
     "start_time": "2025-08-13T13:29:56.119494Z"
    }
   },
   "cell_type": "code",
   "source": [
    "(\n",
    "    df\n",
    "    .select_dtypes(include=[np.int_])\n",
    "    .apply(lambda col: shrink_int(col))\n",
    "    # .pipe(shrink_int)\n",
    "    .memory_usage(deep=True)\n",
    "    .sum()\n",
    ")"
   ],
   "id": "68b9ececbb31f6c4",
   "outputs": [
    {
     "data": {
      "text/plain": [
       "152492"
      ]
     },
     "execution_count": 162,
     "metadata": {},
     "output_type": "execute_result"
    }
   ],
   "execution_count": 162
  },
  {
   "metadata": {
    "ExecuteTime": {
     "end_time": "2025-08-13T13:29:56.482065Z",
     "start_time": "2025-08-13T13:29:56.480760Z"
    }
   },
   "cell_type": "code",
   "source": "",
   "id": "294bf42f627b11ed",
   "outputs": [],
   "execution_count": null
  },
  {
   "metadata": {
    "ExecuteTime": {
     "end_time": "2025-08-13T13:32:45.413541Z",
     "start_time": "2025-08-13T13:32:45.411083Z"
    }
   },
   "cell_type": "code",
   "source": "(152492/656452)*100",
   "id": "ba6e0dffa934b00d",
   "outputs": [
    {
     "data": {
      "text/plain": [
       "23.229725859621116"
      ]
     },
     "execution_count": 174,
     "metadata": {},
     "output_type": "execute_result"
    }
   ],
   "execution_count": 174
  },
  {
   "metadata": {
    "ExecuteTime": {
     "end_time": "2025-08-13T13:29:57.117431Z",
     "start_time": "2025-08-13T13:29:57.115184Z"
    }
   },
   "cell_type": "code",
   "source": "",
   "id": "8be9f3674392fa6f",
   "outputs": [],
   "execution_count": null
  },
  {
   "metadata": {
    "ExecuteTime": {
     "end_time": "2025-08-13T13:37:49.882107Z",
     "start_time": "2025-08-13T13:37:49.874144Z"
    }
   },
   "cell_type": "code",
   "source": [
    "(\n",
    "    df\n",
    "    .select_dtypes(include=[np.float_])\n",
    "    .apply(lambda col: shrink_float(col))\n",
    "    # .pipe(shrink_int)\n",
    "    .memory_usage(deep=True)\n",
    "    .sum()\n",
    ")"
   ],
   "id": "101c9b6103914135",
   "outputs": [
    {
     "data": {
      "text/plain": [
       "64592"
      ]
     },
     "execution_count": 189,
     "metadata": {},
     "output_type": "execute_result"
    }
   ],
   "execution_count": 189
  },
  {
   "metadata": {
    "ExecuteTime": {
     "end_time": "2025-08-13T13:37:50.244766Z",
     "start_time": "2025-08-13T13:37:50.240714Z"
    }
   },
   "cell_type": "code",
   "source": "(64592/257972)*100",
   "id": "e6df0889374f7970",
   "outputs": [
    {
     "data": {
      "text/plain": [
       "25.03837625788845"
      ]
     },
     "execution_count": 190,
     "metadata": {},
     "output_type": "execute_result"
    }
   ],
   "execution_count": 190
  },
  {
   "metadata": {},
   "cell_type": "code",
   "outputs": [],
   "execution_count": null,
   "source": "",
   "id": "ab88eb85fe24b83b"
  }
 ],
 "metadata": {
  "kernelspec": {
   "display_name": "Python 3",
   "language": "python",
   "name": "python3"
  },
  "language_info": {
   "codemirror_mode": {
    "name": "ipython",
    "version": 2
   },
   "file_extension": ".py",
   "mimetype": "text/x-python",
   "name": "python",
   "nbconvert_exporter": "python",
   "pygments_lexer": "ipython2",
   "version": "2.7.6"
  }
 },
 "nbformat": 4,
 "nbformat_minor": 5
}
