{
 "cells": [
  {
   "cell_type": "code",
   "execution_count": null,
   "id": "initial_id",
   "metadata": {
    "collapsed": true
   },
   "outputs": [],
   "source": ""
  },
  {
   "metadata": {},
   "cell_type": "markdown",
   "source": [
    "# EDA\n",
    "\n",
    "Data sets:\n",
    "   - Housing\n",
    "\n",
    "\n",
    "Packages:\n",
    "   - Seaborn\n",
    "   - Matplotlib\n",
    "   - Pandas"
   ],
   "id": "d8a432fc50fa078a"
  },
  {
   "metadata": {
    "ExecuteTime": {
     "end_time": "2025-08-19T08:40:12.981328Z",
     "start_time": "2025-08-19T08:40:12.977562Z"
    }
   },
   "cell_type": "code",
   "source": [
    "import seaborn as sns\n",
    "import matplotlib.pyplot as plt\n",
    "import pandas as pd"
   ],
   "id": "39c9fc7308c50db4",
   "outputs": [],
   "execution_count": 30
  },
  {
   "metadata": {
    "ExecuteTime": {
     "end_time": "2025-08-19T08:40:13.417040Z",
     "start_time": "2025-08-19T08:40:13.381660Z"
    }
   },
   "cell_type": "code",
   "source": "housing = pd.read_csv(\"../../../assets/AmesHousing.csv\")",
   "id": "57263c8866f561d3",
   "outputs": [],
   "execution_count": 31
  },
  {
   "metadata": {
    "ExecuteTime": {
     "end_time": "2025-08-19T08:45:25.282801Z",
     "start_time": "2025-08-19T08:45:25.276295Z"
    }
   },
   "cell_type": "code",
   "source": "housing.head()",
   "id": "3645471520fdb185",
   "outputs": [
    {
     "data": {
      "text/plain": [
       "   Order        PID  MS SubClass MS Zoning  Lot Frontage  Lot Area Street  \\\n",
       "0      1  526301100           20        RL         141.0     31770   Pave   \n",
       "1      2  526350040           20        RH          80.0     11622   Pave   \n",
       "2      3  526351010           20        RL          81.0     14267   Pave   \n",
       "3      4  526353030           20        RL          93.0     11160   Pave   \n",
       "4      5  527105010           60        RL          74.0     13830   Pave   \n",
       "\n",
       "  Alley Lot Shape Land Contour  ... Pool Area Pool QC  Fence Misc Feature  \\\n",
       "0   NaN       IR1          Lvl  ...         0     NaN    NaN          NaN   \n",
       "1   NaN       Reg          Lvl  ...         0     NaN  MnPrv          NaN   \n",
       "2   NaN       IR1          Lvl  ...         0     NaN    NaN         Gar2   \n",
       "3   NaN       Reg          Lvl  ...         0     NaN    NaN          NaN   \n",
       "4   NaN       IR1          Lvl  ...         0     NaN  MnPrv          NaN   \n",
       "\n",
       "  Misc Val Mo Sold Yr Sold Sale Type  Sale Condition  SalePrice  \n",
       "0        0       5    2010       WD           Normal     215000  \n",
       "1        0       6    2010       WD           Normal     105000  \n",
       "2    12500       6    2010       WD           Normal     172000  \n",
       "3        0       4    2010       WD           Normal     244000  \n",
       "4        0       3    2010       WD           Normal     189900  \n",
       "\n",
       "[5 rows x 82 columns]"
      ],
      "text/html": [
       "<div>\n",
       "<style scoped>\n",
       "    .dataframe tbody tr th:only-of-type {\n",
       "        vertical-align: middle;\n",
       "    }\n",
       "\n",
       "    .dataframe tbody tr th {\n",
       "        vertical-align: top;\n",
       "    }\n",
       "\n",
       "    .dataframe thead th {\n",
       "        text-align: right;\n",
       "    }\n",
       "</style>\n",
       "<table border=\"1\" class=\"dataframe\">\n",
       "  <thead>\n",
       "    <tr style=\"text-align: right;\">\n",
       "      <th></th>\n",
       "      <th>Order</th>\n",
       "      <th>PID</th>\n",
       "      <th>MS SubClass</th>\n",
       "      <th>MS Zoning</th>\n",
       "      <th>Lot Frontage</th>\n",
       "      <th>Lot Area</th>\n",
       "      <th>Street</th>\n",
       "      <th>Alley</th>\n",
       "      <th>Lot Shape</th>\n",
       "      <th>Land Contour</th>\n",
       "      <th>...</th>\n",
       "      <th>Pool Area</th>\n",
       "      <th>Pool QC</th>\n",
       "      <th>Fence</th>\n",
       "      <th>Misc Feature</th>\n",
       "      <th>Misc Val</th>\n",
       "      <th>Mo Sold</th>\n",
       "      <th>Yr Sold</th>\n",
       "      <th>Sale Type</th>\n",
       "      <th>Sale Condition</th>\n",
       "      <th>SalePrice</th>\n",
       "    </tr>\n",
       "  </thead>\n",
       "  <tbody>\n",
       "    <tr>\n",
       "      <th>0</th>\n",
       "      <td>1</td>\n",
       "      <td>526301100</td>\n",
       "      <td>20</td>\n",
       "      <td>RL</td>\n",
       "      <td>141.0</td>\n",
       "      <td>31770</td>\n",
       "      <td>Pave</td>\n",
       "      <td>NaN</td>\n",
       "      <td>IR1</td>\n",
       "      <td>Lvl</td>\n",
       "      <td>...</td>\n",
       "      <td>0</td>\n",
       "      <td>NaN</td>\n",
       "      <td>NaN</td>\n",
       "      <td>NaN</td>\n",
       "      <td>0</td>\n",
       "      <td>5</td>\n",
       "      <td>2010</td>\n",
       "      <td>WD</td>\n",
       "      <td>Normal</td>\n",
       "      <td>215000</td>\n",
       "    </tr>\n",
       "    <tr>\n",
       "      <th>1</th>\n",
       "      <td>2</td>\n",
       "      <td>526350040</td>\n",
       "      <td>20</td>\n",
       "      <td>RH</td>\n",
       "      <td>80.0</td>\n",
       "      <td>11622</td>\n",
       "      <td>Pave</td>\n",
       "      <td>NaN</td>\n",
       "      <td>Reg</td>\n",
       "      <td>Lvl</td>\n",
       "      <td>...</td>\n",
       "      <td>0</td>\n",
       "      <td>NaN</td>\n",
       "      <td>MnPrv</td>\n",
       "      <td>NaN</td>\n",
       "      <td>0</td>\n",
       "      <td>6</td>\n",
       "      <td>2010</td>\n",
       "      <td>WD</td>\n",
       "      <td>Normal</td>\n",
       "      <td>105000</td>\n",
       "    </tr>\n",
       "    <tr>\n",
       "      <th>2</th>\n",
       "      <td>3</td>\n",
       "      <td>526351010</td>\n",
       "      <td>20</td>\n",
       "      <td>RL</td>\n",
       "      <td>81.0</td>\n",
       "      <td>14267</td>\n",
       "      <td>Pave</td>\n",
       "      <td>NaN</td>\n",
       "      <td>IR1</td>\n",
       "      <td>Lvl</td>\n",
       "      <td>...</td>\n",
       "      <td>0</td>\n",
       "      <td>NaN</td>\n",
       "      <td>NaN</td>\n",
       "      <td>Gar2</td>\n",
       "      <td>12500</td>\n",
       "      <td>6</td>\n",
       "      <td>2010</td>\n",
       "      <td>WD</td>\n",
       "      <td>Normal</td>\n",
       "      <td>172000</td>\n",
       "    </tr>\n",
       "    <tr>\n",
       "      <th>3</th>\n",
       "      <td>4</td>\n",
       "      <td>526353030</td>\n",
       "      <td>20</td>\n",
       "      <td>RL</td>\n",
       "      <td>93.0</td>\n",
       "      <td>11160</td>\n",
       "      <td>Pave</td>\n",
       "      <td>NaN</td>\n",
       "      <td>Reg</td>\n",
       "      <td>Lvl</td>\n",
       "      <td>...</td>\n",
       "      <td>0</td>\n",
       "      <td>NaN</td>\n",
       "      <td>NaN</td>\n",
       "      <td>NaN</td>\n",
       "      <td>0</td>\n",
       "      <td>4</td>\n",
       "      <td>2010</td>\n",
       "      <td>WD</td>\n",
       "      <td>Normal</td>\n",
       "      <td>244000</td>\n",
       "    </tr>\n",
       "    <tr>\n",
       "      <th>4</th>\n",
       "      <td>5</td>\n",
       "      <td>527105010</td>\n",
       "      <td>60</td>\n",
       "      <td>RL</td>\n",
       "      <td>74.0</td>\n",
       "      <td>13830</td>\n",
       "      <td>Pave</td>\n",
       "      <td>NaN</td>\n",
       "      <td>IR1</td>\n",
       "      <td>Lvl</td>\n",
       "      <td>...</td>\n",
       "      <td>0</td>\n",
       "      <td>NaN</td>\n",
       "      <td>MnPrv</td>\n",
       "      <td>NaN</td>\n",
       "      <td>0</td>\n",
       "      <td>3</td>\n",
       "      <td>2010</td>\n",
       "      <td>WD</td>\n",
       "      <td>Normal</td>\n",
       "      <td>189900</td>\n",
       "    </tr>\n",
       "  </tbody>\n",
       "</table>\n",
       "<p>5 rows × 82 columns</p>\n",
       "</div>"
      ]
     },
     "execution_count": 39,
     "metadata": {},
     "output_type": "execute_result"
    }
   ],
   "execution_count": 39
  },
  {
   "metadata": {},
   "cell_type": "markdown",
   "source": "## Data Types",
   "id": "dea90d8efbd768e2"
  },
  {
   "metadata": {
    "ExecuteTime": {
     "end_time": "2025-08-19T08:40:14.094821Z",
     "start_time": "2025-08-19T08:40:14.082226Z"
    }
   },
   "cell_type": "code",
   "source": "housing.dtypes",
   "id": "81a68905146a0dc6",
   "outputs": [
    {
     "data": {
      "text/plain": [
       "Order               int64\n",
       "PID                 int64\n",
       "MS SubClass         int64\n",
       "MS Zoning          object\n",
       "Lot Frontage      float64\n",
       "                   ...   \n",
       "Mo Sold             int64\n",
       "Yr Sold             int64\n",
       "Sale Type          object\n",
       "Sale Condition     object\n",
       "SalePrice           int64\n",
       "Length: 82, dtype: object"
      ]
     },
     "execution_count": 32,
     "metadata": {},
     "output_type": "execute_result"
    }
   ],
   "execution_count": 32
  },
  {
   "metadata": {},
   "cell_type": "markdown",
   "source": "## Missing Values",
   "id": "cd01f16981898c09"
  },
  {
   "metadata": {
    "ExecuteTime": {
     "end_time": "2025-08-19T08:42:56.701062Z",
     "start_time": "2025-08-19T08:42:56.692445Z"
    }
   },
   "cell_type": "code",
   "source": [
    "(\n",
    "    housing\n",
    "    .isna()\n",
    "    .sum(axis=1)\n",
    " )"
   ],
   "id": "5ff356f2a7aa1fd5",
   "outputs": [
    {
     "data": {
      "text/plain": [
       "0       4\n",
       "1       5\n",
       "2       4\n",
       "3       5\n",
       "4       4\n",
       "       ..\n",
       "2925    5\n",
       "2926    6\n",
       "2927    9\n",
       "2928    5\n",
       "2929    4\n",
       "Length: 2930, dtype: int64"
      ]
     },
     "execution_count": 33,
     "metadata": {},
     "output_type": "execute_result"
    }
   ],
   "execution_count": 33
  },
  {
   "metadata": {
    "ExecuteTime": {
     "end_time": "2025-08-19T08:43:19.817093Z",
     "start_time": "2025-08-19T08:43:19.809099Z"
    }
   },
   "cell_type": "code",
   "source": [
    "na = (\n",
    "    housing\n",
    "    .isna()\n",
    "    .sum()\n",
    "    .rename(\"sum_na\")\n",
    ")"
   ],
   "id": "a78e53d8d54ef4c4",
   "outputs": [],
   "execution_count": 34
  },
  {
   "metadata": {
    "ExecuteTime": {
     "end_time": "2025-08-19T08:43:49.814879Z",
     "start_time": "2025-08-19T08:43:49.812473Z"
    }
   },
   "cell_type": "code",
   "source": "na_mask = na > 0",
   "id": "304f6baeeb2d5c25",
   "outputs": [],
   "execution_count": 35
  },
  {
   "metadata": {
    "ExecuteTime": {
     "end_time": "2025-08-19T08:43:57.376614Z",
     "start_time": "2025-08-19T08:43:57.374681Z"
    }
   },
   "cell_type": "code",
   "source": "",
   "id": "a63cc67ca1d32c04",
   "outputs": [],
   "execution_count": null
  },
  {
   "metadata": {
    "ExecuteTime": {
     "end_time": "2025-08-19T08:44:01.780350Z",
     "start_time": "2025-08-19T08:44:01.778317Z"
    }
   },
   "cell_type": "code",
   "source": "na = na[na_mask]",
   "id": "dab8c95c5fd957ca",
   "outputs": [],
   "execution_count": 37
  },
  {
   "metadata": {
    "ExecuteTime": {
     "end_time": "2025-08-19T08:25:52.306932Z",
     "start_time": "2025-08-19T08:25:52.304667Z"
    }
   },
   "cell_type": "code",
   "source": "",
   "id": "624753449aafa0df",
   "outputs": [],
   "execution_count": null
  },
  {
   "metadata": {
    "ExecuteTime": {
     "end_time": "2025-08-19T08:25:54.940443Z",
     "start_time": "2025-08-19T08:25:54.679107Z"
    }
   },
   "cell_type": "code",
   "source": [
    "ax = na.plot(kind=\"barh\")\n",
    "# set figure size\n",
    "ax.figure.set_size_inches(10, 8)\n",
    "# set x-tick rotation 45\n",
    "# _ = ax.set_xticklabels(ax.get_xticklabels(), rotation=45)\n",
    "# make x-tick start from 10 and jumps by 20\n",
    "_ = ax.set_xticks(range(10, na.max(), 100))\n",
    "_ = ax.set_xticklabels(ax.get_xticklabels(), rotation=45)"
   ],
   "id": "ff0c69ad584d5e00",
   "outputs": [
    {
     "data": {
      "text/plain": [
       "<Figure size 1000x800 with 1 Axes>"
      ],
      "image/png": "[encoded data removed]"
     },
     "metadata": {},
     "output_type": "display_data"
    }
   ],
   "execution_count": 24
  },
  {
   "metadata": {},
   "cell_type": "code",
   "outputs": [],
   "execution_count": null,
   "source": "",
   "id": "1a91069b7573837f"
  },
  {
   "metadata": {},
   "cell_type": "markdown",
   "source": "## Unique Values",
   "id": "df921473609ca05e"
  },
  {
   "metadata": {
    "ExecuteTime": {
     "end_time": "2025-08-19T08:44:24.741815Z",
     "start_time": "2025-08-19T08:44:24.730629Z"
    }
   },
   "cell_type": "code",
   "source": [
    "# count number of unique values per column\n",
    "unique_values = (\n",
    "    housing\n",
    "    .nunique()\n",
    "    .rename(\"unique_values\")\n",
    "    .sort_values(ascending=False)\n",
    ")"
   ],
   "id": "7e472867d8196f20",
   "outputs": [],
   "execution_count": 38
  },
  {
   "metadata": {
    "ExecuteTime": {
     "end_time": "2025-08-19T08:26:02.425102Z",
     "start_time": "2025-08-19T08:26:02.422497Z"
    }
   },
   "cell_type": "code",
   "source": "unique_values_small = unique_values[unique_values<4]",
   "id": "5d3901eb82fbf841",
   "outputs": [],
   "execution_count": 26
  },
  {
   "metadata": {
    "ExecuteTime": {
     "end_time": "2025-08-19T08:26:02.986745Z",
     "start_time": "2025-08-19T08:26:02.982303Z"
    }
   },
   "cell_type": "code",
   "source": "unique_values_small",
   "id": "1387cdcdf0507237",
   "outputs": [
    {
     "data": {
      "text/plain": [
       "Paved Drive       3\n",
       "Garage Finish     3\n",
       "Bsmt Half Bath    3\n",
       "Land Slope        3\n",
       "Half Bath         3\n",
       "Utilities         3\n",
       "Alley             2\n",
       "Street            2\n",
       "Central Air       2\n",
       "Name: unique_values, dtype: int64"
      ]
     },
     "execution_count": 27,
     "metadata": {},
     "output_type": "execute_result"
    }
   ],
   "execution_count": 27
  },
  {
   "metadata": {
    "ExecuteTime": {
     "end_time": "2025-08-19T08:26:05.180266Z",
     "start_time": "2025-08-19T08:26:05.175245Z"
    }
   },
   "cell_type": "code",
   "source": "housing[unique_values_small.index].dtypes",
   "id": "a474fc72a78d51f4",
   "outputs": [
    {
     "data": {
      "text/plain": [
       "Paved Drive        object\n",
       "Garage Finish      object\n",
       "Bsmt Half Bath    float64\n",
       "Land Slope         object\n",
       "Half Bath           int64\n",
       "Utilities          object\n",
       "Alley              object\n",
       "Street             object\n",
       "Central Air        object\n",
       "dtype: object"
      ]
     },
     "execution_count": 28,
     "metadata": {},
     "output_type": "execute_result"
    }
   ],
   "execution_count": 28
  },
  {
   "metadata": {
    "ExecuteTime": {
     "end_time": "2025-08-19T08:26:09.411323Z",
     "start_time": "2025-08-19T08:26:09.400293Z"
    }
   },
   "cell_type": "code",
   "source": "housing[unique_values_small.index].describe()",
   "id": "8ae89a671e899c21",
   "outputs": [
    {
     "data": {
      "text/plain": [
       "       Bsmt Half Bath    Half Bath\n",
       "count     2928.000000  2930.000000\n",
       "mean         0.061134     0.379522\n",
       "std          0.245254     0.502629\n",
       "min          0.000000     0.000000\n",
       "25%          0.000000     0.000000\n",
       "50%          0.000000     0.000000\n",
       "75%          0.000000     1.000000\n",
       "max          2.000000     2.000000"
      ],
      "text/html": [
       "<div>\n",
       "<style scoped>\n",
       "    .dataframe tbody tr th:only-of-type {\n",
       "        vertical-align: middle;\n",
       "    }\n",
       "\n",
       "    .dataframe tbody tr th {\n",
       "        vertical-align: top;\n",
       "    }\n",
       "\n",
       "    .dataframe thead th {\n",
       "        text-align: right;\n",
       "    }\n",
       "</style>\n",
       "<table border=\"1\" class=\"dataframe\">\n",
       "  <thead>\n",
       "    <tr style=\"text-align: right;\">\n",
       "      <th></th>\n",
       "      <th>Bsmt Half Bath</th>\n",
       "      <th>Half Bath</th>\n",
       "    </tr>\n",
       "  </thead>\n",
       "  <tbody>\n",
       "    <tr>\n",
       "      <th>count</th>\n",
       "      <td>2928.000000</td>\n",
       "      <td>2930.000000</td>\n",
       "    </tr>\n",
       "    <tr>\n",
       "      <th>mean</th>\n",
       "      <td>0.061134</td>\n",
       "      <td>0.379522</td>\n",
       "    </tr>\n",
       "    <tr>\n",
       "      <th>std</th>\n",
       "      <td>0.245254</td>\n",
       "      <td>0.502629</td>\n",
       "    </tr>\n",
       "    <tr>\n",
       "      <th>min</th>\n",
       "      <td>0.000000</td>\n",
       "      <td>0.000000</td>\n",
       "    </tr>\n",
       "    <tr>\n",
       "      <th>25%</th>\n",
       "      <td>0.000000</td>\n",
       "      <td>0.000000</td>\n",
       "    </tr>\n",
       "    <tr>\n",
       "      <th>50%</th>\n",
       "      <td>0.000000</td>\n",
       "      <td>0.000000</td>\n",
       "    </tr>\n",
       "    <tr>\n",
       "      <th>75%</th>\n",
       "      <td>0.000000</td>\n",
       "      <td>1.000000</td>\n",
       "    </tr>\n",
       "    <tr>\n",
       "      <th>max</th>\n",
       "      <td>2.000000</td>\n",
       "      <td>2.000000</td>\n",
       "    </tr>\n",
       "  </tbody>\n",
       "</table>\n",
       "</div>"
      ]
     },
     "execution_count": 29,
     "metadata": {},
     "output_type": "execute_result"
    }
   ],
   "execution_count": 29
  },
  {
   "metadata": {
    "ExecuteTime": {
     "end_time": "2025-08-18T08:29:41.750977Z",
     "start_time": "2025-08-18T08:29:41.740507Z"
    }
   },
   "cell_type": "code",
   "source": "housing[unique_values_small.index]",
   "id": "bdda1ccbe32e3ef6",
   "outputs": [
    {
     "data": {
      "text/plain": [
       "     Paved Drive Garage Finish  Bsmt Half Bath Land Slope  Half Bath  \\\n",
       "0              P           Fin             0.0        Gtl          0   \n",
       "1              Y           Unf             0.0        Gtl          0   \n",
       "2              Y           Unf             0.0        Gtl          1   \n",
       "3              Y           Fin             0.0        Gtl          1   \n",
       "4              Y           Fin             0.0        Gtl          1   \n",
       "...          ...           ...             ...        ...        ...   \n",
       "2925           Y           Unf             0.0        Gtl          0   \n",
       "2926           Y           Unf             0.0        Mod          0   \n",
       "2927           Y           NaN             1.0        Gtl          0   \n",
       "2928           Y           RFn             0.0        Mod          0   \n",
       "2929           Y           Fin             0.0        Mod          1   \n",
       "\n",
       "     Utilities Alley Street Central Air  \n",
       "0       AllPub   NaN   Pave           Y  \n",
       "1       AllPub   NaN   Pave           Y  \n",
       "2       AllPub   NaN   Pave           Y  \n",
       "3       AllPub   NaN   Pave           Y  \n",
       "4       AllPub   NaN   Pave           Y  \n",
       "...        ...   ...    ...         ...  \n",
       "2925    AllPub   NaN   Pave           Y  \n",
       "2926    AllPub   NaN   Pave           Y  \n",
       "2927    AllPub   NaN   Pave           Y  \n",
       "2928    AllPub   NaN   Pave           Y  \n",
       "2929    AllPub   NaN   Pave           Y  \n",
       "\n",
       "[2930 rows x 9 columns]"
      ],
      "text/html": [
       "<div>\n",
       "<style scoped>\n",
       "    .dataframe tbody tr th:only-of-type {\n",
       "        vertical-align: middle;\n",
       "    }\n",
       "\n",
       "    .dataframe tbody tr th {\n",
       "        vertical-align: top;\n",
       "    }\n",
       "\n",
       "    .dataframe thead th {\n",
       "        text-align: right;\n",
       "    }\n",
       "</style>\n",
       "<table border=\"1\" class=\"dataframe\">\n",
       "  <thead>\n",
       "    <tr style=\"text-align: right;\">\n",
       "      <th></th>\n",
       "      <th>Paved Drive</th>\n",
       "      <th>Garage Finish</th>\n",
       "      <th>Bsmt Half Bath</th>\n",
       "      <th>Land Slope</th>\n",
       "      <th>Half Bath</th>\n",
       "      <th>Utilities</th>\n",
       "      <th>Alley</th>\n",
       "      <th>Street</th>\n",
       "      <th>Central Air</th>\n",
       "    </tr>\n",
       "  </thead>\n",
       "  <tbody>\n",
       "    <tr>\n",
       "      <th>0</th>\n",
       "      <td>P</td>\n",
       "      <td>Fin</td>\n",
       "      <td>0.0</td>\n",
       "      <td>Gtl</td>\n",
       "      <td>0</td>\n",
       "      <td>AllPub</td>\n",
       "      <td>NaN</td>\n",
       "      <td>Pave</td>\n",
       "      <td>Y</td>\n",
       "    </tr>\n",
       "    <tr>\n",
       "      <th>1</th>\n",
       "      <td>Y</td>\n",
       "      <td>Unf</td>\n",
       "      <td>0.0</td>\n",
       "      <td>Gtl</td>\n",
       "      <td>0</td>\n",
       "      <td>AllPub</td>\n",
       "      <td>NaN</td>\n",
       "      <td>Pave</td>\n",
       "      <td>Y</td>\n",
       "    </tr>\n",
       "    <tr>\n",
       "      <th>2</th>\n",
       "      <td>Y</td>\n",
       "      <td>Unf</td>\n",
       "      <td>0.0</td>\n",
       "      <td>Gtl</td>\n",
       "      <td>1</td>\n",
       "      <td>AllPub</td>\n",
       "      <td>NaN</td>\n",
       "      <td>Pave</td>\n",
       "      <td>Y</td>\n",
       "    </tr>\n",
       "    <tr>\n",
       "      <th>3</th>\n",
       "      <td>Y</td>\n",
       "      <td>Fin</td>\n",
       "      <td>0.0</td>\n",
       "      <td>Gtl</td>\n",
       "      <td>1</td>\n",
       "      <td>AllPub</td>\n",
       "      <td>NaN</td>\n",
       "      <td>Pave</td>\n",
       "      <td>Y</td>\n",
       "    </tr>\n",
       "    <tr>\n",
       "      <th>4</th>\n",
       "      <td>Y</td>\n",
       "      <td>Fin</td>\n",
       "      <td>0.0</td>\n",
       "      <td>Gtl</td>\n",
       "      <td>1</td>\n",
       "      <td>AllPub</td>\n",
       "      <td>NaN</td>\n",
       "      <td>Pave</td>\n",
       "      <td>Y</td>\n",
       "    </tr>\n",
       "    <tr>\n",
       "      <th>...</th>\n",
       "      <td>...</td>\n",
       "      <td>...</td>\n",
       "      <td>...</td>\n",
       "      <td>...</td>\n",
       "      <td>...</td>\n",
       "      <td>...</td>\n",
       "      <td>...</td>\n",
       "      <td>...</td>\n",
       "      <td>...</td>\n",
       "    </tr>\n",
       "    <tr>\n",
       "      <th>2925</th>\n",
       "      <td>Y</td>\n",
       "      <td>Unf</td>\n",
       "      <td>0.0</td>\n",
       "      <td>Gtl</td>\n",
       "      <td>0</td>\n",
       "      <td>AllPub</td>\n",
       "      <td>NaN</td>\n",
       "      <td>Pave</td>\n",
       "      <td>Y</td>\n",
       "    </tr>\n",
       "    <tr>\n",
       "      <th>2926</th>\n",
       "      <td>Y</td>\n",
       "      <td>Unf</td>\n",
       "      <td>0.0</td>\n",
       "      <td>Mod</td>\n",
       "      <td>0</td>\n",
       "      <td>AllPub</td>\n",
       "      <td>NaN</td>\n",
       "      <td>Pave</td>\n",
       "      <td>Y</td>\n",
       "    </tr>\n",
       "    <tr>\n",
       "      <th>2927</th>\n",
       "      <td>Y</td>\n",
       "      <td>NaN</td>\n",
       "      <td>1.0</td>\n",
       "      <td>Gtl</td>\n",
       "      <td>0</td>\n",
       "      <td>AllPub</td>\n",
       "      <td>NaN</td>\n",
       "      <td>Pave</td>\n",
       "      <td>Y</td>\n",
       "    </tr>\n",
       "    <tr>\n",
       "      <th>2928</th>\n",
       "      <td>Y</td>\n",
       "      <td>RFn</td>\n",
       "      <td>0.0</td>\n",
       "      <td>Mod</td>\n",
       "      <td>0</td>\n",
       "      <td>AllPub</td>\n",
       "      <td>NaN</td>\n",
       "      <td>Pave</td>\n",
       "      <td>Y</td>\n",
       "    </tr>\n",
       "    <tr>\n",
       "      <th>2929</th>\n",
       "      <td>Y</td>\n",
       "      <td>Fin</td>\n",
       "      <td>0.0</td>\n",
       "      <td>Mod</td>\n",
       "      <td>1</td>\n",
       "      <td>AllPub</td>\n",
       "      <td>NaN</td>\n",
       "      <td>Pave</td>\n",
       "      <td>Y</td>\n",
       "    </tr>\n",
       "  </tbody>\n",
       "</table>\n",
       "<p>2930 rows × 9 columns</p>\n",
       "</div>"
      ]
     },
     "execution_count": 62,
     "metadata": {},
     "output_type": "execute_result"
    }
   ],
   "execution_count": 62
  },
  {
   "metadata": {
    "ExecuteTime": {
     "end_time": "2025-08-18T08:27:49.907666Z",
     "start_time": "2025-08-18T08:27:49.751592Z"
    }
   },
   "cell_type": "code",
   "source": [
    "ax = sns.barplot(x=unique_values_small.index, y=unique_values_small.values)\n",
    "# set figure size\n",
    "ax.figure.set_size_inches(10, 8)\n",
    "# rotate x-ticks labels 45\n",
    "_ = ax.set_xticklabels(ax.get_xticklabels(), rotation=45, ha=\"right\", fontsize=8)"
   ],
   "id": "78886dd81a46428e",
   "outputs": [
    {
     "name": "stderr",
     "output_type": "stream",
     "text": [
      "/var/folders/c9/hdy5dxw96bv2pbcnscrcgglm0000gn/T/ipykernel_96228/395395121.py:5: UserWarning: set_ticklabels() should only be used with a fixed number of ticks, i.e. after set_ticks() or using a FixedLocator.\n",
      "  _ = ax.set_xticklabels(ax.get_xticklabels(), rotation=45, ha=\"right\", fontsize=8)\n"
     ]
    },
    {
     "data": {
      "text/plain": [
       "<Figure size 1000x800 with 1 Axes>"
      ],
      "image/png": "[encoded data removed]"
     },
     "metadata": {},
     "output_type": "display_data"
    }
   ],
   "execution_count": 55
  },
  {
   "metadata": {
    "ExecuteTime": {
     "end_time": "2025-08-18T08:30:30.719825Z",
     "start_time": "2025-08-18T08:30:30.718379Z"
    }
   },
   "cell_type": "code",
   "source": "",
   "id": "8d1dc8a710345ffb",
   "outputs": [],
   "execution_count": null
  },
  {
   "metadata": {
    "ExecuteTime": {
     "end_time": "2025-08-18T08:30:41.750175Z",
     "start_time": "2025-08-18T08:30:41.741457Z"
    }
   },
   "cell_type": "code",
   "source": "housing.duplicated().sum()",
   "id": "7fd7d15b343c98d1",
   "outputs": [
    {
     "data": {
      "text/plain": [
       "0"
      ]
     },
     "execution_count": 64,
     "metadata": {},
     "output_type": "execute_result"
    }
   ],
   "execution_count": 64
  },
  {
   "metadata": {},
   "cell_type": "code",
   "outputs": [],
   "execution_count": null,
   "source": "",
   "id": "a2f456539e91fef2"
  }
 ],
 "metadata": {
  "kernelspec": {
   "display_name": "Python 3",
   "language": "python",
   "name": "python3"
  },
  "language_info": {
   "codemirror_mode": {
    "name": "ipython",
    "version": 2
   },
   "file_extension": ".py",
   "mimetype": "text/x-python",
   "name": "python",
   "nbconvert_exporter": "python",
   "pygments_lexer": "ipython2",
   "version": "2.7.6"
  }
 },
 "nbformat": 4,
 "nbformat_minor": 5
}
