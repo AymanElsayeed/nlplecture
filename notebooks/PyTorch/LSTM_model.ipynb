{
 "cells": [
  {
   "cell_type": "code",
   "id": "initial_id",
   "metadata": {
    "collapsed": true,
    "ExecuteTime": {
     "end_time": "2024-07-12T15:21:53.963571Z",
     "start_time": "2024-07-12T15:21:52.538845Z"
    }
   },
   "source": [
    "import torch\n",
    "import torch.nn as nn\n",
    "import torch.optim as optim\n",
    "import pandas as pd\n",
    "from sklearn.model_selection import train_test_split\n",
    "from sklearn.feature_extraction.text import CountVectorizer\n",
    "from torchmetrics import Accuracy, Precision, Recall, F1Score\n"
   ],
   "outputs": [],
   "execution_count": 1
  },
  {
   "metadata": {},
   "cell_type": "markdown",
   "source": [
    "## Question :\n",
    "\n",
    "* Read the `spam` data set\n",
    "* Split the data set into train and test sets\n",
    "* Create X_train, y_train, X_test, y_test\n"
   ],
   "id": "f9e086a075c306a0"
  },
  {
   "metadata": {
    "ExecuteTime": {
     "end_time": "2024-07-12T15:17:56.412158Z",
     "start_time": "2024-07-12T15:17:56.396994Z"
    }
   },
   "cell_type": "code",
   "source": "",
   "id": "2ba2d6d66eaa5438",
   "outputs": [],
   "execution_count": 13
  },
  {
   "metadata": {},
   "cell_type": "markdown",
   "source": [
    "## Vectorize the text data\n",
    "\n",
    "*  max_features = 100\n",
    "* use CountVectorizer / TfidfVectorizer / ngram_range\n",
    "    * with the tokenizer function\n",
    "    * without the tokenizer function\n",
    "    * with ngam_range\n",
    "    * with stop_words\n",
    "    * without stop_words"
   ],
   "id": "c68c5298c100e93b"
  },
  {
   "metadata": {},
   "cell_type": "code",
   "outputs": [],
   "execution_count": null,
   "source": "max_features = 100",
   "id": "bc71dc62b1ef6cad"
  },
  {
   "metadata": {
    "ExecuteTime": {
     "end_time": "2024-07-12T15:21:58.537991Z",
     "start_time": "2024-07-12T15:21:58.331962Z"
    }
   },
   "cell_type": "code",
   "source": "",
   "id": "667094ff253a59f9",
   "outputs": [],
   "execution_count": 4
  },
  {
   "metadata": {},
   "cell_type": "markdown",
   "source": [
    "## Question :\n",
    "\n",
    "Create \n",
    "\n",
    "* X_train_tensor\n",
    "* X_test_tensor\n",
    "* y_train_tensor\n",
    "* y_test_tensor\n"
   ],
   "id": "b96c6c09ca98455d"
  },
  {
   "metadata": {
    "ExecuteTime": {
     "end_time": "2024-07-12T15:22:00.290246Z",
     "start_time": "2024-07-12T15:22:00.275917Z"
    }
   },
   "cell_type": "code",
   "source": "# Convert feature matrices to PyTorch tensors",
   "id": "262a97879538ac43",
   "outputs": [],
   "execution_count": 5
  },
  {
   "metadata": {},
   "cell_type": "markdown",
   "source": [
    "## Question :\n",
    "\n",
    "Reshape the:\n",
    "* X_train_tensor to X_train_seq\n",
    "* X_test_tensor to X_test_seq"
   ],
   "id": "b5b8c86fa166b580"
  },
  {
   "metadata": {
    "ExecuteTime": {
     "end_time": "2024-07-12T15:22:01.108543Z",
     "start_time": "2024-07-12T15:22:01.105716Z"
    }
   },
   "cell_type": "code",
   "source": "X_train_seq = ___",
   "id": "faebff0602ddc584",
   "outputs": [],
   "execution_count": 6
  },
  {
   "metadata": {
    "ExecuteTime": {
     "end_time": "2024-07-12T15:22:01.406395Z",
     "start_time": "2024-07-12T15:22:01.403461Z"
    }
   },
   "cell_type": "code",
   "source": "X_test_seq = ___",
   "id": "dcc5f62e2ca042ae",
   "outputs": [],
   "execution_count": 7
  },
  {
   "metadata": {
    "ExecuteTime": {
     "end_time": "2024-07-12T15:22:01.689808Z",
     "start_time": "2024-07-12T15:22:01.686569Z"
    }
   },
   "cell_type": "code",
   "source": [
    "# Initialize the LSTM and the output layer with parameters\n",
    "class LSTMModel(nn.Module):\n",
    "    def __init__(self, input_size, hidden_size, num_layers, num_classes):\n",
    "        super(LSTMModel, self).__init__()\n",
    "        self.hidden_size = hidden_size\n",
    "        self.num_layers = num_layers\n",
    "        self.lstm = nn.LSTM(input_size, hidden_size, num_layers, batch_first=True)\n",
    "        self.fc = nn.Linear(hidden_size, num_classes)\n",
    "    def forward(self, x):\n",
    "        h0 = torch.zeros(self.num_layers, x.size(0), self.hidden_size)\n",
    "        c0 = torch.zeros(self.num_layers, x.size(0), self.hidden_size)\n",
    "        out, _ = self.lstm(x, (h0, c0))\n",
    "        out = out[:, -1, :]\n",
    "        out = self.fc(out)\n",
    "        return out"
   ],
   "id": "da6328c174756520",
   "outputs": [],
   "execution_count": 8
  },
  {
   "metadata": {},
   "cell_type": "code",
   "outputs": [],
   "execution_count": null,
   "source": [
    "input_size = 100\n",
    "hidden_size = 32\n",
    "num_layers = 2\n",
    "num_classes = 2"
   ],
   "id": "6cf8a7f77fb48f0e"
  },
  {
   "metadata": {},
   "cell_type": "markdown",
   "source": [
    "## Question :\n",
    "\n",
    "Initialize the LSTM model with the required parameters"
   ],
   "id": "3c22c45aa2171889"
  },
  {
   "metadata": {},
   "cell_type": "code",
   "outputs": [],
   "execution_count": null,
   "source": "",
   "id": "9be9f03737934775"
  },
  {
   "metadata": {},
   "cell_type": "markdown",
   "source": [
    "## Question :\n",
    "\n",
    "Define the loss function and the optimizer"
   ],
   "id": "8edc54e875260952"
  },
  {
   "metadata": {},
   "cell_type": "code",
   "outputs": [],
   "execution_count": null,
   "source": "",
   "id": "e0491ffa4109f074"
  },
  {
   "metadata": {},
   "cell_type": "markdown",
   "source": [
    "## Question :\n",
    "\n",
    "Compile the model with the optimizer"
   ],
   "id": "fa5602fc746be822"
  },
  {
   "metadata": {},
   "cell_type": "code",
   "outputs": [],
   "execution_count": null,
   "source": "",
   "id": "811cd82ed5297661"
  },
  {
   "metadata": {
    "ExecuteTime": {
     "end_time": "2024-07-12T15:22:02.667352Z",
     "start_time": "2024-07-12T15:22:02.137699Z"
    }
   },
   "cell_type": "code",
   "source": "",
   "id": "c60b9d4192931f95",
   "outputs": [],
   "execution_count": 9
  },
  {
   "metadata": {
    "ExecuteTime": {
     "end_time": "2024-07-12T15:22:03.126283Z",
     "start_time": "2024-07-12T15:22:02.698627Z"
    }
   },
   "cell_type": "code",
   "source": [
    "\n",
    "# Train the model by passing the correct parameters and zeroing the gradient\n",
    "for epoch in range(10):\n",
    "    optimizer.zero_grad()\n",
    "    outputs = lstm_model(X_train_seq)\n",
    "    loss = criterion(outputs, y_train_tensor)\n",
    "    loss.backward()\n",
    "    optimizer.step()\n",
    "    print(f'Epoch: {epoch+1}, Loss: {loss.item()}')"
   ],
   "id": "8e1376c29a31397e",
   "outputs": [
    {
     "name": "stdout",
     "output_type": "stream",
     "text": [
      "Epoch: 1, Loss: 0.7081077098846436\n",
      "Epoch: 2, Loss: 0.6769278645515442\n",
      "Epoch: 3, Loss: 0.6470552682876587\n",
      "Epoch: 4, Loss: 0.6160111427307129\n",
      "Epoch: 5, Loss: 0.5820109248161316\n",
      "Epoch: 6, Loss: 0.5439117550849915\n",
      "Epoch: 7, Loss: 0.5013368129730225\n",
      "Epoch: 8, Loss: 0.45486125349998474\n",
      "Epoch: 9, Loss: 0.4062715470790863\n",
      "Epoch: 10, Loss: 0.358610600233078\n"
     ]
    }
   ],
   "execution_count": 10
  },
  {
   "metadata": {
    "ExecuteTime": {
     "end_time": "2024-07-12T15:22:03.782294Z",
     "start_time": "2024-07-12T15:22:03.780784Z"
    }
   },
   "cell_type": "code",
   "source": "",
   "id": "32345e2973e376e7",
   "outputs": [],
   "execution_count": 10
  },
  {
   "metadata": {},
   "cell_type": "markdown",
   "source": "## Evaluate the LSTM Model",
   "id": "5933b0461052a63e"
  },
  {
   "metadata": {
    "ExecuteTime": {
     "end_time": "2024-07-12T15:22:05.152653Z",
     "start_time": "2024-07-12T15:22:04.711320Z"
    }
   },
   "cell_type": "code",
   "source": "",
   "id": "17b932a5e283deff",
   "outputs": [],
   "execution_count": 11
  },
  {
   "metadata": {
    "ExecuteTime": {
     "end_time": "2024-07-12T15:22:17.062610Z",
     "start_time": "2024-07-12T15:22:17.058343Z"
    }
   },
   "cell_type": "code",
   "source": [
    "# Calculate metrics for the LSTM model\n",
    "# Create an instance of the metrics\n",
    "accuracy = Accuracy(task=\"multiclass\", num_classes=num_classes)\n",
    "\n",
    "# create an instance of  precision, recall, and F1 score\n",
    "\n"
   ],
   "id": "4240b2725ba605b3",
   "outputs": [],
   "execution_count": 15
  },
  {
   "metadata": {
    "ExecuteTime": {
     "end_time": "2024-07-12T15:22:17.314060Z",
     "start_time": "2024-07-12T15:22:17.301110Z"
    }
   },
   "cell_type": "code",
   "source": [
    "# Generate the predictions\n",
    "outputs = lstm_model(X_test_seq)\n",
    "_, predicted = torch.max(outputs, 1)"
   ],
   "id": "59221766cf452c6e",
   "outputs": [],
   "execution_count": 16
  },
  {
   "metadata": {},
   "cell_type": "markdown",
   "source": [
    "## Question : \n",
    "\n",
    "Calculate the metrics for the LSTM model"
   ],
   "id": "8203326fb54636ee"
  },
  {
   "metadata": {
    "ExecuteTime": {
     "end_time": "2024-07-12T15:22:17.581833Z",
     "start_time": "2024-07-12T15:22:17.577450Z"
    }
   },
   "cell_type": "code",
   "source": [
    "# Calculate the metrics\n",
    "\n",
    "print(\"RNN Model - Accuracy: {}, Precision: {}, Recall: {}, F1 Score: {}\".format(accuracy_score, precision_score, recall_score, f1_score))"
   ],
   "id": "a862624056a61906",
   "outputs": [
    {
     "name": "stdout",
     "output_type": "stream",
     "text": [
      "RNN Model - Accuracy: 0.9286719560623169, Precision: 0.0, Recall: 0.0, F1 Score: 0.0\n"
     ]
    }
   ],
   "execution_count": 17
  },
  {
   "metadata": {},
   "cell_type": "code",
   "outputs": [],
   "execution_count": null,
   "source": "",
   "id": "871ca21ab329f798"
  }
 ],
 "metadata": {
  "kernelspec": {
   "display_name": "Python 3",
   "language": "python",
   "name": "python3"
  },
  "language_info": {
   "codemirror_mode": {
    "name": "ipython",
    "version": 2
   },
   "file_extension": ".py",
   "mimetype": "text/x-python",
   "name": "python",
   "nbconvert_exporter": "python",
   "pygments_lexer": "ipython2",
   "version": "2.7.6"
  }
 },
 "nbformat": 4,
 "nbformat_minor": 5
}
