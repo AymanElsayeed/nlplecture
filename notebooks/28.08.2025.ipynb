{
 "cells": [
  {
   "cell_type": "code",
   "execution_count": null,
   "id": "initial_id",
   "metadata": {
    "collapsed": true
   },
   "outputs": [],
   "source": [
    ""
   ]
  },
  {
   "metadata": {},
   "cell_type": "markdown",
   "source": "# Today Agenda",
   "id": "59b17f3114dc2cd4"
  },
  {
   "metadata": {},
   "cell_type": "markdown",
   "source": [
    "## A EDA - Example ~ 30\n",
    "    includes:\n",
    "        * data visualization / Explore:\n",
    "            * Descritive statistics /EDA/Describe Data.ipynb\n",
    "            * Class imbalance /notebooks/EDA.ipynb\n",
    "            * Bar/count plot /notebooks/EDA.ipynb\n",
    "            * Scatter plot /EDA/data-visualization.ipynb\n",
    "            * Histogram    /EDA/data-visualization.ipynb\n",
    "        * data manipulation\n",
    "            * missing values\n",
    "            * scaling / tranformation\n",
    "        * correlation\n",
    "            * Heatmap /EDA/Correlations.ipynb\n",
    "        * Association"
   ],
   "id": "be69ed0195b0d448"
  },
  {
   "metadata": {},
   "cell_type": "markdown",
   "source": [
    "## B - 3 Domain Expert Groups: (45-60)\n",
    "    * Data sets\n",
    "        * Seaborn dataset 3 dataset, iris etc\n",
    "\n",
    "    1 data visualization / Explore - Seaborn,Matplotlib\n",
    "        - Bar plot\n",
    "        - Violin plot\n",
    "        - Scatter plot\n",
    "        - Count plot\n",
    "        - Heat map\n",
    "        - Line plot\n",
    "        - Histogram\n",
    "        - Pie Plot\n",
    "\n",
    "    2 data manipulation - Pandas - Given DataSets i need to find one.\n",
    "        - stats\n",
    "        - missing value\n",
    "        - filling missing values\n",
    "        - scaling / transformation\n",
    "        - One Hot encodeing\n",
    "        - Data distribution\n",
    "        - marge\n",
    "\n",
    "    3 correlation Pandas,Scipy,Numpy, statsmodels:\n",
    "        - person\n",
    "        - peterson\n",
    "        - T-test\n",
    "        - ANOVA\n",
    "        - Association\n",
    "\n",
    "    Expected output: Notebook with example in GitHub, the notebook include example of each subtopic."
   ],
   "id": "99bf32b40a107bc2"
  },
  {
   "metadata": {},
   "cell_type": "markdown",
   "source": [
    "\n",
    "## C - 7 Groups: each group 3 people, person from each domain - (10 - 15)\n",
    "    Given Dataset: 3-4 datasets to choose from"
   ],
   "id": "fdd22a638ee9b8cb"
  },
  {
   "metadata": {},
   "cell_type": "markdown",
   "source": [
    "## D - apply EDA on dataset:\n",
    "    Expected output Notebook in GitHub\n"
   ],
   "id": "2eeb2f963abbda1"
  }
 ],
 "metadata": {
  "kernelspec": {
   "display_name": "Python 3",
   "language": "python",
   "name": "python3"
  },
  "language_info": {
   "codemirror_mode": {
    "name": "ipython",
    "version": 2
   },
   "file_extension": ".py",
   "mimetype": "text/x-python",
   "name": "python",
   "nbconvert_exporter": "python",
   "pygments_lexer": "ipython2",
   "version": "2.7.6"
  }
 },
 "nbformat": 4,
 "nbformat_minor": 5
}
