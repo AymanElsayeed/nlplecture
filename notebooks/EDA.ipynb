{
 "cells": [
  {
   "metadata": {},
   "cell_type": "markdown",
   "source": [
    "# EDA\n",
    "\n",
    "Exploratory Data Analysis (EDA) is the process of analyzing data sets to summarize their main characteristics, often with visual methods.\n",
    "\n",
    "Checklist:\n",
    "\n",
    "* Data types\n",
    "* Missing values\n",
    "* Duplicates\n",
    "* Class imbalance\n",
    "* Data distribution\n",
    "* Outliers\n",
    "* Correlation\n",
    "* Feature engineering\n",
    "    * Feature importance\n",
    "    * Feature scaling\n",
    "    * Feature selection\n",
    "* Model selection"
   ],
   "id": "8f179c6f824cba04"
  },
  {
   "metadata": {},
   "cell_type": "markdown",
   "source": [
    "## Packages\n",
    "\n",
    "* pandas\n",
    "* Seaborn\n",
    "* Matplotlib\n",
    "* Numpy\n",
    "* Scikit-learn\n",
    "* scipy\n",
    "* statsmodels"
   ],
   "id": "ddf23bad0e751ced"
  },
  {
   "metadata": {
    "ExecuteTime": {
     "end_time": "2024-07-15T13:00:37.995448Z",
     "start_time": "2024-07-15T13:00:37.993397Z"
    }
   },
   "cell_type": "code",
   "source": [
    "import pandas as pd\n",
    "import seaborn as sns"
   ],
   "id": "7520ef91875f515d",
   "outputs": [],
   "execution_count": 4
  },
  {
   "metadata": {
    "ExecuteTime": {
     "end_time": "2024-07-15T13:00:38.216547Z",
     "start_time": "2024-07-15T13:00:38.203947Z"
    }
   },
   "cell_type": "code",
   "source": "data = pd.read_csv(\"../assets/amazon_reviews.csv\")",
   "id": "f9411a968122415c",
   "outputs": [],
   "execution_count": 5
  },
  {
   "metadata": {
    "ExecuteTime": {
     "end_time": "2024-07-09T13:26:03.343988Z",
     "start_time": "2024-07-09T13:26:03.338136Z"
    }
   },
   "cell_type": "code",
   "source": "data.head()",
   "id": "f1d0282e6ca88ab6",
   "outputs": [
    {
     "data": {
      "text/plain": [
       "   rating       date         variation  \\\n",
       "0       5  31-Jul-18  Charcoal Fabric    \n",
       "1       5  31-Jul-18  Charcoal Fabric    \n",
       "2       4  31-Jul-18    Walnut Finish    \n",
       "3       5  31-Jul-18  Charcoal Fabric    \n",
       "4       5  31-Jul-18  Charcoal Fabric    \n",
       "\n",
       "                                    verified_reviews  feedback  \n",
       "0                                      Love my Echo!         1  \n",
       "1                                          Loved it!         1  \n",
       "2  Sometimes while playing a game, you can answer...         1  \n",
       "3  I have had a lot of fun with this thing. My 4 ...         1  \n",
       "4                                              Music         1  "
      ],
      "text/html": [
       "<div>\n",
       "<style scoped>\n",
       "    .dataframe tbody tr th:only-of-type {\n",
       "        vertical-align: middle;\n",
       "    }\n",
       "\n",
       "    .dataframe tbody tr th {\n",
       "        vertical-align: top;\n",
       "    }\n",
       "\n",
       "    .dataframe thead th {\n",
       "        text-align: right;\n",
       "    }\n",
       "</style>\n",
       "<table border=\"1\" class=\"dataframe\">\n",
       "  <thead>\n",
       "    <tr style=\"text-align: right;\">\n",
       "      <th></th>\n",
       "      <th>rating</th>\n",
       "      <th>date</th>\n",
       "      <th>variation</th>\n",
       "      <th>verified_reviews</th>\n",
       "      <th>feedback</th>\n",
       "    </tr>\n",
       "  </thead>\n",
       "  <tbody>\n",
       "    <tr>\n",
       "      <th>0</th>\n",
       "      <td>5</td>\n",
       "      <td>31-Jul-18</td>\n",
       "      <td>Charcoal Fabric</td>\n",
       "      <td>Love my Echo!</td>\n",
       "      <td>1</td>\n",
       "    </tr>\n",
       "    <tr>\n",
       "      <th>1</th>\n",
       "      <td>5</td>\n",
       "      <td>31-Jul-18</td>\n",
       "      <td>Charcoal Fabric</td>\n",
       "      <td>Loved it!</td>\n",
       "      <td>1</td>\n",
       "    </tr>\n",
       "    <tr>\n",
       "      <th>2</th>\n",
       "      <td>4</td>\n",
       "      <td>31-Jul-18</td>\n",
       "      <td>Walnut Finish</td>\n",
       "      <td>Sometimes while playing a game, you can answer...</td>\n",
       "      <td>1</td>\n",
       "    </tr>\n",
       "    <tr>\n",
       "      <th>3</th>\n",
       "      <td>5</td>\n",
       "      <td>31-Jul-18</td>\n",
       "      <td>Charcoal Fabric</td>\n",
       "      <td>I have had a lot of fun with this thing. My 4 ...</td>\n",
       "      <td>1</td>\n",
       "    </tr>\n",
       "    <tr>\n",
       "      <th>4</th>\n",
       "      <td>5</td>\n",
       "      <td>31-Jul-18</td>\n",
       "      <td>Charcoal Fabric</td>\n",
       "      <td>Music</td>\n",
       "      <td>1</td>\n",
       "    </tr>\n",
       "  </tbody>\n",
       "</table>\n",
       "</div>"
      ]
     },
     "execution_count": 3,
     "metadata": {},
     "output_type": "execute_result"
    }
   ],
   "execution_count": 3
  },
  {
   "metadata": {},
   "cell_type": "markdown",
   "source": "## Data Types",
   "id": "b1966d44fcc0667"
  },
  {
   "metadata": {
    "ExecuteTime": {
     "end_time": "2024-07-09T20:38:38.150540Z",
     "start_time": "2024-07-09T20:38:38.147764Z"
    }
   },
   "cell_type": "code",
   "source": "data.dtypes",
   "id": "8e3d11b1a5c44106",
   "outputs": [
    {
     "data": {
      "text/plain": [
       "rating               int64\n",
       "date                object\n",
       "variation           object\n",
       "verified_reviews    object\n",
       "feedback             int64\n",
       "dtype: object"
      ]
     },
     "execution_count": 27,
     "metadata": {},
     "output_type": "execute_result"
    }
   ],
   "execution_count": 27
  },
  {
   "metadata": {},
   "cell_type": "markdown",
   "source": "## Missing Values",
   "id": "68e01ec5e2753b99"
  },
  {
   "metadata": {
    "ExecuteTime": {
     "end_time": "2024-07-09T20:33:57.073916Z",
     "start_time": "2024-07-09T20:33:57.070730Z"
    }
   },
   "cell_type": "code",
   "source": "data.isna().sum()",
   "id": "dbb68e061823b69e",
   "outputs": [
    {
     "data": {
      "text/plain": [
       "rating              0\n",
       "date                0\n",
       "variation           0\n",
       "verified_reviews    1\n",
       "feedback            0\n",
       "dtype: int64"
      ]
     },
     "execution_count": 15,
     "metadata": {},
     "output_type": "execute_result"
    }
   ],
   "execution_count": 15
  },
  {
   "metadata": {},
   "cell_type": "markdown",
   "source": [
    "## Duplicates\n",
    "\n",
    "* find duplicates `verified_reviews`"
   ],
   "id": "d02ba5783b0a3e73"
  },
  {
   "metadata": {
    "ExecuteTime": {
     "end_time": "2024-07-09T20:35:35.645772Z",
     "start_time": "2024-07-09T20:35:35.643589Z"
    }
   },
   "cell_type": "code",
   "source": "duplicated = data[\"verified_reviews\"].duplicated()",
   "id": "2c8d3ac62e8a5b8c",
   "outputs": [],
   "execution_count": 21
  },
  {
   "metadata": {
    "ExecuteTime": {
     "end_time": "2024-07-09T20:35:44.360899Z",
     "start_time": "2024-07-09T20:35:44.355739Z"
    }
   },
   "cell_type": "code",
   "source": "data[duplicated]",
   "id": "f8ed9cebd1e67bd9",
   "outputs": [
    {
     "data": {
      "text/plain": [
       "      rating       date             variation  \\\n",
       "101        5  30-Jul-18  Heather Gray Fabric    \n",
       "151        5  30-Jul-18     Sandstone Fabric    \n",
       "183        3  29-Jul-18  Heather Gray Fabric    \n",
       "219        5  29-Jul-18     Sandstone Fabric    \n",
       "220        5  29-Jul-18  Heather Gray Fabric    \n",
       "...      ...        ...                   ...   \n",
       "3145       5  30-Jul-18            Black  Dot   \n",
       "3146       5  30-Jul-18            Black  Dot   \n",
       "3147       5  30-Jul-18            Black  Dot   \n",
       "3148       5  30-Jul-18            White  Dot   \n",
       "3149       4  29-Jul-18            Black  Dot   \n",
       "\n",
       "                                       verified_reviews  feedback  \n",
       "101                                            Love it!         1  \n",
       "151                                             Love it         1  \n",
       "183                                                             1  \n",
       "219                                                             1  \n",
       "220                                                Cool         1  \n",
       "...                                                 ...       ...  \n",
       "3145  Perfect for kids, adults and everyone in betwe...         1  \n",
       "3146  Listening to music, searching locations, check...         1  \n",
       "3147  I do love these things, i have them running my...         1  \n",
       "3148  Only complaint I have is that the sound qualit...         1  \n",
       "3149                                               Good         1  \n",
       "\n",
       "[849 rows x 5 columns]"
      ],
      "text/html": [
       "<div>\n",
       "<style scoped>\n",
       "    .dataframe tbody tr th:only-of-type {\n",
       "        vertical-align: middle;\n",
       "    }\n",
       "\n",
       "    .dataframe tbody tr th {\n",
       "        vertical-align: top;\n",
       "    }\n",
       "\n",
       "    .dataframe thead th {\n",
       "        text-align: right;\n",
       "    }\n",
       "</style>\n",
       "<table border=\"1\" class=\"dataframe\">\n",
       "  <thead>\n",
       "    <tr style=\"text-align: right;\">\n",
       "      <th></th>\n",
       "      <th>rating</th>\n",
       "      <th>date</th>\n",
       "      <th>variation</th>\n",
       "      <th>verified_reviews</th>\n",
       "      <th>feedback</th>\n",
       "    </tr>\n",
       "  </thead>\n",
       "  <tbody>\n",
       "    <tr>\n",
       "      <th>101</th>\n",
       "      <td>5</td>\n",
       "      <td>30-Jul-18</td>\n",
       "      <td>Heather Gray Fabric</td>\n",
       "      <td>Love it!</td>\n",
       "      <td>1</td>\n",
       "    </tr>\n",
       "    <tr>\n",
       "      <th>151</th>\n",
       "      <td>5</td>\n",
       "      <td>30-Jul-18</td>\n",
       "      <td>Sandstone Fabric</td>\n",
       "      <td>Love it</td>\n",
       "      <td>1</td>\n",
       "    </tr>\n",
       "    <tr>\n",
       "      <th>183</th>\n",
       "      <td>3</td>\n",
       "      <td>29-Jul-18</td>\n",
       "      <td>Heather Gray Fabric</td>\n",
       "      <td></td>\n",
       "      <td>1</td>\n",
       "    </tr>\n",
       "    <tr>\n",
       "      <th>219</th>\n",
       "      <td>5</td>\n",
       "      <td>29-Jul-18</td>\n",
       "      <td>Sandstone Fabric</td>\n",
       "      <td></td>\n",
       "      <td>1</td>\n",
       "    </tr>\n",
       "    <tr>\n",
       "      <th>220</th>\n",
       "      <td>5</td>\n",
       "      <td>29-Jul-18</td>\n",
       "      <td>Heather Gray Fabric</td>\n",
       "      <td>Cool</td>\n",
       "      <td>1</td>\n",
       "    </tr>\n",
       "    <tr>\n",
       "      <th>...</th>\n",
       "      <td>...</td>\n",
       "      <td>...</td>\n",
       "      <td>...</td>\n",
       "      <td>...</td>\n",
       "      <td>...</td>\n",
       "    </tr>\n",
       "    <tr>\n",
       "      <th>3145</th>\n",
       "      <td>5</td>\n",
       "      <td>30-Jul-18</td>\n",
       "      <td>Black  Dot</td>\n",
       "      <td>Perfect for kids, adults and everyone in betwe...</td>\n",
       "      <td>1</td>\n",
       "    </tr>\n",
       "    <tr>\n",
       "      <th>3146</th>\n",
       "      <td>5</td>\n",
       "      <td>30-Jul-18</td>\n",
       "      <td>Black  Dot</td>\n",
       "      <td>Listening to music, searching locations, check...</td>\n",
       "      <td>1</td>\n",
       "    </tr>\n",
       "    <tr>\n",
       "      <th>3147</th>\n",
       "      <td>5</td>\n",
       "      <td>30-Jul-18</td>\n",
       "      <td>Black  Dot</td>\n",
       "      <td>I do love these things, i have them running my...</td>\n",
       "      <td>1</td>\n",
       "    </tr>\n",
       "    <tr>\n",
       "      <th>3148</th>\n",
       "      <td>5</td>\n",
       "      <td>30-Jul-18</td>\n",
       "      <td>White  Dot</td>\n",
       "      <td>Only complaint I have is that the sound qualit...</td>\n",
       "      <td>1</td>\n",
       "    </tr>\n",
       "    <tr>\n",
       "      <th>3149</th>\n",
       "      <td>4</td>\n",
       "      <td>29-Jul-18</td>\n",
       "      <td>Black  Dot</td>\n",
       "      <td>Good</td>\n",
       "      <td>1</td>\n",
       "    </tr>\n",
       "  </tbody>\n",
       "</table>\n",
       "<p>849 rows × 5 columns</p>\n",
       "</div>"
      ]
     },
     "execution_count": 22,
     "metadata": {},
     "output_type": "execute_result"
    }
   ],
   "execution_count": 22
  },
  {
   "metadata": {},
   "cell_type": "markdown",
   "source": [
    "## Class Imbalance\n",
    "\n",
    "class imbalance is when the distribution of classes in the dataset is not uniform.\n",
    "\n",
    "* find class imbalance in the columns you are interested in"
   ],
   "id": "6d43b5533e2c858d"
  },
  {
   "metadata": {
    "ExecuteTime": {
     "end_time": "2024-07-15T13:01:52.684532Z",
     "start_time": "2024-07-15T13:01:52.629448Z"
    }
   },
   "cell_type": "code",
   "source": "data[\"rating\"].value_counts().plot(kind=\"bar\")",
   "id": "518e7e07177887b9",
   "outputs": [
    {
     "data": {
      "text/plain": [
       "<Axes: xlabel='rating'>"
      ]
     },
     "execution_count": 11,
     "metadata": {},
     "output_type": "execute_result"
    },
    {
     "data": {
      "text/plain": [
       "<Figure size 640x480 with 1 Axes>"
      ],
      "image/png": "[encoded data removed]"
     },
     "metadata": {},
     "output_type": "display_data"
    }
   ],
   "execution_count": 11
  },
  {
   "metadata": {
    "ExecuteTime": {
     "end_time": "2024-07-15T13:01:55.167999Z",
     "start_time": "2024-07-15T13:01:55.108728Z"
    }
   },
   "cell_type": "code",
   "source": "sns.barplot(data[\"rating\"].value_counts())",
   "id": "49f13c2df024fb1f",
   "outputs": [
    {
     "data": {
      "text/plain": [
       "<Axes: xlabel='rating', ylabel='count'>"
      ]
     },
     "execution_count": 12,
     "metadata": {},
     "output_type": "execute_result"
    },
    {
     "data": {
      "text/plain": [
       "<Figure size 640x480 with 1 Axes>"
      ],
      "image/png": "[encoded data removed]"
     },
     "metadata": {},
     "output_type": "display_data"
    }
   ],
   "execution_count": 12
  },
  {
   "metadata": {
    "ExecuteTime": {
     "end_time": "2024-07-09T20:36:45.326474Z",
     "start_time": "2024-07-09T20:36:45.280224Z"
    }
   },
   "cell_type": "code",
   "source": "data[\"feedback\"].value_counts().plot(kind=\"bar\")",
   "id": "8834742272b40bd7",
   "outputs": [
    {
     "data": {
      "text/plain": [
       "<Axes: xlabel='feedback'>"
      ]
     },
     "execution_count": 24,
     "metadata": {},
     "output_type": "execute_result"
    },
    {
     "data": {
      "text/plain": [
       "<Figure size 640x480 with 1 Axes>"
      ],
      "image/png": "[encoded data removed]"
     },
     "metadata": {},
     "output_type": "display_data"
    }
   ],
   "execution_count": 24
  },
  {
   "metadata": {
    "ExecuteTime": {
     "end_time": "2024-07-09T20:37:38.887718Z",
     "start_time": "2024-07-09T20:37:38.808014Z"
    }
   },
   "cell_type": "code",
   "source": "data[\"variation\"].value_counts().plot(kind=\"bar\")",
   "id": "b3898148e1f8fee3",
   "outputs": [
    {
     "data": {
      "text/plain": [
       "<Axes: xlabel='variation'>"
      ]
     },
     "execution_count": 25,
     "metadata": {},
     "output_type": "execute_result"
    },
    {
     "data": {
      "text/plain": [
       "<Figure size 640x480 with 1 Axes>"
      ],
      "image/png": "[encoded data removed]"
     },
     "metadata": {},
     "output_type": "display_data"
    }
   ],
   "execution_count": 25
  },
  {
   "metadata": {
    "ExecuteTime": {
     "end_time": "2024-07-09T20:39:38.184227Z",
     "start_time": "2024-07-09T20:39:38.140519Z"
    }
   },
   "cell_type": "code",
   "source": "data[\"feedback\"].value_counts().plot(kind=\"bar\")",
   "id": "f6b9ff88c15b514c",
   "outputs": [
    {
     "data": {
      "text/plain": [
       "<Axes: xlabel='feedback'>"
      ]
     },
     "execution_count": 29,
     "metadata": {},
     "output_type": "execute_result"
    },
    {
     "data": {
      "text/plain": [
       "<Figure size 640x480 with 1 Axes>"
      ],
      "image/png": "[encoded data removed]"
     },
     "metadata": {},
     "output_type": "display_data"
    }
   ],
   "execution_count": 29
  },
  {
   "metadata": {},
   "cell_type": "code",
   "outputs": [],
   "execution_count": null,
   "source": "",
   "id": "7d4db6ca1b2da9b8"
  },
  {
   "metadata": {},
   "cell_type": "markdown",
   "source": [
    "## Data Distribution\n",
    "\n",
    "Data distribution is the spread of data in a dataset.\n",
    "\n",
    "* find the distribution of the columns you are interested in"
   ],
   "id": "47ff50143e848d14"
  },
  {
   "metadata": {
    "ExecuteTime": {
     "end_time": "2024-07-09T20:42:45.381582Z",
     "start_time": "2024-07-09T20:42:45.378551Z"
    }
   },
   "cell_type": "code",
   "source": "data[\"date\"].value_counts()\n",
   "id": "3a3e33fe2490bb2a",
   "outputs": [
    {
     "data": {
      "text/plain": [
       "date\n",
       "30-Jul-18    1603\n",
       "29-Jul-18     482\n",
       "28-Jul-18     250\n",
       "26-Jul-18      85\n",
       "31-Jul-18      81\n",
       "             ... \n",
       "2-Jun-18        2\n",
       "9-Jun-18        1\n",
       "29-May-18       1\n",
       "4-Jun-18        1\n",
       "13-Jun-18       1\n",
       "Name: count, Length: 77, dtype: int64"
      ]
     },
     "execution_count": 36,
     "metadata": {},
     "output_type": "execute_result"
    }
   ],
   "execution_count": 36
  },
  {
   "metadata": {
    "ExecuteTime": {
     "end_time": "2024-07-09T20:42:54.132122Z",
     "start_time": "2024-07-09T20:42:53.891483Z"
    }
   },
   "cell_type": "code",
   "source": "data[\"date\"].value_counts().plot(kind=\"bar\")",
   "id": "c1224d00e30a652b",
   "outputs": [
    {
     "data": {
      "text/plain": [
       "<Axes: xlabel='date'>"
      ]
     },
     "execution_count": 37,
     "metadata": {},
     "output_type": "execute_result"
    },
    {
     "data": {
      "text/plain": [
       "<Figure size 640x480 with 1 Axes>"
      ],
      "image/png": "[encoded data removed]"
     },
     "metadata": {},
     "output_type": "display_data"
    }
   ],
   "execution_count": 37
  },
  {
   "metadata": {},
   "cell_type": "code",
   "outputs": [],
   "execution_count": null,
   "source": "",
   "id": "7b19bbbde55056da"
  },
  {
   "metadata": {},
   "cell_type": "markdown",
   "source": [
    "## Outliers\n",
    "\n",
    "One way to detect outliers is to use the IQR method.\n",
    "\n",
    "The IQR method is based on the IQR score. The IQR score is the difference between the 75th percentile and the 25th percentile of the data. \n",
    "\n",
    "The IQR score is then multiplied by 1.5 and added to the 75th percentile and subtracted from the 25th percentile. \n",
    "\n",
    "Any data points that fall below the 25th percentile - 1.5 * IQR score or above the 75th percentile + 1.5 * IQR score are considered outliers."
   ],
   "id": "80d15a185b96fcbc"
  },
  {
   "metadata": {
    "ExecuteTime": {
     "end_time": "2024-07-09T20:45:59.452662Z",
     "start_time": "2024-07-09T20:45:59.450173Z"
    }
   },
   "cell_type": "code",
   "source": "Q1 = data[\"rating\"].quantile(0.25)",
   "id": "237c70469e2edee4",
   "outputs": [],
   "execution_count": 42
  },
  {
   "metadata": {
    "ExecuteTime": {
     "end_time": "2024-07-09T20:46:08.738505Z",
     "start_time": "2024-07-09T20:46:08.736027Z"
    }
   },
   "cell_type": "code",
   "source": "Q3 = data[\"rating\"].quantile(0.75)",
   "id": "cb00192af8d3eb39",
   "outputs": [],
   "execution_count": 44
  },
  {
   "metadata": {
    "ExecuteTime": {
     "end_time": "2024-07-09T20:46:11.849027Z",
     "start_time": "2024-07-09T20:46:11.846916Z"
    }
   },
   "cell_type": "code",
   "source": "IQR = Q3 - Q1",
   "id": "d3bcd36c32aa0a1a",
   "outputs": [],
   "execution_count": 45
  },
  {
   "metadata": {
    "ExecuteTime": {
     "end_time": "2024-07-09T20:46:17.254195Z",
     "start_time": "2024-07-09T20:46:17.252538Z"
    }
   },
   "cell_type": "code",
   "source": "lower_bound = Q1 - 1.5 * IQR",
   "id": "ec18112d3f9c9b85",
   "outputs": [],
   "execution_count": 46
  },
  {
   "metadata": {
    "ExecuteTime": {
     "end_time": "2024-07-09T20:46:18.912220Z",
     "start_time": "2024-07-09T20:46:18.910368Z"
    }
   },
   "cell_type": "code",
   "source": "upper_bound = Q3 + 1.5 * IQR",
   "id": "8f76e12b0d34d82a",
   "outputs": [],
   "execution_count": 47
  },
  {
   "metadata": {
    "ExecuteTime": {
     "end_time": "2024-07-09T20:46:21.666741Z",
     "start_time": "2024-07-09T20:46:21.664272Z"
    }
   },
   "cell_type": "code",
   "source": "outliers = data[(data[\"rating\"] < lower_bound) | (data[\"rating\"] > upper_bound)]",
   "id": "c5cafb33259b965a",
   "outputs": [],
   "execution_count": 48
  },
  {
   "metadata": {
    "ExecuteTime": {
     "end_time": "2024-07-09T20:46:22.809603Z",
     "start_time": "2024-07-09T20:46:22.805360Z"
    }
   },
   "cell_type": "code",
   "source": "outliers",
   "id": "2f298f612ae67cf1",
   "outputs": [
    {
     "data": {
      "text/plain": [
       "      rating       date             variation  \\\n",
       "46         2  30-Jul-18      Charcoal Fabric    \n",
       "111        2  30-Jul-18      Charcoal Fabric    \n",
       "141        1  30-Jul-18      Charcoal Fabric    \n",
       "162        1  30-Jul-18     Sandstone Fabric    \n",
       "176        2  30-Jul-18  Heather Gray Fabric    \n",
       "...      ...        ...                   ...   \n",
       "3047       1  30-Jul-18            Black  Dot   \n",
       "3048       1  30-Jul-18            White  Dot   \n",
       "3067       2  30-Jul-18            Black  Dot   \n",
       "3091       1  30-Jul-18            Black  Dot   \n",
       "3096       1  30-Jul-18            White  Dot   \n",
       "\n",
       "                                       verified_reviews  feedback  \n",
       "46    It's like Siri, in fact, Siri answers more acc...         0  \n",
       "111   Sound is terrible if u want good music too get...         0  \n",
       "141                                  Not much features.         0  \n",
       "162   Stopped working after 2 weeks ,didn't follow c...         0  \n",
       "176                                Sad joke. Worthless.         0  \n",
       "...                                                 ...       ...  \n",
       "3047  Echo Dot responds to us when we aren't even ta...         0  \n",
       "3048              NOT CONNECTED TO MY PHONE PLAYLIST :(         0  \n",
       "3067  The only negative we have on this product is t...         0  \n",
       "3091                                  I didn’t order it         0  \n",
       "3096  The product sounded the same as the emoji spea...         0  \n",
       "\n",
       "[257 rows x 5 columns]"
      ],
      "text/html": [
       "<div>\n",
       "<style scoped>\n",
       "    .dataframe tbody tr th:only-of-type {\n",
       "        vertical-align: middle;\n",
       "    }\n",
       "\n",
       "    .dataframe tbody tr th {\n",
       "        vertical-align: top;\n",
       "    }\n",
       "\n",
       "    .dataframe thead th {\n",
       "        text-align: right;\n",
       "    }\n",
       "</style>\n",
       "<table border=\"1\" class=\"dataframe\">\n",
       "  <thead>\n",
       "    <tr style=\"text-align: right;\">\n",
       "      <th></th>\n",
       "      <th>rating</th>\n",
       "      <th>date</th>\n",
       "      <th>variation</th>\n",
       "      <th>verified_reviews</th>\n",
       "      <th>feedback</th>\n",
       "    </tr>\n",
       "  </thead>\n",
       "  <tbody>\n",
       "    <tr>\n",
       "      <th>46</th>\n",
       "      <td>2</td>\n",
       "      <td>30-Jul-18</td>\n",
       "      <td>Charcoal Fabric</td>\n",
       "      <td>It's like Siri, in fact, Siri answers more acc...</td>\n",
       "      <td>0</td>\n",
       "    </tr>\n",
       "    <tr>\n",
       "      <th>111</th>\n",
       "      <td>2</td>\n",
       "      <td>30-Jul-18</td>\n",
       "      <td>Charcoal Fabric</td>\n",
       "      <td>Sound is terrible if u want good music too get...</td>\n",
       "      <td>0</td>\n",
       "    </tr>\n",
       "    <tr>\n",
       "      <th>141</th>\n",
       "      <td>1</td>\n",
       "      <td>30-Jul-18</td>\n",
       "      <td>Charcoal Fabric</td>\n",
       "      <td>Not much features.</td>\n",
       "      <td>0</td>\n",
       "    </tr>\n",
       "    <tr>\n",
       "      <th>162</th>\n",
       "      <td>1</td>\n",
       "      <td>30-Jul-18</td>\n",
       "      <td>Sandstone Fabric</td>\n",
       "      <td>Stopped working after 2 weeks ,didn't follow c...</td>\n",
       "      <td>0</td>\n",
       "    </tr>\n",
       "    <tr>\n",
       "      <th>176</th>\n",
       "      <td>2</td>\n",
       "      <td>30-Jul-18</td>\n",
       "      <td>Heather Gray Fabric</td>\n",
       "      <td>Sad joke. Worthless.</td>\n",
       "      <td>0</td>\n",
       "    </tr>\n",
       "    <tr>\n",
       "      <th>...</th>\n",
       "      <td>...</td>\n",
       "      <td>...</td>\n",
       "      <td>...</td>\n",
       "      <td>...</td>\n",
       "      <td>...</td>\n",
       "    </tr>\n",
       "    <tr>\n",
       "      <th>3047</th>\n",
       "      <td>1</td>\n",
       "      <td>30-Jul-18</td>\n",
       "      <td>Black  Dot</td>\n",
       "      <td>Echo Dot responds to us when we aren't even ta...</td>\n",
       "      <td>0</td>\n",
       "    </tr>\n",
       "    <tr>\n",
       "      <th>3048</th>\n",
       "      <td>1</td>\n",
       "      <td>30-Jul-18</td>\n",
       "      <td>White  Dot</td>\n",
       "      <td>NOT CONNECTED TO MY PHONE PLAYLIST :(</td>\n",
       "      <td>0</td>\n",
       "    </tr>\n",
       "    <tr>\n",
       "      <th>3067</th>\n",
       "      <td>2</td>\n",
       "      <td>30-Jul-18</td>\n",
       "      <td>Black  Dot</td>\n",
       "      <td>The only negative we have on this product is t...</td>\n",
       "      <td>0</td>\n",
       "    </tr>\n",
       "    <tr>\n",
       "      <th>3091</th>\n",
       "      <td>1</td>\n",
       "      <td>30-Jul-18</td>\n",
       "      <td>Black  Dot</td>\n",
       "      <td>I didn’t order it</td>\n",
       "      <td>0</td>\n",
       "    </tr>\n",
       "    <tr>\n",
       "      <th>3096</th>\n",
       "      <td>1</td>\n",
       "      <td>30-Jul-18</td>\n",
       "      <td>White  Dot</td>\n",
       "      <td>The product sounded the same as the emoji spea...</td>\n",
       "      <td>0</td>\n",
       "    </tr>\n",
       "  </tbody>\n",
       "</table>\n",
       "<p>257 rows × 5 columns</p>\n",
       "</div>"
      ]
     },
     "execution_count": 49,
     "metadata": {},
     "output_type": "execute_result"
    }
   ],
   "execution_count": 49
  },
  {
   "metadata": {},
   "cell_type": "code",
   "outputs": [],
   "execution_count": null,
   "source": "",
   "id": "e093207693a4f16c"
  },
  {
   "metadata": {},
   "cell_type": "markdown",
   "source": "## Correlation",
   "id": "a72914f339913ee2"
  },
  {
   "metadata": {
    "ExecuteTime": {
     "end_time": "2024-07-10T14:36:50.479247Z",
     "start_time": "2024-07-10T14:36:50.475349Z"
    }
   },
   "cell_type": "code",
   "source": "data.select_dtypes(include=[\"int64\", \"float64\"]).corr()",
   "id": "9b169ac884bf142a",
   "outputs": [
    {
     "data": {
      "text/plain": [
       "            rating  feedback\n",
       "rating    1.000000  0.861968\n",
       "feedback  0.861968  1.000000"
      ],
      "text/html": [
       "<div>\n",
       "<style scoped>\n",
       "    .dataframe tbody tr th:only-of-type {\n",
       "        vertical-align: middle;\n",
       "    }\n",
       "\n",
       "    .dataframe tbody tr th {\n",
       "        vertical-align: top;\n",
       "    }\n",
       "\n",
       "    .dataframe thead th {\n",
       "        text-align: right;\n",
       "    }\n",
       "</style>\n",
       "<table border=\"1\" class=\"dataframe\">\n",
       "  <thead>\n",
       "    <tr style=\"text-align: right;\">\n",
       "      <th></th>\n",
       "      <th>rating</th>\n",
       "      <th>feedback</th>\n",
       "    </tr>\n",
       "  </thead>\n",
       "  <tbody>\n",
       "    <tr>\n",
       "      <th>rating</th>\n",
       "      <td>1.000000</td>\n",
       "      <td>0.861968</td>\n",
       "    </tr>\n",
       "    <tr>\n",
       "      <th>feedback</th>\n",
       "      <td>0.861968</td>\n",
       "      <td>1.000000</td>\n",
       "    </tr>\n",
       "  </tbody>\n",
       "</table>\n",
       "</div>"
      ]
     },
     "execution_count": 51,
     "metadata": {},
     "output_type": "execute_result"
    }
   ],
   "execution_count": 51
  },
  {
   "metadata": {},
   "cell_type": "code",
   "outputs": [],
   "execution_count": null,
   "source": "",
   "id": "36ad0c8df42c877b"
  },
  {
   "metadata": {},
   "cell_type": "markdown",
   "source": [
    "## Feature Engineering\n",
    "\n",
    "Feature engineering is the process of transforming raw data into features that better represent the underlying problem to the predictive models, resulting in improved model accuracy on unseen data.\n",
    "\n",
    "* Feature importance\n",
    "\n",
    " * Question: Does stop words ... ?\n",
    "\n",
    " * Question: Does the length of the review/text ... ?"
   ],
   "id": "a5e817d4187ffa2b"
  },
  {
   "metadata": {},
   "cell_type": "code",
   "outputs": [],
   "execution_count": null,
   "source": "",
   "id": "2f7bed6beae735bd"
  },
  {
   "metadata": {},
   "cell_type": "markdown",
   "source": [
    "# Practice\n",
    "\n",
    "For each dataset, perform EDA:\n",
    "\n",
    "* [Amazon Reviews](../assets/amazon_reviews.csv)\n",
    "* [Twitter](../assets/twitter.csv)\n",
    "* [Spam](../assets/spam.csv)\n",
    "* [IMDB](../assets/IMDB%20Dataset.csv)\n",
    "\n",
    "Create a new notebook called `<Data Set Name>_EDA.ipynb` and save it in the `notebooks/EDA` directory."
   ],
   "id": "b291444f73e38979"
  },
  {
   "metadata": {},
   "cell_type": "code",
   "outputs": [],
   "execution_count": null,
   "source": "",
   "id": "dcd354011cbed792"
  }
 ],
 "metadata": {
  "kernelspec": {
   "display_name": "Python 3",
   "language": "python",
   "name": "python3"
  },
  "language_info": {
   "codemirror_mode": {
    "name": "ipython",
    "version": 2
   },
   "file_extension": ".py",
   "mimetype": "text/x-python",
   "name": "python",
   "nbconvert_exporter": "python",
   "pygments_lexer": "ipython2",
   "version": "2.7.6"
  }
 },
 "nbformat": 4,
 "nbformat_minor": 5
}
